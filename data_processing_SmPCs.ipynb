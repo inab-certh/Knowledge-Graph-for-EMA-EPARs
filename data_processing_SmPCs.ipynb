{
 "cells": [
  {
   "cell_type": "markdown",
   "id": "25b6f5b4c9420ac4",
   "metadata": {
    "collapsed": false,
    "jupyter": {
     "outputs_hidden": false
    }
   },
   "source": [
    "## European Medicine Agency (EMA)\n",
    "\n",
    "The European Medicines Agency (EMA) is a decentralized agency of the European Union (EU) responsible for the scientific evaluation, supervision, and safety monitoring of medicines in the EU. EMA plays a crucial role in the public health domain by ensuring that all medicines available on the EU market are safe, effective, and of high quality."
   ]
  },
  {
   "cell_type": "markdown",
   "id": "b654ee0d8de31b26",
   "metadata": {
    "collapsed": false,
    "jupyter": {
     "outputs_hidden": false
    }
   },
   "source": [
    "## Summary of product characteristics (SmPC)\n",
    "\n",
    "A document describing the properties and the officially approved conditions of use of a medicine. Summaries of product characteristics form the basis of information for healthcare professionals on how to use the medicine safely and effectively. Abbreviated as SmPC. \n",
    "\n",
    "<br/>\n",
    "\n",
    "### Structure of an SmPC\n",
    "The structure of the SmPC is defined by the European pharmaceutical legislation. The information included in the SmPC should be product specific and can be cross-referenced to avoid any redundancy. It should be documented in a clear language and should not lead to any ambiguity. The SmPC is divided into 6 major sections:\n",
    "\n",
    "1. Name of the product\n",
    "2. Composition\n",
    "3. Pharmaceutical Form\n",
    "4. Clinical particulars – Includes therapeutic indications, recommendation for dosages and safety information\n",
    "5. Pharmacological properties – Takes into account the therapeutic indications of the clinical elements and their potential adverse drug reactions\n",
    "6. Pharmaceutical particulars – Includes Regulatory information related to the drug\n",
    "\n",
    "<br/>\n",
    "\n",
    "<img src=\"./images/structureSmPC.png\" width=\"600px;\">\n",
    "\n",
    "<br/>\n",
    "<br/>\n",
    "\n",
    "### Prescribing medicines for special populations\n",
    "When prescribing medication to specific groups like children, the elderly, pregnant and breastfeeding women, and individuals with kidney or liver issues, it's\n",
    "crucial to exercise caution. The public documentation for medicines, especially the Summary of Product Characteristics (SmPC) and the package leaflets (PLs), often includes many of these essential precautions.\n",
    "<br/>\n",
    "\n",
    "<img src=\"./images/SmPC_authorization_process.png\" width=\"800px;\">\n",
    "\n",
    "When seeking marketing authorization, a company submits an application dossier that contains instructions for healthcare professionals on the safe and effective use of the medicine. In Europe, this is referred to as the Summary of Product Characteristics (SmPC). The SmPC must be regularly updated over the medicine's lifecycle to reflect new data on efficacy or safety. The figure above illustrates the connection between a medicine's development, the regulatory dossier with the initial proposed SmPC, the SmPC that gets approved, and subsequent updates to the SmPC.\n",
    "\n",
    "\n",
    "[1]: https://www.ema.europa.eu/en/glossary/summary-product-characteristics\n",
    "[2]: https://www.freyrsolutions.com/what-is-an-smpc\n"
   ]
  },
  {
   "cell_type": "markdown",
   "id": "fe2052a2-ea36-4362-8e7f-31fdf36864c0",
   "metadata": {},
   "source": [
    "### Project Overview\n",
    "\n",
    "Using natural language processing (NLP) techniquesto automatically extract adverse drug reactions from such unstructured textual information helps clinicalexperts to effectively and efficiently use them in daily practices. Such techniques have been developed for Structured Product Labels from the Food and Drug Administration (FDA), but there is no researchfocusing on extracting from the Summary of Product Characteristics.\n",
    "\n",
    "\n",
    "In this work, we built a naturallanguage processing pipeline that automatically scrapes the summary of product characteristics onlineand then extracts adverse drug reactions from them.\n",
    "\n",
    "<img src=\"./images/Project_Overview.png\" width=\"500px;\">"
   ]
  },
  {
   "cell_type": "markdown",
   "id": "ebab7948-13c2-465e-9156-15c0838d8ac9",
   "metadata": {},
   "source": [
    "##  STEP 1: Download medicine data and import them to Database\n",
    "You can download the European Medicines Agency's (EMA) medicine-related data published on this website in Excel table format from this page. EMA updates these medicine data tables once a day. The following two files need to be downloaded:\n",
    "\n",
    "<br/>\n",
    "\n",
    "* The file listing all medicines, **including the withdrawn and not authorised ones**, named medicines_output_european_public_assessment_reports_en.xlsx, found [here](https://www.ema.europa.eu/sites/default/files/Medicines_output_european_public_assessment_reports.xlsx)\n",
    "\n",
    "and\n",
    "\n",
    "* The file listing **all the URLs for the SmPCs**, named Product information URLs for member product-information-urls-member-states_en.xls, found [here](https://www.ema.europa.eu/documents/product-information/product-information-urls-member-states_en.xls)\n",
    "\n",
    "\n",
    "##### Disclaimer\n",
    "The database is used purely to join the two csv. The view can also be done with dataframes without the need to use the database\n",
    "\n",
    "[3]: https://toolbox.eupati.eu/resources/prescribing-medicines-for-special-populations/?print=print\n",
    "[4]: https://www.ema.europa.eu/en/homepage\n"
   ]
  },
  {
   "cell_type": "code",
   "execution_count": 36,
   "id": "e9690c5cdcdb3db",
   "metadata": {
    "ExecuteTime": {
     "end_time": "2023-12-15T08:58:48.997884Z",
     "start_time": "2023-12-15T08:58:48.992217Z"
    },
    "collapsed": false,
    "jupyter": {
     "outputs_hidden": false
    }
   },
   "outputs": [],
   "source": [
    "import os\n",
    "import pandas as pd\n",
    "import re\n",
    "import sqlite3\n",
    "\n",
    "# Define the folder that you store the required xls\n",
    "PATH = \"./data\"\n",
    "\n",
    "MEDICINE_LIST = \"medicines_output_european_public_assessment_reports_en.xlsx\"\n",
    "PRODUCT_URLS_LIST = \"product-information-urls-member-states_en.xls\""
   ]
  },
  {
   "cell_type": "code",
   "execution_count": 2,
   "id": "a3784fc65e25e785",
   "metadata": {
    "ExecuteTime": {
     "end_time": "2023-12-15T08:50:53.828681Z",
     "start_time": "2023-12-15T08:50:53.179777Z"
    },
    "collapsed": false,
    "jupyter": {
     "outputs_hidden": false
    }
   },
   "outputs": [
    {
     "data": {
      "text/html": [
       "<div>\n",
       "<style scoped>\n",
       "    .dataframe tbody tr th:only-of-type {\n",
       "        vertical-align: middle;\n",
       "    }\n",
       "\n",
       "    .dataframe tbody tr th {\n",
       "        vertical-align: top;\n",
       "    }\n",
       "\n",
       "    .dataframe thead th {\n",
       "        text-align: right;\n",
       "    }\n",
       "</style>\n",
       "<table border=\"1\" class=\"dataframe\">\n",
       "  <thead>\n",
       "    <tr style=\"text-align: right;\">\n",
       "      <th></th>\n",
       "      <th>Category</th>\n",
       "      <th>Medicine name</th>\n",
       "      <th>Therapeutic area</th>\n",
       "      <th>International non-proprietary name (INN) / common name</th>\n",
       "      <th>Active substance</th>\n",
       "      <th>Product number</th>\n",
       "      <th>Patient safety</th>\n",
       "      <th>Authorisation status</th>\n",
       "      <th>ATC code</th>\n",
       "      <th>Additional monitoring</th>\n",
       "      <th>...</th>\n",
       "      <th>Vet pharmacotherapeutic group</th>\n",
       "      <th>Date of opinion</th>\n",
       "      <th>Decision date</th>\n",
       "      <th>Revision number</th>\n",
       "      <th>Condition / indication</th>\n",
       "      <th>Species</th>\n",
       "      <th>ATCvet code</th>\n",
       "      <th>First published</th>\n",
       "      <th>Revision date</th>\n",
       "      <th>URL</th>\n",
       "    </tr>\n",
       "  </thead>\n",
       "  <tbody>\n",
       "    <tr>\n",
       "      <th>0</th>\n",
       "      <td>Human</td>\n",
       "      <td>Ryeqo</td>\n",
       "      <td>Leiomyoma</td>\n",
       "      <td>relugolix, estradiol, norethisterone acetate</td>\n",
       "      <td>Relugolix, norethisterone acetate, estradiol h...</td>\n",
       "      <td>EMEA/H/C/005267</td>\n",
       "      <td>no</td>\n",
       "      <td>Authorised</td>\n",
       "      <td>H01CC54</td>\n",
       "      <td>yes</td>\n",
       "      <td>...</td>\n",
       "      <td>NaN</td>\n",
       "      <td>2021-07-16 00:00:00</td>\n",
       "      <td>2023-10-30 01:00:00</td>\n",
       "      <td>6.0</td>\n",
       "      <td>Ryeqo is indicated in adult women of reproduct...</td>\n",
       "      <td>NaN</td>\n",
       "      <td>NaN</td>\n",
       "      <td>2021-05-19 14:14:00</td>\n",
       "      <td>2023-12-04 18:41:00</td>\n",
       "      <td>https://www.ema.europa.eu/en/medicines/human/E...</td>\n",
       "    </tr>\n",
       "    <tr>\n",
       "      <th>1</th>\n",
       "      <td>Human</td>\n",
       "      <td>Yesafili</td>\n",
       "      <td>Macular Edema;  Retinal Vein Occlusion;  Diabe...</td>\n",
       "      <td>aflibercept</td>\n",
       "      <td>aflibercept</td>\n",
       "      <td>EMEA/H/C/006022</td>\n",
       "      <td>no</td>\n",
       "      <td>Authorised</td>\n",
       "      <td>S01LA05</td>\n",
       "      <td>yes</td>\n",
       "      <td>...</td>\n",
       "      <td>NaN</td>\n",
       "      <td>2023-07-20 00:00:00</td>\n",
       "      <td>2023-11-29 01:00:00</td>\n",
       "      <td>1.0</td>\n",
       "      <td>Yesafili is indicated for adults for the treat...</td>\n",
       "      <td>NaN</td>\n",
       "      <td>NaN</td>\n",
       "      <td>2023-07-17 16:27:00</td>\n",
       "      <td>2023-12-04 18:15:00</td>\n",
       "      <td>https://www.ema.europa.eu/en/medicines/human/E...</td>\n",
       "    </tr>\n",
       "    <tr>\n",
       "      <th>2</th>\n",
       "      <td>Human</td>\n",
       "      <td>Leflunomide medac</td>\n",
       "      <td>Arthritis, Rheumatoid</td>\n",
       "      <td>leflunomide</td>\n",
       "      <td>leflunomide</td>\n",
       "      <td>EMEA/H/C/001227</td>\n",
       "      <td>no</td>\n",
       "      <td>Authorised</td>\n",
       "      <td>L04AA13</td>\n",
       "      <td>no</td>\n",
       "      <td>...</td>\n",
       "      <td>NaN</td>\n",
       "      <td>NaT</td>\n",
       "      <td>2023-10-31 01:00:00</td>\n",
       "      <td>19.0</td>\n",
       "      <td>Leflunomide is indicated for the treatment of ...</td>\n",
       "      <td>NaN</td>\n",
       "      <td>NaN</td>\n",
       "      <td>2018-01-30 14:10:00</td>\n",
       "      <td>2023-12-04 17:56:00</td>\n",
       "      <td>https://www.ema.europa.eu/en/medicines/human/E...</td>\n",
       "    </tr>\n",
       "    <tr>\n",
       "      <th>3</th>\n",
       "      <td>Human</td>\n",
       "      <td>Filgrastim Hexal</td>\n",
       "      <td>Neutropenia;  Hematopoietic Stem Cell Transpla...</td>\n",
       "      <td>filgrastim</td>\n",
       "      <td>filgrastim</td>\n",
       "      <td>EMEA/H/C/000918</td>\n",
       "      <td>no</td>\n",
       "      <td>Authorised</td>\n",
       "      <td>L03AA02</td>\n",
       "      <td>no</td>\n",
       "      <td>...</td>\n",
       "      <td>NaN</td>\n",
       "      <td>NaT</td>\n",
       "      <td>2023-11-30 01:00:00</td>\n",
       "      <td>24.0</td>\n",
       "      <td>Reduction in the duration of neutropenia and t...</td>\n",
       "      <td>NaN</td>\n",
       "      <td>NaN</td>\n",
       "      <td>2018-05-24 17:15:00</td>\n",
       "      <td>2023-12-04 17:43:00</td>\n",
       "      <td>https://www.ema.europa.eu/en/medicines/human/E...</td>\n",
       "    </tr>\n",
       "    <tr>\n",
       "      <th>4</th>\n",
       "      <td>Human</td>\n",
       "      <td>Opzelura</td>\n",
       "      <td>Vitiligo</td>\n",
       "      <td>ruxolitinib</td>\n",
       "      <td>ruxolitinib phosphate</td>\n",
       "      <td>EMEA/H/C/005843</td>\n",
       "      <td>no</td>\n",
       "      <td>Authorised</td>\n",
       "      <td>D11AH</td>\n",
       "      <td>no</td>\n",
       "      <td>...</td>\n",
       "      <td>NaN</td>\n",
       "      <td>2023-02-23 01:00:00</td>\n",
       "      <td>2023-10-19 00:00:00</td>\n",
       "      <td>2.0</td>\n",
       "      <td>Opzelura is indicated for the treatment of non...</td>\n",
       "      <td>NaN</td>\n",
       "      <td>NaN</td>\n",
       "      <td>2023-02-22 15:05:00</td>\n",
       "      <td>2023-12-04 17:35:00</td>\n",
       "      <td>https://www.ema.europa.eu/en/medicines/human/E...</td>\n",
       "    </tr>\n",
       "  </tbody>\n",
       "</table>\n",
       "<p>5 rows × 30 columns</p>\n",
       "</div>"
      ],
      "text/plain": [
       "  Category      Medicine name  \\\n",
       "0    Human              Ryeqo   \n",
       "1    Human           Yesafili   \n",
       "2    Human  Leflunomide medac   \n",
       "3    Human   Filgrastim Hexal   \n",
       "4    Human           Opzelura   \n",
       "\n",
       "                                    Therapeutic area  \\\n",
       "0                                          Leiomyoma   \n",
       "1  Macular Edema;  Retinal Vein Occlusion;  Diabe...   \n",
       "2                              Arthritis, Rheumatoid   \n",
       "3  Neutropenia;  Hematopoietic Stem Cell Transpla...   \n",
       "4                                           Vitiligo   \n",
       "\n",
       "  International non-proprietary name (INN) / common name  \\\n",
       "0       relugolix, estradiol, norethisterone acetate       \n",
       "1                                        aflibercept       \n",
       "2                                        leflunomide       \n",
       "3                                         filgrastim       \n",
       "4                                        ruxolitinib       \n",
       "\n",
       "                                    Active substance   Product number  \\\n",
       "0  Relugolix, norethisterone acetate, estradiol h...  EMEA/H/C/005267   \n",
       "1                                        aflibercept  EMEA/H/C/006022   \n",
       "2                                        leflunomide  EMEA/H/C/001227   \n",
       "3                                         filgrastim  EMEA/H/C/000918   \n",
       "4                              ruxolitinib phosphate  EMEA/H/C/005843   \n",
       "\n",
       "  Patient safety Authorisation status ATC code Additional monitoring  ...  \\\n",
       "0             no           Authorised  H01CC54                   yes  ...   \n",
       "1             no           Authorised  S01LA05                   yes  ...   \n",
       "2             no           Authorised  L04AA13                    no  ...   \n",
       "3             no           Authorised  L03AA02                    no  ...   \n",
       "4             no           Authorised    D11AH                    no  ...   \n",
       "\n",
       "  Vet pharmacotherapeutic group     Date of opinion       Decision date  \\\n",
       "0                           NaN 2021-07-16 00:00:00 2023-10-30 01:00:00   \n",
       "1                           NaN 2023-07-20 00:00:00 2023-11-29 01:00:00   \n",
       "2                           NaN                 NaT 2023-10-31 01:00:00   \n",
       "3                           NaN                 NaT 2023-11-30 01:00:00   \n",
       "4                           NaN 2023-02-23 01:00:00 2023-10-19 00:00:00   \n",
       "\n",
       "  Revision number                             Condition / indication Species  \\\n",
       "0             6.0  Ryeqo is indicated in adult women of reproduct...     NaN   \n",
       "1             1.0  Yesafili is indicated for adults for the treat...     NaN   \n",
       "2            19.0  Leflunomide is indicated for the treatment of ...     NaN   \n",
       "3            24.0  Reduction in the duration of neutropenia and t...     NaN   \n",
       "4             2.0  Opzelura is indicated for the treatment of non...     NaN   \n",
       "\n",
       "  ATCvet code     First published       Revision date  \\\n",
       "0         NaN 2021-05-19 14:14:00 2023-12-04 18:41:00   \n",
       "1         NaN 2023-07-17 16:27:00 2023-12-04 18:15:00   \n",
       "2         NaN 2018-01-30 14:10:00 2023-12-04 17:56:00   \n",
       "3         NaN 2018-05-24 17:15:00 2023-12-04 17:43:00   \n",
       "4         NaN 2023-02-22 15:05:00 2023-12-04 17:35:00   \n",
       "\n",
       "                                                 URL  \n",
       "0  https://www.ema.europa.eu/en/medicines/human/E...  \n",
       "1  https://www.ema.europa.eu/en/medicines/human/E...  \n",
       "2  https://www.ema.europa.eu/en/medicines/human/E...  \n",
       "3  https://www.ema.europa.eu/en/medicines/human/E...  \n",
       "4  https://www.ema.europa.eu/en/medicines/human/E...  \n",
       "\n",
       "[5 rows x 30 columns]"
      ]
     },
     "execution_count": 2,
     "metadata": {},
     "output_type": "execute_result"
    }
   ],
   "source": [
    "medicinesOutputData = pd.read_excel(os.path.join(PATH, MEDICINE_LIST))\n",
    "medicinesOutputData.head()"
   ]
  },
  {
   "cell_type": "code",
   "execution_count": 4,
   "id": "7c897773d11f4df2",
   "metadata": {
    "ExecuteTime": {
     "end_time": "2023-12-15T08:50:54.826492Z",
     "start_time": "2023-12-15T08:50:54.775409Z"
    },
    "collapsed": false,
    "jupyter": {
     "outputs_hidden": false
    }
   },
   "outputs": [
    {
     "data": {
      "text/html": [
       "<div>\n",
       "<style scoped>\n",
       "    .dataframe tbody tr th:only-of-type {\n",
       "        vertical-align: middle;\n",
       "    }\n",
       "\n",
       "    .dataframe tbody tr th {\n",
       "        vertical-align: top;\n",
       "    }\n",
       "\n",
       "    .dataframe thead th {\n",
       "        text-align: right;\n",
       "    }\n",
       "</style>\n",
       "<table border=\"1\" class=\"dataframe\">\n",
       "  <thead>\n",
       "    <tr style=\"text-align: right;\">\n",
       "      <th></th>\n",
       "      <th>ProductName</th>\n",
       "      <th>ProductNumber</th>\n",
       "      <th>Domain</th>\n",
       "      <th>LanguageCode</th>\n",
       "      <th>URL(oldwebsite)</th>\n",
       "      <th>URL(currentwebsite)</th>\n",
       "    </tr>\n",
       "  </thead>\n",
       "  <tbody>\n",
       "    <tr>\n",
       "      <th>0</th>\n",
       "      <td>Abasaglar (previouslyAbasria)</td>\n",
       "      <td>EMEA/H/C/002835</td>\n",
       "      <td>human</td>\n",
       "      <td>en</td>\n",
       "      <td>http://www.ema.europa.eu/docs/en_GB/document_l...</td>\n",
       "      <td>https://www.ema.europa.eu/en/documents/product...</td>\n",
       "    </tr>\n",
       "    <tr>\n",
       "      <th>1</th>\n",
       "      <td>Abecma</td>\n",
       "      <td>EMEA/H/C/004662</td>\n",
       "      <td>human</td>\n",
       "      <td>en</td>\n",
       "      <td>NaN</td>\n",
       "      <td>https://www.ema.europa.eu/en/documents/product...</td>\n",
       "    </tr>\n",
       "    <tr>\n",
       "      <th>2</th>\n",
       "      <td>Abevmy</td>\n",
       "      <td>EMEA/H/C/005327</td>\n",
       "      <td>human</td>\n",
       "      <td>en</td>\n",
       "      <td>NaN</td>\n",
       "      <td>https://www.ema.europa.eu/en/documents/product...</td>\n",
       "    </tr>\n",
       "    <tr>\n",
       "      <th>3</th>\n",
       "      <td>Abilify</td>\n",
       "      <td>EMEA/H/C/000471</td>\n",
       "      <td>human</td>\n",
       "      <td>en</td>\n",
       "      <td>http://www.ema.europa.eu/docs/en_GB/document_l...</td>\n",
       "      <td>https://www.ema.europa.eu/en/documents/product...</td>\n",
       "    </tr>\n",
       "    <tr>\n",
       "      <th>4</th>\n",
       "      <td>Abilify Maintena</td>\n",
       "      <td>EMEA/H/C/002755</td>\n",
       "      <td>human</td>\n",
       "      <td>en</td>\n",
       "      <td>http://www.ema.europa.eu/docs/en_GB/document_l...</td>\n",
       "      <td>https://www.ema.europa.eu/en/documents/product...</td>\n",
       "    </tr>\n",
       "  </tbody>\n",
       "</table>\n",
       "</div>"
      ],
      "text/plain": [
       "                     ProductName    ProductNumber Domain LanguageCode  \\\n",
       "0  Abasaglar (previouslyAbasria)  EMEA/H/C/002835  human           en   \n",
       "1                         Abecma  EMEA/H/C/004662  human           en   \n",
       "2                         Abevmy  EMEA/H/C/005327  human           en   \n",
       "3                        Abilify  EMEA/H/C/000471  human           en   \n",
       "4               Abilify Maintena  EMEA/H/C/002755  human           en   \n",
       "\n",
       "                                     URL(oldwebsite)  \\\n",
       "0  http://www.ema.europa.eu/docs/en_GB/document_l...   \n",
       "1                                                NaN   \n",
       "2                                                NaN   \n",
       "3  http://www.ema.europa.eu/docs/en_GB/document_l...   \n",
       "4  http://www.ema.europa.eu/docs/en_GB/document_l...   \n",
       "\n",
       "                                 URL(currentwebsite)  \n",
       "0  https://www.ema.europa.eu/en/documents/product...  \n",
       "1  https://www.ema.europa.eu/en/documents/product...  \n",
       "2  https://www.ema.europa.eu/en/documents/product...  \n",
       "3  https://www.ema.europa.eu/en/documents/product...  \n",
       "4  https://www.ema.europa.eu/en/documents/product...  "
      ]
     },
     "execution_count": 4,
     "metadata": {},
     "output_type": "execute_result"
    }
   ],
   "source": [
    "productInformationURLs = pd.read_excel(os.path.join(PATH, PRODUCT_URLS_LIST))\n",
    "productInformationURLs.head()"
   ]
  },
  {
   "cell_type": "code",
   "execution_count": 5,
   "id": "d561b9505df57df3",
   "metadata": {
    "collapsed": false,
    "jupyter": {
     "outputs_hidden": false
    }
   },
   "outputs": [
    {
     "data": {
      "text/plain": [
       "1928"
      ]
     },
     "execution_count": 5,
     "metadata": {},
     "output_type": "execute_result"
    }
   ],
   "source": [
    "conn = sqlite3.connect(os.path.join(PATH, \"SmPCs.db\"))\n",
    "\n",
    "medicinesOutputData.to_sql('emaMedicinesOP', conn, if_exists='replace', index=False)\n",
    "productInformationURLs.to_sql('emaProductInformationURLs', conn, if_exists='replace', index=False)"
   ]
  },
  {
   "cell_type": "markdown",
   "id": "22f965865733617c",
   "metadata": {
    "collapsed": false,
    "jupyter": {
     "outputs_hidden": false
    }
   },
   "source": [
    "## Step 2: Create csv with SmPCs URLs\n",
    "\n",
    " The actual SmPCs information will be extracted from the joinedHumanAuthorisedProductURLsONLY.csv file which contains the URLs for the authorised medicines for human use."
   ]
  },
  {
   "cell_type": "code",
   "execution_count": 6,
   "id": "a467495dd5a620ab",
   "metadata": {
    "collapsed": false,
    "jupyter": {
     "outputs_hidden": false
    }
   },
   "outputs": [],
   "source": [
    "joinedHumanAuthorisedProductURLsONLY = pd.read_sql(\"\"\"\n",
    "    SELECT [URL(currentwebsite)]\n",
    "    FROM emaMedicinesOP\n",
    "    LEFT JOIN emaProductInformationURLs \n",
    "    ON emaMedicinesOP.[Medicine name]=emaProductInformationURLs.[ProductName]\n",
    "    WHERE  emaMedicinesOP.Category='Human'\n",
    "      AND emaMedicinesOP.[Authorisation Status] ='Authorised';\n",
    "\"\"\", conn)\n",
    "\n",
    "joinedHumanAuthorisedProductURLsONLY.to_csv(os.path.join(PATH, \"joinedHumanAuthorisedProductURLsONLY.csv\"))"
   ]
  },
  {
   "cell_type": "markdown",
   "id": "ff9f9661d49f544c",
   "metadata": {
    "collapsed": false,
    "jupyter": {
     "outputs_hidden": false
    }
   },
   "source": [
    "## Step 3: Download SmPCs pdfs\n"
   ]
  },
  {
   "cell_type": "code",
   "execution_count": 8,
   "id": "3aac51489173a68b",
   "metadata": {
    "ExecuteTime": {
     "end_time": "2023-12-15T08:59:26.113487Z",
     "start_time": "2023-12-15T08:59:26.108956Z"
    },
    "collapsed": false,
    "jupyter": {
     "outputs_hidden": false
    }
   },
   "outputs": [],
   "source": [
    "import requests"
   ]
  },
  {
   "cell_type": "code",
   "execution_count": 25,
   "id": "821ec2209c251cb7",
   "metadata": {
    "ExecuteTime": {
     "end_time": "2023-12-14T16:25:59.723873Z",
     "start_time": "2023-12-14T16:25:59.711824Z"
    },
    "collapsed": false,
    "jupyter": {
     "outputs_hidden": false
    }
   },
   "outputs": [],
   "source": [
    "urlsDF = pd.read_csv(os.path.join(PATH, \"joinedHumanAuthorisedProductURLsONLY.csv\"))\n",
    "urlsDF.dropna(inplace = True)\n",
    "urls = urlsDF['URL(currentwebsite)'].tolist()"
   ]
  },
  {
   "cell_type": "code",
   "execution_count": 26,
   "id": "1246f236cc1dbfd2",
   "metadata": {
    "ExecuteTime": {
     "end_time": "2023-12-14T16:39:02.504299Z",
     "start_time": "2023-12-14T16:26:00.899267Z"
    },
    "collapsed": false,
    "jupyter": {
     "outputs_hidden": false
    }
   },
   "outputs": [
    {
     "name": "stdout",
     "output_type": "stream",
     "text": [
      "Failed to download the PDF: lytgobi-epar-product-information_en.pdf \n",
      "Failed to download the PDF: bortezomib-fresenius-kabi-epar-product-information_en.pdf \n"
     ]
    }
   ],
   "source": [
    "for url in urls:\n",
    "    response = requests.get(url)\n",
    "    \n",
    "    file_name = url.split('/')[-1]\n",
    "\n",
    "    if response.status_code == 200:\n",
    "        with open(os.path.join(PATH, \"pdfs\", file_name), 'wb') as pdf_file:\n",
    "            pdf_file.write(response.content)\n",
    "    else:\n",
    "        print(f\"Failed to download the PDF: {file_name}\")"
   ]
  },
  {
   "cell_type": "markdown",
   "id": "88e44826316516cb",
   "metadata": {
    "collapsed": false,
    "jupyter": {
     "outputs_hidden": false
    }
   },
   "source": [
    "### Step 4: Extract Tabulated Summary of Adverse Reactions from the 4.8 section \n",
    "\n",
    "This section should include all adverse reactions for which, after thorough assessment, a causal relationship between the medicinal product and the adverse event is at least a reasonable possibility. These ADRs should be all reactions from:\n",
    "* Clinical trials\n",
    "* Post-authorisation safety studies\n",
    "* Spontaneous reporting\n",
    "\n",
    "#####  The tabulated list of adverse reactions in section 4.8:\n",
    "* Introduce table with short paragraph stating source of safety database\n",
    "* Separate tables are acceptable in exceptional cases where adverse profiles markedly differ depending on the use of the product.\n",
    "\n",
    "#####  Structure of the table: general considerations\n",
    "\n",
    "* Table should be written according to MedDRA system organ classification (SOC)\n",
    "* A pragmatic approach to the location of terms should be taken in order to make the identification of adverse reactions simpler and clinically appropriate for the reader\n",
    "* Within each SOC, adverse reactions should be ranked under headings of frequency, most frequent reactions first\n",
    "* Frequency grouping, adverse reactions should be presented in order of decreasing seriousness\n",
    "\n",
    "##### Frequency Grouping:\n",
    "* Very common (≥1/10)\n",
    "* Common (≥1/100 to <1/10)\n",
    "* Uncommon (≥1/1,000 to <1/100)\n",
    "* Rare (≥1/10,000 to <1/1,000)\n",
    "* Very rare (<1/10,000)\n",
    "* Frequency not known (cannot be estimated from the available data)\n",
    "\n",
    "#### SmPCs Examples\n",
    "\n",
    "<img src=\"./images/SmPCs_example.png\" width=\"500px;\">\n",
    "\n",
    "\n",
    "## MedDRA\n",
    "MedDRA is a multilingual terminology allowing most users to operate in their native languages. The table below identifies the initial MedDRA version when each MedDRA language was made available to users. \n",
    "\n",
    "<br />\n",
    "\n",
    "<img src=\"./images/MedDRA_Hierarchy.png\" width=\"500px;\">\n",
    "\n",
    "<br />\n",
    "\n",
    "The most important reason to “code” data into a standardised terminology is to analyse it. A key benefit of MedDRA is in its support of straightforward as well as sophisticated analyses. MedDRA can be used to analyse individual medical events (e.g., “Influenza”) or issues involving a system, organ or aetiology (e.g., infections) using its hierarchical structure. MedDRA can be used for signal detection and monitoring of clinical syndromes whose symptoms encompass numerous systems or organs using its multiaxial hierarchy or through the special feature of Standardised MedDRA Queries.\n",
    "\n",
    "<br />\n",
    "\n",
    "### MedDRA Hierarchy\n",
    "\n",
    "The structure of MedDRA is very logical. There are five levels to the MedDRA hierarchy, arranged from very specific to very general.\n",
    "\n",
    "<br />\n",
    "\n",
    "Download [MedDRA codes](https://www.ema.europa.eu/en/documents/other/meddra-important-medical-event-terms-list-version-261_en.xlsx) and extract the unique values from the SOC Name column"
   ]
  },
  {
   "cell_type": "code",
   "execution_count": 9,
   "id": "919f7a90-3b85-46da-ad44-0682ac37769d",
   "metadata": {},
   "outputs": [],
   "source": [
    "medraSOC = pd.read_excel(os.path.join(PATH, \"MedDRA\", \"meddra-important-medical-event-terms-list-version-261_en.xlsx\"))\n",
    "socList = medraSOC['SOC Name'].unique()\n",
    "SOCListRegex = '(% s)' % '|'.join(socList)\n",
    "regex = re.compile(SOCListRegex)"
   ]
  },
  {
   "cell_type": "code",
   "execution_count": 10,
   "id": "fe6eb45f-65da-4b9d-a0f9-657fb416ddb3",
   "metadata": {},
   "outputs": [
    {
     "data": {
      "text/plain": [
       "re.compile(r'(Blood and lymphatic system disorders|Cardiac disorders|Congenital, familial and genetic disorders|Endocrine disorders|Eye disorders|Gastrointestinal disorders|Hepatobiliary disorders|Immune system disorders|Infections and infestations|Injury, poisoning and procedural complications|Investigations|Musculoskeletal and connective tissue disorders|Neoplasms benign, malignant and unspecified (incl cysts and polyps)|Nervous system disorders|Pregnancy, puerperium and perinatal conditions|Renal and urinary disorders|Reproductive system and breast disorders|Respiratory, thoracic and mediastinal disorders|Surgical and medical procedures|Vascular disorders|Ear and labyrinth disorders|General disorders and administration site conditions|Metabolism and nutrition disorders|Product issues|Psychiatric disorders|Skin and subcutaneous tissue disorders|Social circumstances)',\n",
       "           re.UNICODE)"
      ]
     },
     "execution_count": 10,
     "metadata": {},
     "output_type": "execute_result"
    }
   ],
   "source": [
    "regex"
   ]
  },
  {
   "cell_type": "code",
   "execution_count": 27,
   "id": "c22f4a08-881a-4c50-b76e-6b607bbc12c2",
   "metadata": {},
   "outputs": [],
   "source": [
    "filepath = \"./data/pdfs/velmetia-epar-product-information_en.pdf\""
   ]
  },
  {
   "cell_type": "code",
   "execution_count": 34,
   "id": "d109e71d-96f4-463d-a73e-418fd44f2cd4",
   "metadata": {},
   "outputs": [],
   "source": [
    "import camelot"
   ]
  },
  {
   "cell_type": "code",
   "execution_count": 58,
   "id": "28842dd7-a610-425e-880b-36751d556b35",
   "metadata": {},
   "outputs": [
    {
     "name": "stderr",
     "output_type": "stream",
     "text": [
      "/var/folders/ks/61tstkzx4rj7v0my891xbvx40000gn/T/ipykernel_37801/3718658741.py:20: UserWarning: This pattern is interpreted as a regular expression, and has match groups. To actually get the groups, use str.extract.\n",
      "  matches = df[0].str.contains(regex, regex=True)\n",
      "/var/folders/ks/61tstkzx4rj7v0my891xbvx40000gn/T/ipykernel_37801/3718658741.py:20: UserWarning: This pattern is interpreted as a regular expression, and has match groups. To actually get the groups, use str.extract.\n",
      "  matches = df[0].str.contains(regex, regex=True)\n",
      "/var/folders/ks/61tstkzx4rj7v0my891xbvx40000gn/T/ipykernel_37801/3718658741.py:20: UserWarning: This pattern is interpreted as a regular expression, and has match groups. To actually get the groups, use str.extract.\n",
      "  matches = df[0].str.contains(regex, regex=True)\n",
      "/var/folders/ks/61tstkzx4rj7v0my891xbvx40000gn/T/ipykernel_37801/3718658741.py:20: UserWarning: This pattern is interpreted as a regular expression, and has match groups. To actually get the groups, use str.extract.\n",
      "  matches = df[0].str.contains(regex, regex=True)\n"
     ]
    }
   ],
   "source": [
    "# List all pdfs in the directory\n",
    "for file in os.listdir(os.path.join(PATH, 'pdfs')):\n",
    "    \n",
    "    if file.lower().endswith('.pdf'):\n",
    "        filename = file.split('/')[-1].split('-')[0]\n",
    "        fullpath = os.path.join(PATH, 'pdfs', file)\n",
    "        \n",
    "        # Create a folder\n",
    "        create_folder = os.path.join(PATH, 'extracted_tables', filename)\n",
    "        os.makedirs(create_folder, exist_ok=True)\n",
    "\n",
    "        tables = camelot.read_pdf(fullpath, pages='all', flavor='lattice', line_scale=80, shift_text = ['', 'l'], process_background=False)\n",
    "\n",
    "        frames = []\n",
    "        for i, table in enumerate(tables):\n",
    "            # Convert table to a pandas DataFrame\n",
    "            df = table.df\n",
    "    \n",
    "            # Search for regex in the first column\n",
    "            matches = df[0].str.contains(regex, regex=True)\n",
    "    \n",
    "            # Check if any value in the column matches the regex pattern\n",
    "            contains_regex = matches.any()\n",
    "\n",
    "            if contains_regex:\n",
    "                frames.append(df)\n",
    "\n",
    "        pd.concat(frames).to_excel(os.path.join(create_folder, filename + \".xlsx\"), index=False)"
   ]
  }
 ],
 "metadata": {
  "kernelspec": {
   "display_name": "venv",
   "language": "python",
   "name": "venv"
  },
  "language_info": {
   "codemirror_mode": {
    "name": "ipython",
    "version": 3
   },
   "file_extension": ".py",
   "mimetype": "text/x-python",
   "name": "python",
   "nbconvert_exporter": "python",
   "pygments_lexer": "ipython3",
   "version": "3.11.6"
  }
 },
 "nbformat": 4,
 "nbformat_minor": 5
}
