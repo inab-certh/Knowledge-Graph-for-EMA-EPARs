{
 "cells": [
  {
   "cell_type": "markdown",
   "id": "25b6f5b4c9420ac4",
   "metadata": {
    "collapsed": false
   },
   "source": [
    "## European Medicine Agency (EMA)\n",
    "\n",
    "The European Medicines Agency (EMA) is a decentralized agency of the European Union (EU) responsible for the scientific evaluation, supervision, and safety monitoring of medicines in the EU. EMA plays a crucial role in the public health domain by ensuring that all medicines available on the EU market are safe, effective, and of high quality."
   ]
  },
  {
   "cell_type": "markdown",
   "id": "b654ee0d8de31b26",
   "metadata": {
    "collapsed": false
   },
   "source": [
    "## Summary of product characteristics (SmPC)\n",
    "\n",
    "A document describing the properties and the officially approved conditions of use of a medicine. Summaries of product characteristics form the basis of information for healthcare professionals on how to use the medicine safely and effectively. Abbreviated as SmPC. \n",
    "\n",
    "<br/>\n",
    "\n",
    "### Structure of an SmPC\n",
    "The structure of the SmPC is defined by the European pharmaceutical legislation. The information included in the SmPC should be product specific and can be cross-referenced to avoid any redundancy. It should be documented in a clear language and should not lead to any ambiguity. The SmPC is divided into 6 major sections:\n",
    "\n",
    "1. Name of the product\n",
    "2. Composition\n",
    "3. Pharmaceutical Form\n",
    "4. Clinical particulars – Includes therapeutic indications, recommendation for dosages and safety information\n",
    "5. Pharmacological properties – Takes into account the therapeutic indications of the clinical elements and their potential adverse drug reactions\n",
    "6. Pharmaceutical particulars – Includes Regulatory information related to the drug\n",
    "\n",
    "<br/>\n",
    "\n",
    "<img src=\"./images/structureSmPC.png\" width=\"600px;\">\n",
    "\n",
    "<br/>\n",
    "<br/>\n",
    "\n",
    "### Prescribing medicines for special populations\n",
    "When prescribing medication to specific groups like children, the elderly, pregnant and breastfeeding women, and individuals with kidney or liver issues, it's\n",
    "crucial to exercise caution. The public documentation for medicines, especially the Summary of Product Characteristics (SmPC) and the package leaflets (PLs), often includes many of these essential precautions.\n",
    "<br/>\n",
    "\n",
    "<img src=\"./images/SmPC_authorization_process.png\" width=\"800px;\">\n",
    "\n",
    "When seeking marketing authorization, a company submits an application dossier that contains instructions for healthcare professionals on the safe and effective use of the medicine. In Europe, this is referred to as the Summary of Product Characteristics (SmPC). The SmPC must be regularly updated over the medicine's lifecycle to reflect new data on efficacy or safety. The figure above illustrates the connection between a medicine's development, the regulatory dossier with the initial proposed SmPC, the SmPC that gets approved, and subsequent updates to the SmPC.\n",
    "\n",
    "\n",
    "[1]: https://www.ema.europa.eu/en/glossary/summary-product-characteristics\n",
    "[2]: https://www.freyrsolutions.com/what-is-an-smpc\n"
   ]
  },
  {
   "cell_type": "markdown",
   "id": "fe2052a2-ea36-4362-8e7f-31fdf36864c0",
   "metadata": {},
   "source": [
    "### Project Overview\n",
    "\n",
    "Using natural language processing (NLP) techniquesto automatically extract adverse drug reactions from such unstructured textual information helps clinicalexperts to effectively and efficiently use them in daily practices. Such techniques have been developed for Structured Product Labels from the Food and Drug Administration (FDA), but there is no researchfocusing on extracting from the Summary of Product Characteristics.\n",
    "\n",
    "\n",
    "In this work, we built a naturallanguage processing pipeline that automatically scrapes the summary of product characteristics onlineand then extracts adverse drug reactions from them.\n",
    "\n",
    "<img src=\"./images/Project_Overview.png\" width=\"300px;\">"
   ]
  },
  {
   "cell_type": "markdown",
   "id": "ebab7948-13c2-465e-9156-15c0838d8ac9",
   "metadata": {},
   "source": [
    "##  STEP 1: Download medicine data and import them to Database\n",
    "You can download the European Medicines Agency's (EMA) medicine-related data published on this website in Excel table format from this page. EMA updates these medicine data tables once a day. The following two files need to be downloaded:\n",
    "\n",
    "<br/>\n",
    "\n",
    "* The file listing all medicines, **including the withdrawn and not authorised ones**, named medicines_output_european_public_assessment_reports_en.xlsx, found [here](https://www.ema.europa.eu/sites/default/files/Medicines_output_european_public_assessment_reports.xlsx)\n",
    "\n",
    "and\n",
    "\n",
    "* The file listing **all the URLs for the SmPCs**, named Product information URLs for member product-information-urls-member-states_en.xls, found [here](https://www.ema.europa.eu/documents/product-information/product-information-urls-member-states_en.xls)\n",
    "\n",
    "\n",
    "##### Disclaimer\n",
    "The database is used purely to join the two csv. The view can also be done with dataframes without the need to use the database\n",
    "\n",
    "[3]: https://toolbox.eupati.eu/resources/prescribing-medicines-for-special-populations/?print=print\n",
    "[4]: https://www.ema.europa.eu/en/homepage\n"
   ]
  },
  {
   "cell_type": "code",
   "execution_count": 6,
   "id": "e9690c5cdcdb3db",
   "metadata": {
    "collapsed": false,
    "ExecuteTime": {
     "end_time": "2023-12-27T09:25:48.866020Z",
     "start_time": "2023-12-27T09:25:47.887177Z"
    }
   },
   "outputs": [],
   "source": [
    "import os\n",
    "import pandas as pd\n",
    "import re\n",
    "import sqlite3\n",
    "import camelot\n",
    "\n",
    "# Define the folder that you store the required xls\n",
    "PATH = \"./data\"\n",
    "\n",
    "MEDICINE_LIST = \"medicines_output_european_public_assessment_reports_en.xlsx\"\n",
    "PRODUCT_URLS_LIST = \"product-information-urls-member-states_en.xls\""
   ]
  },
  {
   "cell_type": "code",
   "execution_count": null,
   "id": "a3784fc65e25e785",
   "metadata": {
    "collapsed": false
   },
   "outputs": [],
   "source": [
    "medicinesOutputData = pd.read_excel(os.path.join(PATH, MEDICINE_LIST))\n",
    "medicinesOutputData.head()"
   ]
  },
  {
   "cell_type": "code",
   "execution_count": null,
   "id": "7c897773d11f4df2",
   "metadata": {
    "collapsed": false
   },
   "outputs": [],
   "source": [
    "productInformationURLs = pd.read_excel(os.path.join(PATH, PRODUCT_URLS_LIST))\n",
    "productInformationURLs.head()"
   ]
  },
  {
   "cell_type": "code",
   "execution_count": null,
   "id": "d561b9505df57df3",
   "metadata": {
    "collapsed": false
   },
   "outputs": [],
   "source": [
    "conn = sqlite3.connect(os.path.join(PATH, \"SmPCs.db\"))\n",
    "\n",
    "medicinesOutputData.to_sql('emaMedicinesOP', conn, if_exists='replace', index=False)\n",
    "productInformationURLs.to_sql('emaProductInformationURLs', conn, if_exists='replace', index=False)"
   ]
  },
  {
   "cell_type": "markdown",
   "id": "22f965865733617c",
   "metadata": {
    "collapsed": false
   },
   "source": [
    "## Step 2: Create csv with SmPCs URLs\n",
    "\n",
    " The actual SmPCs information will be extracted from the joinedHumanAuthorisedProductURLsONLY.csv file which contains the URLs for the authorised medicines for human use."
   ]
  },
  {
   "cell_type": "code",
   "execution_count": null,
   "id": "a467495dd5a620ab",
   "metadata": {
    "collapsed": false
   },
   "outputs": [],
   "source": [
    "joinedHumanAuthorisedProductURLsONLY = pd.read_sql(\"\"\"\n",
    "    SELECT [URL(currentwebsite)]\n",
    "    FROM emaMedicinesOP\n",
    "    LEFT JOIN emaProductInformationURLs \n",
    "    ON emaMedicinesOP.[Medicine name]=emaProductInformationURLs.[ProductName]\n",
    "    WHERE  emaMedicinesOP.Category='Human'\n",
    "      AND emaMedicinesOP.[Authorisation Status] ='Authorised';\n",
    "\"\"\", conn)\n",
    "\n",
    "joinedHumanAuthorisedProductURLsONLY.to_csv(os.path.join(PATH, \"joinedHumanAuthorisedProductURLsONLY.csv\"))"
   ]
  },
  {
   "cell_type": "markdown",
   "id": "ff9f9661d49f544c",
   "metadata": {
    "collapsed": false
   },
   "source": [
    "## Step 3: Download SmPCs pdfs\n"
   ]
  },
  {
   "cell_type": "code",
   "execution_count": null,
   "id": "3aac51489173a68b",
   "metadata": {
    "collapsed": false
   },
   "outputs": [],
   "source": [
    "import requests"
   ]
  },
  {
   "cell_type": "code",
   "execution_count": null,
   "id": "821ec2209c251cb7",
   "metadata": {
    "collapsed": false
   },
   "outputs": [],
   "source": [
    "urlsDF = pd.read_csv(os.path.join(PATH, \"joinedHumanAuthorisedProductURLsONLY.csv\"))\n",
    "urlsDF.dropna(inplace = True)\n",
    "urls = urlsDF['URL(currentwebsite)'].tolist()"
   ]
  },
  {
   "cell_type": "code",
   "execution_count": null,
   "id": "1246f236cc1dbfd2",
   "metadata": {
    "collapsed": false
   },
   "outputs": [],
   "source": [
    "for index, url in enumerate(urls):\n",
    "    response = requests.get(url)\n",
    "    file_name = url.split('/')[-1]\n",
    "\n",
    "    print(\"Download \", index, \" with name: \", file_name)\n",
    "\n",
    "    if response.status_code == 200:\n",
    "        with open(os.path.join(PATH, \"pdfs\", file_name), 'wb') as pdf_file:\n",
    "            pdf_file.write(response.content)\n",
    "    else:\n",
    "        print(f\"Failed to download the : {file_name}\")"
   ]
  },
  {
   "cell_type": "markdown",
   "id": "88e44826316516cb",
   "metadata": {
    "collapsed": false
   },
   "source": [
    "### Step 4: Extract Tabulated Summary of Adverse Reactions from the 4.8 section \n",
    "\n",
    "This section should include all adverse reactions for which, after thorough assessment, a causal relationship between the medicinal product and the adverse event is at least a reasonable possibility. These ADRs should be all reactions from:\n",
    "* Clinical trials\n",
    "* Post-authorisation safety studies\n",
    "* Spontaneous reporting\n",
    "\n",
    "#####  The tabulated list of adverse reactions in section 4.8:\n",
    "* Introduce table with short paragraph stating source of safety database\n",
    "* Separate tables are acceptable in exceptional cases where adverse profiles markedly differ depending on the use of the product.\n",
    "\n",
    "#####  Structure of the table: general considerations\n",
    "\n",
    "* Table should be written according to MedDRA system organ classification (SOC)\n",
    "* A pragmatic approach to the location of terms should be taken in order to make the identification of adverse reactions simpler and clinically appropriate for the reader\n",
    "* Within each SOC, adverse reactions should be ranked under headings of frequency, most frequent reactions first\n",
    "* Frequency grouping, adverse reactions should be presented in order of decreasing seriousness\n",
    "\n",
    "##### Frequency Grouping:\n",
    "* Very common (≥1/10)\n",
    "* Common (≥1/100 to <1/10)\n",
    "* Uncommon (≥1/1,000 to <1/100)\n",
    "* Rare (≥1/10,000 to <1/1,000)\n",
    "* Very rare (<1/10,000)\n",
    "* Frequency not known (cannot be estimated from the available data)\n",
    "\n",
    "#### SmPCs Examples\n",
    "\n",
    "<img src=\"./images/SmPCs_example.png\" width=\"500px;\">\n",
    "\n",
    "\n",
    "## MedDRA\n",
    "MedDRA is a multilingual terminology allowing most users to operate in their native languages. The table below identifies the initial MedDRA version when each MedDRA language was made available to users. \n",
    "\n",
    "<br />\n",
    "\n",
    "<img src=\"./images/MedDRA_Hierarchy.png\" width=\"500px;\">\n",
    "\n",
    "<br />\n",
    "\n",
    "The most important reason to “code” data into a standardised terminology is to analyse it. A key benefit of MedDRA is in its support of straightforward as well as sophisticated analyses. MedDRA can be used to analyse individual medical events (e.g., “Influenza”) or issues involving a system, organ or aetiology (e.g., infections) using its hierarchical structure. MedDRA can be used for signal detection and monitoring of clinical syndromes whose symptoms encompass numerous systems or organs using its multiaxial hierarchy or through the special feature of Standardised MedDRA Queries.\n",
    "\n",
    "<br />\n",
    "\n",
    "### MedDRA Hierarchy\n",
    "\n",
    "The structure of MedDRA is very logical. There are five levels to the MedDRA hierarchy, arranged from very specific to very general.\n",
    "\n",
    "<br />\n",
    "\n",
    "Download [MedDRA codes](https://www.ema.europa.eu/en/documents/other/meddra-important-medical-event-terms-list-version-261_en.xlsx) and extract the unique values from the SOC Name column"
   ]
  },
  {
   "cell_type": "code",
   "execution_count": 9,
   "id": "919f7a90-3b85-46da-ad44-0682ac37769d",
   "metadata": {
    "ExecuteTime": {
     "end_time": "2023-12-27T09:26:38.957804Z",
     "start_time": "2023-12-27T09:26:37.556319Z"
    }
   },
   "outputs": [],
   "source": [
    "medraSOC = pd.read_excel(os.path.join(PATH, \"MedDRA\", \"meddra-important-medical-event-terms-list-version-261_en.xlsx\"))\n",
    "socList = medraSOC['SOC Name'].unique()\n",
    "SOCListRegex = '(?:% s)' % '|'.join(socList)\n",
    "regex = re.compile(SOCListRegex)"
   ]
  },
  {
   "cell_type": "code",
   "execution_count": 10,
   "id": "fe6eb45f-65da-4b9d-a0f9-657fb416ddb3",
   "metadata": {
    "ExecuteTime": {
     "end_time": "2023-12-27T09:26:39.484392Z",
     "start_time": "2023-12-27T09:26:39.468406Z"
    }
   },
   "outputs": [
    {
     "data": {
      "text/plain": "re.compile(r'(?:Blood and lymphatic system disorders|Cardiac disorders|Congenital, familial and genetic disorders|Endocrine disorders|Eye disorders|Gastrointestinal disorders|Hepatobiliary disorders|Immune system disorders|Infections and infestations|Injury, poisoning and procedural complications|Investigations|Musculoskeletal and connective tissue disorders|Neoplasms benign, malignant and unspecified (incl cysts and polyps)|Nervous system disorders|Pregnancy, puerperium and perinatal conditions|Renal and urinary disorders|Reproductive system and breast disorders|Respiratory, thoracic and mediastinal disorders|Surgical and medical procedures|Vascular disorders|Ear and labyrinth disorders|General disorders and administration site conditions|Metabolism and nutrition disorders|Product issues|Psychiatric disorders|Skin and subcutaneous tissue disorders|Social circumstances)',\n           re.UNICODE)"
     },
     "execution_count": 10,
     "metadata": {},
     "output_type": "execute_result"
    }
   ],
   "source": [
    "regex"
   ]
  },
  {
   "cell_type": "code",
   "execution_count": 16,
   "outputs": [],
   "source": [
    "def extract_table_rows(df):\n",
    "    rows = []\n",
    "\n",
    "    for row in df.itertuples():\n",
    "        # First row contains the header\n",
    "        if row[0] == 0:\n",
    "            # Find the order of columns\n",
    "            if True if \"reaction\".lower() in row[2].lower() else False:\n",
    "                AD_index, F_index  = 2, 3\n",
    "            else:\n",
    "                AD_index, F_index  = 3, 2\n",
    "\n",
    "        else:\n",
    "            ad_reaction = row[AD_index].split('\\n')\n",
    "            freq = row[F_index].split('\\n')\n",
    "            \n",
    "            for index, ad in enumerate(ad_reaction):\n",
    "                ad_row = []\n",
    "                ad_row.insert(0, row[1].replace('\\n', ''))  \n",
    "                ad_row.insert(1, ad_reaction[index].strip())\n",
    "                ad_row.insert(2, freq[index].strip())\n",
    "                rows.append(ad_row)\n",
    "    return rows"
   ],
   "metadata": {
    "collapsed": false,
    "ExecuteTime": {
     "end_time": "2023-12-27T09:43:42.135078Z",
     "start_time": "2023-12-27T09:43:42.123683Z"
    }
   },
   "id": "130327e5586f0d24"
  },
  {
   "cell_type": "code",
   "execution_count": 25,
   "outputs": [
    {
     "name": "stdout",
     "output_type": "stream",
     "text": [
      "Start Processing Filename:  ./data/pdfs/abecma-epar-product-information_en.pdf\n",
      "The file  abecma  does have three columns table\n",
      "[['Infections and infestationsa', 'Infections – bacterial', 'Very common'], ['Infections and infestationsa', 'Infections – viral', 'Very common'], ['Infections and infestationsa', 'Infections – pathogen unspecified', 'Very common'], ['Infections and infestationsa', 'Infections – fungal', 'Common'], ['Blood and lymphatic system disorders', 'Neutropenia', 'Very common'], ['Blood and lymphatic system disorders', 'Leucopenia', 'Very common'], ['Blood and lymphatic system disorders', 'Thrombocytopenia', 'Very common'], ['Blood and lymphatic system disorders', 'Febrile neutropenia', 'Very common'], ['Blood and lymphatic system disorders', 'Lymphopenia', 'Very common'], ['Blood and lymphatic system disorders', 'Anaemia', 'Very common'], ['Blood and lymphatic system disorders', 'Disseminated intravascular coagulation', 'Common'], ['Immune system disorders', 'Cytokine release syndrome', 'Very common'], ['Immune system disorders', 'Hypogammaglobulinaemia', 'Very common'], ['Immune system disorders', 'Haemophagocytic lymphohistiocytosis*', 'Common'], ['Metabolism and nutrition disorders', 'Hypophosphataemia', 'Very common'], ['Metabolism and nutrition disorders', 'Hypokalaemia', 'Very common'], ['Metabolism and nutrition disorders', 'Hyponatraemia', 'Very common'], ['Metabolism and nutrition disorders', 'Hypocalcaemia', 'Very common'], ['Metabolism and nutrition disorders', 'Hypoalbuminaemia', 'Very common'], ['Metabolism and nutrition disorders', 'Decreased appetite', 'Very common'], ['Metabolism and nutrition disorders', 'Hypomagnesaemia', 'Very common'], ['Psychiatric disorders', 'Deliriumb', 'Common'], ['Psychiatric disorders', 'Insomnia', 'Common']]\n",
      "[['Infections and infestationsa', 'Infections – bacterial', 'Very common'], ['Infections and infestationsa', 'Infections – viral', 'Very common'], ['Infections and infestationsa', 'Infections – pathogen unspecified', 'Very common'], ['Infections and infestationsa', 'Infections – fungal', 'Common'], ['Blood and lymphatic system disorders', 'Neutropenia', 'Very common'], ['Blood and lymphatic system disorders', 'Leucopenia', 'Very common'], ['Blood and lymphatic system disorders', 'Thrombocytopenia', 'Very common'], ['Blood and lymphatic system disorders', 'Febrile neutropenia', 'Very common'], ['Blood and lymphatic system disorders', 'Lymphopenia', 'Very common'], ['Blood and lymphatic system disorders', 'Anaemia', 'Very common'], ['Blood and lymphatic system disorders', 'Disseminated intravascular coagulation', 'Common'], ['Immune system disorders', 'Cytokine release syndrome', 'Very common'], ['Immune system disorders', 'Hypogammaglobulinaemia', 'Very common'], ['Immune system disorders', 'Haemophagocytic lymphohistiocytosis*', 'Common'], ['Metabolism and nutrition disorders', 'Hypophosphataemia', 'Very common'], ['Metabolism and nutrition disorders', 'Hypokalaemia', 'Very common'], ['Metabolism and nutrition disorders', 'Hyponatraemia', 'Very common'], ['Metabolism and nutrition disorders', 'Hypocalcaemia', 'Very common'], ['Metabolism and nutrition disorders', 'Hypoalbuminaemia', 'Very common'], ['Metabolism and nutrition disorders', 'Decreased appetite', 'Very common'], ['Metabolism and nutrition disorders', 'Hypomagnesaemia', 'Very common'], ['Psychiatric disorders', 'Deliriumb', 'Common'], ['Psychiatric disorders', 'Insomnia', 'Common']]\n",
      "The file  abecma  does have three columns table\n",
      "[['Nervous system disorders', 'Encephalopathyc', 'Very common'], ['Nervous system disorders', 'Headache*', 'Very common'], ['Nervous system disorders', 'Dizzinessd', 'Very common'], ['Nervous system disorders', 'Seizure', 'Common'], ['Nervous system disorders', 'Hemiparesis', 'Common'], ['Nervous system disorders', 'Aphasiae', 'Common'], ['Nervous system disorders', 'Ataxiaf', 'Common'], ['Nervous system disorders', 'Motor dysfunctiong', 'Common'], ['Nervous system disorders', 'Tremor', 'Common'], ['Cardiac disorders', 'Tachycardia*', 'Very common'], ['Cardiac disorders', 'Atrial fibrillation*', 'Common'], ['Vascular disorders', 'Hypertension', 'Very common'], ['Vascular disorders', 'Hypotension*h', 'Very common'], ['Respiratory, thoracic, and mediastinal disorders', 'Dyspnoea', 'Very common'], ['Respiratory, thoracic, and mediastinal disorders', 'Cough', 'Very common'], ['Respiratory, thoracic, and mediastinal disorders', 'Pulmonary oedema', 'Common'], ['Respiratory, thoracic, and mediastinal disorders', 'Hypoxia*', 'Common'], ['Gastrointestinal disorders', 'Vomiting', 'Very common'], ['Gastrointestinal disorders', 'Diarrhoea', 'Very common'], ['Gastrointestinal disorders', 'Nausea', 'Very common'], ['Gastrointestinal disorders', 'Constipation', 'Very common'], ['Gastrointestinal disorders', 'Gastrointestinal haemorrhagei', 'Common'], ['Musculoskeletal and connective tissue disorders', 'Arthralgia', 'Very common'], ['Musculoskeletal and connective tissue disorders', 'Myalgia', 'Common'], ['General disorders and administration site conditions', 'Pyrexia*', 'Very common'], ['General disorders and administration site conditions', 'Fatigue*j', 'Very common'], ['General disorders and administration site conditions', 'Asthenia', 'Very common'], ['General disorders and administration site conditions', 'Oedemak', 'Very common'], ['General disorders and administration site conditions', 'Chills*', 'Very common'], ['Investigations', 'Alanine aminotransferase increased', 'Very common'], ['Investigations', 'Aspartate aminotransferase increased', 'Very common'], ['Investigations', 'Blood alkaline phosphatase increased', 'Very common'], ['Investigations', 'C-reactive protein increased*', 'Common']]\n",
      "[['Infections and infestationsa', 'Infections – bacterial', 'Very common'], ['Infections and infestationsa', 'Infections – viral', 'Very common'], ['Infections and infestationsa', 'Infections – pathogen unspecified', 'Very common'], ['Infections and infestationsa', 'Infections – fungal', 'Common'], ['Blood and lymphatic system disorders', 'Neutropenia', 'Very common'], ['Blood and lymphatic system disorders', 'Leucopenia', 'Very common'], ['Blood and lymphatic system disorders', 'Thrombocytopenia', 'Very common'], ['Blood and lymphatic system disorders', 'Febrile neutropenia', 'Very common'], ['Blood and lymphatic system disorders', 'Lymphopenia', 'Very common'], ['Blood and lymphatic system disorders', 'Anaemia', 'Very common'], ['Blood and lymphatic system disorders', 'Disseminated intravascular coagulation', 'Common'], ['Immune system disorders', 'Cytokine release syndrome', 'Very common'], ['Immune system disorders', 'Hypogammaglobulinaemia', 'Very common'], ['Immune system disorders', 'Haemophagocytic lymphohistiocytosis*', 'Common'], ['Metabolism and nutrition disorders', 'Hypophosphataemia', 'Very common'], ['Metabolism and nutrition disorders', 'Hypokalaemia', 'Very common'], ['Metabolism and nutrition disorders', 'Hyponatraemia', 'Very common'], ['Metabolism and nutrition disorders', 'Hypocalcaemia', 'Very common'], ['Metabolism and nutrition disorders', 'Hypoalbuminaemia', 'Very common'], ['Metabolism and nutrition disorders', 'Decreased appetite', 'Very common'], ['Metabolism and nutrition disorders', 'Hypomagnesaemia', 'Very common'], ['Psychiatric disorders', 'Deliriumb', 'Common'], ['Psychiatric disorders', 'Insomnia', 'Common'], ['Nervous system disorders', 'Encephalopathyc', 'Very common'], ['Nervous system disorders', 'Headache*', 'Very common'], ['Nervous system disorders', 'Dizzinessd', 'Very common'], ['Nervous system disorders', 'Seizure', 'Common'], ['Nervous system disorders', 'Hemiparesis', 'Common'], ['Nervous system disorders', 'Aphasiae', 'Common'], ['Nervous system disorders', 'Ataxiaf', 'Common'], ['Nervous system disorders', 'Motor dysfunctiong', 'Common'], ['Nervous system disorders', 'Tremor', 'Common'], ['Cardiac disorders', 'Tachycardia*', 'Very common'], ['Cardiac disorders', 'Atrial fibrillation*', 'Common'], ['Vascular disorders', 'Hypertension', 'Very common'], ['Vascular disorders', 'Hypotension*h', 'Very common'], ['Respiratory, thoracic, and mediastinal disorders', 'Dyspnoea', 'Very common'], ['Respiratory, thoracic, and mediastinal disorders', 'Cough', 'Very common'], ['Respiratory, thoracic, and mediastinal disorders', 'Pulmonary oedema', 'Common'], ['Respiratory, thoracic, and mediastinal disorders', 'Hypoxia*', 'Common'], ['Gastrointestinal disorders', 'Vomiting', 'Very common'], ['Gastrointestinal disorders', 'Diarrhoea', 'Very common'], ['Gastrointestinal disorders', 'Nausea', 'Very common'], ['Gastrointestinal disorders', 'Constipation', 'Very common'], ['Gastrointestinal disorders', 'Gastrointestinal haemorrhagei', 'Common'], ['Musculoskeletal and connective tissue disorders', 'Arthralgia', 'Very common'], ['Musculoskeletal and connective tissue disorders', 'Myalgia', 'Common'], ['General disorders and administration site conditions', 'Pyrexia*', 'Very common'], ['General disorders and administration site conditions', 'Fatigue*j', 'Very common'], ['General disorders and administration site conditions', 'Asthenia', 'Very common'], ['General disorders and administration site conditions', 'Oedemak', 'Very common'], ['General disorders and administration site conditions', 'Chills*', 'Very common'], ['Investigations', 'Alanine aminotransferase increased', 'Very common'], ['Investigations', 'Aspartate aminotransferase increased', 'Very common'], ['Investigations', 'Blood alkaline phosphatase increased', 'Very common'], ['Investigations', 'C-reactive protein increased*', 'Common']]\n",
      "[['Infections and infestationsa', 'Infections – bacterial', 'Very common'], ['Infections and infestationsa', 'Infections – viral', 'Very common'], ['Infections and infestationsa', 'Infections – pathogen unspecified', 'Very common'], ['Infections and infestationsa', 'Infections – fungal', 'Common'], ['Blood and lymphatic system disorders', 'Neutropenia', 'Very common'], ['Blood and lymphatic system disorders', 'Leucopenia', 'Very common'], ['Blood and lymphatic system disorders', 'Thrombocytopenia', 'Very common'], ['Blood and lymphatic system disorders', 'Febrile neutropenia', 'Very common'], ['Blood and lymphatic system disorders', 'Lymphopenia', 'Very common'], ['Blood and lymphatic system disorders', 'Anaemia', 'Very common'], ['Blood and lymphatic system disorders', 'Disseminated intravascular coagulation', 'Common'], ['Immune system disorders', 'Cytokine release syndrome', 'Very common'], ['Immune system disorders', 'Hypogammaglobulinaemia', 'Very common'], ['Immune system disorders', 'Haemophagocytic lymphohistiocytosis*', 'Common'], ['Metabolism and nutrition disorders', 'Hypophosphataemia', 'Very common'], ['Metabolism and nutrition disorders', 'Hypokalaemia', 'Very common'], ['Metabolism and nutrition disorders', 'Hyponatraemia', 'Very common'], ['Metabolism and nutrition disorders', 'Hypocalcaemia', 'Very common'], ['Metabolism and nutrition disorders', 'Hypoalbuminaemia', 'Very common'], ['Metabolism and nutrition disorders', 'Decreased appetite', 'Very common'], ['Metabolism and nutrition disorders', 'Hypomagnesaemia', 'Very common'], ['Psychiatric disorders', 'Deliriumb', 'Common'], ['Psychiatric disorders', 'Insomnia', 'Common'], ['Nervous system disorders', 'Encephalopathyc', 'Very common'], ['Nervous system disorders', 'Headache*', 'Very common'], ['Nervous system disorders', 'Dizzinessd', 'Very common'], ['Nervous system disorders', 'Seizure', 'Common'], ['Nervous system disorders', 'Hemiparesis', 'Common'], ['Nervous system disorders', 'Aphasiae', 'Common'], ['Nervous system disorders', 'Ataxiaf', 'Common'], ['Nervous system disorders', 'Motor dysfunctiong', 'Common'], ['Nervous system disorders', 'Tremor', 'Common'], ['Cardiac disorders', 'Tachycardia*', 'Very common'], ['Cardiac disorders', 'Atrial fibrillation*', 'Common'], ['Vascular disorders', 'Hypertension', 'Very common'], ['Vascular disorders', 'Hypotension*h', 'Very common'], ['Respiratory, thoracic, and mediastinal disorders', 'Dyspnoea', 'Very common'], ['Respiratory, thoracic, and mediastinal disorders', 'Cough', 'Very common'], ['Respiratory, thoracic, and mediastinal disorders', 'Pulmonary oedema', 'Common'], ['Respiratory, thoracic, and mediastinal disorders', 'Hypoxia*', 'Common'], ['Gastrointestinal disorders', 'Vomiting', 'Very common'], ['Gastrointestinal disorders', 'Diarrhoea', 'Very common'], ['Gastrointestinal disorders', 'Nausea', 'Very common'], ['Gastrointestinal disorders', 'Constipation', 'Very common'], ['Gastrointestinal disorders', 'Gastrointestinal haemorrhagei', 'Common'], ['Musculoskeletal and connective tissue disorders', 'Arthralgia', 'Very common'], ['Musculoskeletal and connective tissue disorders', 'Myalgia', 'Common'], ['General disorders and administration site conditions', 'Pyrexia*', 'Very common'], ['General disorders and administration site conditions', 'Fatigue*j', 'Very common'], ['General disorders and administration site conditions', 'Asthenia', 'Very common'], ['General disorders and administration site conditions', 'Oedemak', 'Very common'], ['General disorders and administration site conditions', 'Chills*', 'Very common'], ['Investigations', 'Alanine aminotransferase increased', 'Very common'], ['Investigations', 'Aspartate aminotransferase increased', 'Very common'], ['Investigations', 'Blood alkaline phosphatase increased', 'Very common'], ['Investigations', 'C-reactive protein increased*', 'Common']]\n"
     ]
    },
    {
     "name": "stderr",
     "output_type": "stream",
     "text": [
      "/var/folders/ks/61tstkzx4rj7v0my891xbvx40000gn/T/ipykernel_13568/158357015.py:21: UserWarning: This pattern is interpreted as a regular expression, and has match groups. To actually get the groups, use str.extract.\n",
      "  matches = df[0].str.contains(regex, regex=True)\n"
     ]
    }
   ],
   "source": [
    "# List all pdfs in the directory\n",
    "pdfs_processed = []\n",
    "pdfs_not_processed = []\n",
    "\n",
    "for file in os.listdir(os.path.join(PATH, 'pdfs')):\n",
    "    \n",
    "    if file.lower().endswith('.pdf'):\n",
    "        filename = file.split('/')[-1].split('-')[0]\n",
    "        fullpath = os.path.join(PATH, 'pdfs', file)\n",
    "        \n",
    "        print(\"Start Processing Filename: \", fullpath)\n",
    "        \n",
    "        tables = camelot.read_pdf(fullpath, pages='all', flavor='lattice', line_scale=80, shift_text = ['', 'l'], process_background=False)\n",
    "\n",
    "        rows = []\n",
    "        for i, table in enumerate(tables):\n",
    "            # Convert table to a pandas DataFrame\n",
    "            df = table.df\n",
    "    \n",
    "            # Search for regex in the first column\n",
    "            matches = df[0].str.contains(regex, regex=True)\n",
    "    \n",
    "            # Check if any value in the column matches the regex pattern\n",
    "            contains_regex = matches.any()\n",
    "\n",
    "            if contains_regex:\n",
    "                if len(df.columns) == 3:\n",
    "                    # Case A: Dataframe consists of 3 columns\n",
    "                    print(\"The file \", filename, \" does have three columns table\")\n",
    "                    extracted_rows = extract_table_rows(df)\n",
    "                    print(extracted_rows)\n",
    "                    for row in extracted_rows:\n",
    "                        rows.append(row)\n",
    "                    print(rows)\n",
    "\n",
    "                    pdfs_processed.append(fullpath)\n",
    "                else:\n",
    "                    print(\"The file \", filename, \" does NOT have three columns table\")\n",
    "                    pdfs_not_processed.append(fullpath)\n",
    "        print(rows)\n",
    "        if rows:\n",
    "            pd.DataFrame(rows, columns=[\"SOC\", \"ADR\", \"FREQ\"]).to_csv(os.path.join(PATH, \"extracted_tables\", filename + \".csv\"), sep=';', encoding='utf-8', index=False)\n",
    "            \n",
    "# Create report"
   ],
   "metadata": {
    "collapsed": false,
    "ExecuteTime": {
     "end_time": "2023-12-27T10:03:43.626948Z",
     "start_time": "2023-12-27T10:03:12.602307Z"
    }
   },
   "id": "28842dd7-a610-425e-880b-36751d556b35"
  },
  {
   "cell_type": "code",
   "execution_count": 26,
   "outputs": [
    {
     "name": "stdout",
     "output_type": "stream",
     "text": [
      "0.9.0\n"
     ]
    }
   ],
   "source": [
    "print(camelot.__version__)"
   ],
   "metadata": {
    "collapsed": false,
    "ExecuteTime": {
     "end_time": "2023-12-27T13:59:10.759628Z",
     "start_time": "2023-12-27T13:59:10.731081Z"
    }
   },
   "id": "854aed71c09fda0f"
  },
  {
   "cell_type": "code",
   "execution_count": 27,
   "outputs": [
    {
     "name": "stdout",
     "output_type": "stream",
     "text": [
      "Package                   Version\r\n",
      "------------------------- ------------\r\n",
      "anyio                     4.2.0\r\n",
      "appnope                   0.1.3\r\n",
      "argon2-cffi               23.1.0\r\n",
      "argon2-cffi-bindings      21.2.0\r\n",
      "arrow                     1.3.0\r\n",
      "asttokens                 2.4.1\r\n",
      "async-lru                 2.0.4\r\n",
      "attrs                     23.1.0\r\n",
      "Babel                     2.14.0\r\n",
      "beautifulsoup4            4.12.2\r\n",
      "bleach                    6.1.0\r\n",
      "camelot-py                0.9.0\r\n",
      "certifi                   2023.11.17\r\n",
      "cffi                      1.16.0\r\n",
      "chardet                   5.2.0\r\n",
      "charset-normalizer        3.3.2\r\n",
      "click                     8.1.7\r\n",
      "comm                      0.2.0\r\n",
      "cryptography              41.0.7\r\n",
      "debugpy                   1.8.0\r\n",
      "decorator                 5.1.1\r\n",
      "defusedxml                0.7.1\r\n",
      "et-xmlfile                1.1.0\r\n",
      "executing                 2.0.1\r\n",
      "fastjsonschema            2.19.0\r\n",
      "fqdn                      1.5.1\r\n",
      "idna                      3.6\r\n",
      "ipykernel                 6.27.1\r\n",
      "ipython                   8.18.1\r\n",
      "ipywidgets                8.1.1\r\n",
      "isoduration               20.11.0\r\n",
      "jedi                      0.19.1\r\n",
      "Jinja2                    3.1.2\r\n",
      "json5                     0.9.14\r\n",
      "jsonpointer               2.4\r\n",
      "jsonschema                4.20.0\r\n",
      "jsonschema-specifications 2023.11.2\r\n",
      "jupyter                   1.0.0\r\n",
      "jupyter_client            8.6.0\r\n",
      "jupyter-console           6.6.3\r\n",
      "jupyter_core              5.5.0\r\n",
      "jupyter-events            0.9.0\r\n",
      "jupyter-lsp               2.2.1\r\n",
      "jupyter_server            2.12.1\r\n",
      "jupyter_server_terminals  0.5.0\r\n",
      "jupyterlab                4.0.9\r\n",
      "jupyterlab_pygments       0.3.0\r\n",
      "jupyterlab_server         2.25.2\r\n",
      "jupyterlab-widgets        3.0.9\r\n",
      "MarkupSafe                2.1.3\r\n",
      "matplotlib-inline         0.1.6\r\n",
      "mistune                   3.0.2\r\n",
      "nbclient                  0.9.0\r\n",
      "nbconvert                 7.13.1\r\n",
      "nbformat                  5.9.2\r\n",
      "nest-asyncio              1.5.8\r\n",
      "notebook                  7.0.6\r\n",
      "notebook_shim             0.2.3\r\n",
      "numpy                     1.26.2\r\n",
      "opencv-python             4.8.1.78\r\n",
      "openpyxl                  3.1.2\r\n",
      "overrides                 7.4.0\r\n",
      "packaging                 23.2\r\n",
      "pandas                    2.1.4\r\n",
      "pandocfilters             1.5.0\r\n",
      "parso                     0.8.3\r\n",
      "pdfminer.six              20221105\r\n",
      "pexpect                   4.9.0\r\n",
      "pip                       23.3.1\r\n",
      "platformdirs              4.1.0\r\n",
      "prometheus-client         0.19.0\r\n",
      "prompt-toolkit            3.0.43\r\n",
      "psutil                    5.9.6\r\n",
      "ptyprocess                0.7.0\r\n",
      "pure-eval                 0.2.2\r\n",
      "pycparser                 2.21\r\n",
      "Pygments                  2.17.2\r\n",
      "PyPDF2                    2.12.1\r\n",
      "python-dateutil           2.8.2\r\n",
      "python-json-logger        2.0.7\r\n",
      "pytz                      2023.3.post1\r\n",
      "PyYAML                    6.0.1\r\n",
      "pyzmq                     25.1.2\r\n",
      "qtconsole                 5.5.1\r\n",
      "QtPy                      2.4.1\r\n",
      "referencing               0.32.0\r\n",
      "requests                  2.31.0\r\n",
      "rfc3339-validator         0.1.4\r\n",
      "rfc3986-validator         0.1.1\r\n",
      "rpds-py                   0.15.2\r\n",
      "Send2Trash                1.8.2\r\n",
      "setuptools                69.0.2\r\n",
      "six                       1.16.0\r\n",
      "sniffio                   1.3.0\r\n",
      "soupsieve                 2.5\r\n",
      "stack-data                0.6.3\r\n",
      "terminado                 0.18.0\r\n",
      "tinycss2                  1.2.1\r\n",
      "tk                        0.1.0\r\n",
      "tornado                   6.4\r\n",
      "traitlets                 5.14.0\r\n",
      "types-python-dateutil     2.8.19.14\r\n",
      "tzdata                    2023.3\r\n",
      "uri-template              1.3.0\r\n",
      "urllib3                   2.1.0\r\n",
      "wcwidth                   0.2.12\r\n",
      "webcolors                 1.13\r\n",
      "webencodings              0.5.1\r\n",
      "websocket-client          1.7.0\r\n",
      "wheel                     0.41.3\r\n",
      "widgetsnbextension        4.0.9\r\n",
      "xlrd                      2.0.1\r\n",
      "\r\n",
      "\u001B[1m[\u001B[0m\u001B[34;49mnotice\u001B[0m\u001B[1;39;49m]\u001B[0m\u001B[39;49m A new release of pip is available: \u001B[0m\u001B[31;49m23.3.1\u001B[0m\u001B[39;49m -> \u001B[0m\u001B[32;49m23.3.2\u001B[0m\r\n",
      "\u001B[1m[\u001B[0m\u001B[34;49mnotice\u001B[0m\u001B[1;39;49m]\u001B[0m\u001B[39;49m To update, run: \u001B[0m\u001B[32;49mpip install --upgrade pip\u001B[0m\r\n"
     ]
    }
   ],
   "source": [
    "!pip list"
   ],
   "metadata": {
    "collapsed": false,
    "ExecuteTime": {
     "end_time": "2023-12-27T13:59:24.306080Z",
     "start_time": "2023-12-27T13:59:22.923672Z"
    }
   },
   "id": "6c1735cfc84302c4"
  },
  {
   "cell_type": "code",
   "execution_count": null,
   "outputs": [],
   "source": [],
   "metadata": {
    "collapsed": false
   },
   "id": "ba52541d21ec8eab"
  }
 ],
 "metadata": {
  "kernelspec": {
   "display_name": "venv",
   "language": "python",
   "name": "venv"
  },
  "language_info": {
   "codemirror_mode": {
    "name": "ipython",
    "version": 3
   },
   "file_extension": ".py",
   "mimetype": "text/x-python",
   "name": "python",
   "nbconvert_exporter": "python",
   "pygments_lexer": "ipython3",
   "version": "3.11.6"
  }
 },
 "nbformat": 4,
 "nbformat_minor": 5
}
