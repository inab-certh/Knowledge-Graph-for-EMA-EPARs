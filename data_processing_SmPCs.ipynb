{
 "cells": [
  {
   "cell_type": "markdown",
   "id": "25b6f5b4c9420ac4",
   "metadata": {
    "collapsed": false,
    "jupyter": {
     "outputs_hidden": false
    }
   },
   "source": [
    "## European Medicine Agency (EMA)\n",
    "\n",
    "The European Medicines Agency (EMA) is a decentralized agency of the European Union (EU) responsible for the scientific evaluation, supervision, and safety monitoring of medicines in the EU. EMA plays a crucial role in the public health domain by ensuring that all medicines available on the EU market are safe, effective, and of high quality."
   ]
  },
  {
   "cell_type": "markdown",
   "id": "b654ee0d8de31b26",
   "metadata": {
    "collapsed": false,
    "jupyter": {
     "outputs_hidden": false
    }
   },
   "source": [
    "## Summary of product characteristics (SmPC)\n",
    "\n",
    "A document describing the properties and the officially approved conditions of use of a medicine. Summaries of product characteristics form the basis of information for healthcare professionals on how to use the medicine safely and effectively. Abbreviated as SmPC. \n",
    "\n",
    "<br/>\n",
    "\n",
    "### Structure of an SmPC\n",
    "The structure of the SmPC is defined by the European pharmaceutical legislation. The information included in the SmPC should be product specific and can be cross-referenced to avoid any redundancy. It should be documented in a clear language and should not lead to any ambiguity. The SmPC is divided into 6 major sections:\n",
    "\n",
    "1. Name of the product\n",
    "2. Composition\n",
    "3. Pharmaceutical Form\n",
    "4. Clinical particulars – Includes therapeutic indications, recommendation for dosages and safety information\n",
    "5. Pharmacological properties – Takes into account the therapeutic indications of the clinical elements and their potential adverse drug reactions\n",
    "6. Pharmaceutical particulars – Includes Regulatory information related to the drug\n",
    "\n",
    "<br/>\n",
    "\n",
    "<img src=\"./images/structureSmPC.png\" width=\"600px;\">\n",
    "\n",
    "<br/>\n",
    "<br/>\n",
    "\n",
    "### Prescribing medicines for special populations\n",
    "When prescribing medication to specific groups like children, the elderly, pregnant and breastfeeding women, and individuals with kidney or liver issues, it's\n",
    "crucial to exercise caution. The public documentation for medicines, especially the Summary of Product Characteristics (SmPC) and the package leaflets (PLs), often includes many of these essential precautions.\n",
    "<br/>\n",
    "\n",
    "<img src=\"./images/SmPC_authorization_process.png\" width=\"800px;\">\n",
    "\n",
    "When seeking marketing authorization, a company submits an application dossier that contains instructions for healthcare professionals on the safe and effective use of the medicine. In Europe, this is referred to as the Summary of Product Characteristics (SmPC). The SmPC must be regularly updated over the medicine's lifecycle to reflect new data on efficacy or safety. The figure above illustrates the connection between a medicine's development, the regulatory dossier with the initial proposed SmPC, the SmPC that gets approved, and subsequent updates to the SmPC.\n",
    "\n",
    "\n",
    "[1]: https://www.ema.europa.eu/en/glossary/summary-product-characteristics\n",
    "[2]: https://www.freyrsolutions.com/what-is-an-smpc\n"
   ]
  },
  {
   "cell_type": "markdown",
   "id": "fe2052a2-ea36-4362-8e7f-31fdf36864c0",
   "metadata": {},
   "source": [
    "### Project Overview\n",
    "\n",
    "Using natural language processing (NLP) techniquesto automatically extract adverse drug reactions from such unstructured textual information helps clinicalexperts to effectively and efficiently use them in daily practices. Such techniques have been developed for Structured Product Labels from the Food and Drug Administration (FDA), but there is no researchfocusing on extracting from the Summary of Product Characteristics.\n",
    "\n",
    "\n",
    "In this work, we built a naturallanguage processing pipeline that automatically scrapes the summary of product characteristics onlineand then extracts adverse drug reactions from them.\n",
    "\n",
    "<img src=\"./images/Project_Overview.png\" width=\"300px;\">"
   ]
  },
  {
   "cell_type": "markdown",
   "id": "ebab7948-13c2-465e-9156-15c0838d8ac9",
   "metadata": {},
   "source": [
    "##  STEP 1: Download medicine data and import them to Database\n",
    "You can download the European Medicines Agency's (EMA) medicine-related data published on this website in Excel table format from this page. EMA updates these medicine data tables once a day. The following two files need to be downloaded:\n",
    "\n",
    "<br/>\n",
    "\n",
    "* The file listing all medicines, **including the withdrawn and not authorised ones**, named medicines_output_european_public_assessment_reports_en.xlsx, found [here](https://www.ema.europa.eu/sites/default/files/Medicines_output_european_public_assessment_reports.xlsx)\n",
    "\n",
    "and\n",
    "\n",
    "* The file listing **all the URLs for the SmPCs**, named Product information URLs for member product-information-urls-member-states_en.xls, found [here](https://www.ema.europa.eu/documents/product-information/product-information-urls-member-states_en.xls)\n",
    "\n",
    "\n",
    "##### Disclaimer\n",
    "The database is used purely to join the two csv. The view can also be done with dataframes without the need to use the database\n",
    "\n",
    "[3]: https://toolbox.eupati.eu/resources/prescribing-medicines-for-special-populations/?print=print\n",
    "[4]: https://www.ema.europa.eu/en/homepage\n"
   ]
  },
  {
   "cell_type": "code",
   "execution_count": 1,
   "id": "e9690c5cdcdb3db",
   "metadata": {
    "ExecuteTime": {
     "end_time": "2023-12-28T10:26:51.682904Z",
     "start_time": "2023-12-28T10:26:51.663919Z"
    },
    "collapsed": false,
    "jupyter": {
     "outputs_hidden": false
    }
   },
   "outputs": [],
   "source": [
    "import os\n",
    "import pandas as pd\n",
    "import re\n",
    "import sqlite3\n",
    "import camelot\n",
    "\n",
    "# Define the folder that you store the required xls\n",
    "PATH = \"./data\"\n",
    "\n",
    "MEDICINE_LIST = \"medicines_output_european_public_assessment_reports_en.xlsx\"\n",
    "PRODUCT_URLS_LIST = \"product-information-urls-member-states_en.xls\""
   ]
  },
  {
   "cell_type": "code",
   "execution_count": 2,
   "id": "a3784fc65e25e785",
   "metadata": {
    "ExecuteTime": {
     "end_time": "2023-12-28T09:56:11.403460Z",
     "start_time": "2023-12-28T09:56:10.462370Z"
    },
    "collapsed": false,
    "jupyter": {
     "outputs_hidden": false
    }
   },
   "outputs": [
    {
     "data": {
      "text/html": [
       "<div>\n",
       "<style scoped>\n",
       "    .dataframe tbody tr th:only-of-type {\n",
       "        vertical-align: middle;\n",
       "    }\n",
       "\n",
       "    .dataframe tbody tr th {\n",
       "        vertical-align: top;\n",
       "    }\n",
       "\n",
       "    .dataframe thead th {\n",
       "        text-align: right;\n",
       "    }\n",
       "</style>\n",
       "<table border=\"1\" class=\"dataframe\">\n",
       "  <thead>\n",
       "    <tr style=\"text-align: right;\">\n",
       "      <th></th>\n",
       "      <th>Category</th>\n",
       "      <th>Medicine name</th>\n",
       "      <th>Therapeutic area</th>\n",
       "      <th>International non-proprietary name (INN) / common name</th>\n",
       "      <th>Active substance</th>\n",
       "      <th>Product number</th>\n",
       "      <th>Patient safety</th>\n",
       "      <th>Authorisation status</th>\n",
       "      <th>ATC code</th>\n",
       "      <th>Additional monitoring</th>\n",
       "      <th>...</th>\n",
       "      <th>Vet pharmacotherapeutic group</th>\n",
       "      <th>Date of opinion</th>\n",
       "      <th>Decision date</th>\n",
       "      <th>Revision number</th>\n",
       "      <th>Condition / indication</th>\n",
       "      <th>Species</th>\n",
       "      <th>ATCvet code</th>\n",
       "      <th>First published</th>\n",
       "      <th>Revision date</th>\n",
       "      <th>URL</th>\n",
       "    </tr>\n",
       "  </thead>\n",
       "  <tbody>\n",
       "    <tr>\n",
       "      <th>0</th>\n",
       "      <td>Human</td>\n",
       "      <td>Ryeqo</td>\n",
       "      <td>Leiomyoma</td>\n",
       "      <td>relugolix, estradiol, norethisterone acetate</td>\n",
       "      <td>Relugolix, norethisterone acetate, estradiol h...</td>\n",
       "      <td>EMEA/H/C/005267</td>\n",
       "      <td>no</td>\n",
       "      <td>Authorised</td>\n",
       "      <td>H01CC54</td>\n",
       "      <td>yes</td>\n",
       "      <td>...</td>\n",
       "      <td>NaN</td>\n",
       "      <td>2021-07-16 00:00:00</td>\n",
       "      <td>2023-10-30 01:00:00</td>\n",
       "      <td>6.0</td>\n",
       "      <td>Ryeqo is indicated in adult women of reproduct...</td>\n",
       "      <td>NaN</td>\n",
       "      <td>NaN</td>\n",
       "      <td>2021-05-19 14:14:00</td>\n",
       "      <td>2023-12-04 18:41:00</td>\n",
       "      <td>https://www.ema.europa.eu/en/medicines/human/E...</td>\n",
       "    </tr>\n",
       "    <tr>\n",
       "      <th>1</th>\n",
       "      <td>Human</td>\n",
       "      <td>Yesafili</td>\n",
       "      <td>Macular Edema;  Retinal Vein Occlusion;  Diabe...</td>\n",
       "      <td>aflibercept</td>\n",
       "      <td>aflibercept</td>\n",
       "      <td>EMEA/H/C/006022</td>\n",
       "      <td>no</td>\n",
       "      <td>Authorised</td>\n",
       "      <td>S01LA05</td>\n",
       "      <td>yes</td>\n",
       "      <td>...</td>\n",
       "      <td>NaN</td>\n",
       "      <td>2023-07-20 00:00:00</td>\n",
       "      <td>2023-11-29 01:00:00</td>\n",
       "      <td>1.0</td>\n",
       "      <td>Yesafili is indicated for adults for the treat...</td>\n",
       "      <td>NaN</td>\n",
       "      <td>NaN</td>\n",
       "      <td>2023-07-17 16:27:00</td>\n",
       "      <td>2023-12-04 18:15:00</td>\n",
       "      <td>https://www.ema.europa.eu/en/medicines/human/E...</td>\n",
       "    </tr>\n",
       "    <tr>\n",
       "      <th>2</th>\n",
       "      <td>Human</td>\n",
       "      <td>Leflunomide medac</td>\n",
       "      <td>Arthritis, Rheumatoid</td>\n",
       "      <td>leflunomide</td>\n",
       "      <td>leflunomide</td>\n",
       "      <td>EMEA/H/C/001227</td>\n",
       "      <td>no</td>\n",
       "      <td>Authorised</td>\n",
       "      <td>L04AA13</td>\n",
       "      <td>no</td>\n",
       "      <td>...</td>\n",
       "      <td>NaN</td>\n",
       "      <td>NaT</td>\n",
       "      <td>2023-10-31 01:00:00</td>\n",
       "      <td>19.0</td>\n",
       "      <td>Leflunomide is indicated for the treatment of ...</td>\n",
       "      <td>NaN</td>\n",
       "      <td>NaN</td>\n",
       "      <td>2018-01-30 14:10:00</td>\n",
       "      <td>2023-12-04 17:56:00</td>\n",
       "      <td>https://www.ema.europa.eu/en/medicines/human/E...</td>\n",
       "    </tr>\n",
       "    <tr>\n",
       "      <th>3</th>\n",
       "      <td>Human</td>\n",
       "      <td>Filgrastim Hexal</td>\n",
       "      <td>Neutropenia;  Hematopoietic Stem Cell Transpla...</td>\n",
       "      <td>filgrastim</td>\n",
       "      <td>filgrastim</td>\n",
       "      <td>EMEA/H/C/000918</td>\n",
       "      <td>no</td>\n",
       "      <td>Authorised</td>\n",
       "      <td>L03AA02</td>\n",
       "      <td>no</td>\n",
       "      <td>...</td>\n",
       "      <td>NaN</td>\n",
       "      <td>NaT</td>\n",
       "      <td>2023-11-30 01:00:00</td>\n",
       "      <td>24.0</td>\n",
       "      <td>Reduction in the duration of neutropenia and t...</td>\n",
       "      <td>NaN</td>\n",
       "      <td>NaN</td>\n",
       "      <td>2018-05-24 17:15:00</td>\n",
       "      <td>2023-12-04 17:43:00</td>\n",
       "      <td>https://www.ema.europa.eu/en/medicines/human/E...</td>\n",
       "    </tr>\n",
       "    <tr>\n",
       "      <th>4</th>\n",
       "      <td>Human</td>\n",
       "      <td>Opzelura</td>\n",
       "      <td>Vitiligo</td>\n",
       "      <td>ruxolitinib</td>\n",
       "      <td>ruxolitinib phosphate</td>\n",
       "      <td>EMEA/H/C/005843</td>\n",
       "      <td>no</td>\n",
       "      <td>Authorised</td>\n",
       "      <td>D11AH</td>\n",
       "      <td>no</td>\n",
       "      <td>...</td>\n",
       "      <td>NaN</td>\n",
       "      <td>2023-02-23 01:00:00</td>\n",
       "      <td>2023-10-19 00:00:00</td>\n",
       "      <td>2.0</td>\n",
       "      <td>Opzelura is indicated for the treatment of non...</td>\n",
       "      <td>NaN</td>\n",
       "      <td>NaN</td>\n",
       "      <td>2023-02-22 15:05:00</td>\n",
       "      <td>2023-12-04 17:35:00</td>\n",
       "      <td>https://www.ema.europa.eu/en/medicines/human/E...</td>\n",
       "    </tr>\n",
       "  </tbody>\n",
       "</table>\n",
       "<p>5 rows × 30 columns</p>\n",
       "</div>"
      ],
      "text/plain": [
       "  Category      Medicine name  \\\n",
       "0    Human              Ryeqo   \n",
       "1    Human           Yesafili   \n",
       "2    Human  Leflunomide medac   \n",
       "3    Human   Filgrastim Hexal   \n",
       "4    Human           Opzelura   \n",
       "\n",
       "                                    Therapeutic area  \\\n",
       "0                                          Leiomyoma   \n",
       "1  Macular Edema;  Retinal Vein Occlusion;  Diabe...   \n",
       "2                              Arthritis, Rheumatoid   \n",
       "3  Neutropenia;  Hematopoietic Stem Cell Transpla...   \n",
       "4                                           Vitiligo   \n",
       "\n",
       "  International non-proprietary name (INN) / common name  \\\n",
       "0       relugolix, estradiol, norethisterone acetate       \n",
       "1                                        aflibercept       \n",
       "2                                        leflunomide       \n",
       "3                                         filgrastim       \n",
       "4                                        ruxolitinib       \n",
       "\n",
       "                                    Active substance   Product number  \\\n",
       "0  Relugolix, norethisterone acetate, estradiol h...  EMEA/H/C/005267   \n",
       "1                                        aflibercept  EMEA/H/C/006022   \n",
       "2                                        leflunomide  EMEA/H/C/001227   \n",
       "3                                         filgrastim  EMEA/H/C/000918   \n",
       "4                              ruxolitinib phosphate  EMEA/H/C/005843   \n",
       "\n",
       "  Patient safety Authorisation status ATC code Additional monitoring  ...  \\\n",
       "0             no           Authorised  H01CC54                   yes  ...   \n",
       "1             no           Authorised  S01LA05                   yes  ...   \n",
       "2             no           Authorised  L04AA13                    no  ...   \n",
       "3             no           Authorised  L03AA02                    no  ...   \n",
       "4             no           Authorised    D11AH                    no  ...   \n",
       "\n",
       "  Vet pharmacotherapeutic group     Date of opinion       Decision date  \\\n",
       "0                           NaN 2021-07-16 00:00:00 2023-10-30 01:00:00   \n",
       "1                           NaN 2023-07-20 00:00:00 2023-11-29 01:00:00   \n",
       "2                           NaN                 NaT 2023-10-31 01:00:00   \n",
       "3                           NaN                 NaT 2023-11-30 01:00:00   \n",
       "4                           NaN 2023-02-23 01:00:00 2023-10-19 00:00:00   \n",
       "\n",
       "  Revision number                             Condition / indication Species  \\\n",
       "0             6.0  Ryeqo is indicated in adult women of reproduct...     NaN   \n",
       "1             1.0  Yesafili is indicated for adults for the treat...     NaN   \n",
       "2            19.0  Leflunomide is indicated for the treatment of ...     NaN   \n",
       "3            24.0  Reduction in the duration of neutropenia and t...     NaN   \n",
       "4             2.0  Opzelura is indicated for the treatment of non...     NaN   \n",
       "\n",
       "  ATCvet code     First published       Revision date  \\\n",
       "0         NaN 2021-05-19 14:14:00 2023-12-04 18:41:00   \n",
       "1         NaN 2023-07-17 16:27:00 2023-12-04 18:15:00   \n",
       "2         NaN 2018-01-30 14:10:00 2023-12-04 17:56:00   \n",
       "3         NaN 2018-05-24 17:15:00 2023-12-04 17:43:00   \n",
       "4         NaN 2023-02-22 15:05:00 2023-12-04 17:35:00   \n",
       "\n",
       "                                                 URL  \n",
       "0  https://www.ema.europa.eu/en/medicines/human/E...  \n",
       "1  https://www.ema.europa.eu/en/medicines/human/E...  \n",
       "2  https://www.ema.europa.eu/en/medicines/human/E...  \n",
       "3  https://www.ema.europa.eu/en/medicines/human/E...  \n",
       "4  https://www.ema.europa.eu/en/medicines/human/E...  \n",
       "\n",
       "[5 rows x 30 columns]"
      ]
     },
     "execution_count": 2,
     "metadata": {},
     "output_type": "execute_result"
    }
   ],
   "source": [
    "medicinesOutputData = pd.read_excel(os.path.join(PATH, MEDICINE_LIST))\n",
    "medicinesOutputData.head()"
   ]
  },
  {
   "cell_type": "code",
   "execution_count": 3,
   "id": "7c897773d11f4df2",
   "metadata": {
    "ExecuteTime": {
     "end_time": "2023-12-28T09:56:12.601138Z",
     "start_time": "2023-12-28T09:56:12.521156Z"
    },
    "collapsed": false,
    "jupyter": {
     "outputs_hidden": false
    }
   },
   "outputs": [
    {
     "data": {
      "text/html": [
       "<div>\n",
       "<style scoped>\n",
       "    .dataframe tbody tr th:only-of-type {\n",
       "        vertical-align: middle;\n",
       "    }\n",
       "\n",
       "    .dataframe tbody tr th {\n",
       "        vertical-align: top;\n",
       "    }\n",
       "\n",
       "    .dataframe thead th {\n",
       "        text-align: right;\n",
       "    }\n",
       "</style>\n",
       "<table border=\"1\" class=\"dataframe\">\n",
       "  <thead>\n",
       "    <tr style=\"text-align: right;\">\n",
       "      <th></th>\n",
       "      <th>ProductName</th>\n",
       "      <th>ProductNumber</th>\n",
       "      <th>Domain</th>\n",
       "      <th>LanguageCode</th>\n",
       "      <th>URL(oldwebsite)</th>\n",
       "      <th>URL(currentwebsite)</th>\n",
       "    </tr>\n",
       "  </thead>\n",
       "  <tbody>\n",
       "    <tr>\n",
       "      <th>0</th>\n",
       "      <td>Abasaglar (previouslyAbasria)</td>\n",
       "      <td>EMEA/H/C/002835</td>\n",
       "      <td>human</td>\n",
       "      <td>en</td>\n",
       "      <td>http://www.ema.europa.eu/docs/en_GB/document_l...</td>\n",
       "      <td>https://www.ema.europa.eu/en/documents/product...</td>\n",
       "    </tr>\n",
       "    <tr>\n",
       "      <th>1</th>\n",
       "      <td>Abecma</td>\n",
       "      <td>EMEA/H/C/004662</td>\n",
       "      <td>human</td>\n",
       "      <td>en</td>\n",
       "      <td>NaN</td>\n",
       "      <td>https://www.ema.europa.eu/en/documents/product...</td>\n",
       "    </tr>\n",
       "    <tr>\n",
       "      <th>2</th>\n",
       "      <td>Abevmy</td>\n",
       "      <td>EMEA/H/C/005327</td>\n",
       "      <td>human</td>\n",
       "      <td>en</td>\n",
       "      <td>NaN</td>\n",
       "      <td>https://www.ema.europa.eu/en/documents/product...</td>\n",
       "    </tr>\n",
       "    <tr>\n",
       "      <th>3</th>\n",
       "      <td>Abilify</td>\n",
       "      <td>EMEA/H/C/000471</td>\n",
       "      <td>human</td>\n",
       "      <td>en</td>\n",
       "      <td>http://www.ema.europa.eu/docs/en_GB/document_l...</td>\n",
       "      <td>https://www.ema.europa.eu/en/documents/product...</td>\n",
       "    </tr>\n",
       "    <tr>\n",
       "      <th>4</th>\n",
       "      <td>Abilify Maintena</td>\n",
       "      <td>EMEA/H/C/002755</td>\n",
       "      <td>human</td>\n",
       "      <td>en</td>\n",
       "      <td>http://www.ema.europa.eu/docs/en_GB/document_l...</td>\n",
       "      <td>https://www.ema.europa.eu/en/documents/product...</td>\n",
       "    </tr>\n",
       "  </tbody>\n",
       "</table>\n",
       "</div>"
      ],
      "text/plain": [
       "                     ProductName    ProductNumber Domain LanguageCode  \\\n",
       "0  Abasaglar (previouslyAbasria)  EMEA/H/C/002835  human           en   \n",
       "1                         Abecma  EMEA/H/C/004662  human           en   \n",
       "2                         Abevmy  EMEA/H/C/005327  human           en   \n",
       "3                        Abilify  EMEA/H/C/000471  human           en   \n",
       "4               Abilify Maintena  EMEA/H/C/002755  human           en   \n",
       "\n",
       "                                     URL(oldwebsite)  \\\n",
       "0  http://www.ema.europa.eu/docs/en_GB/document_l...   \n",
       "1                                                NaN   \n",
       "2                                                NaN   \n",
       "3  http://www.ema.europa.eu/docs/en_GB/document_l...   \n",
       "4  http://www.ema.europa.eu/docs/en_GB/document_l...   \n",
       "\n",
       "                                 URL(currentwebsite)  \n",
       "0  https://www.ema.europa.eu/en/documents/product...  \n",
       "1  https://www.ema.europa.eu/en/documents/product...  \n",
       "2  https://www.ema.europa.eu/en/documents/product...  \n",
       "3  https://www.ema.europa.eu/en/documents/product...  \n",
       "4  https://www.ema.europa.eu/en/documents/product...  "
      ]
     },
     "execution_count": 3,
     "metadata": {},
     "output_type": "execute_result"
    }
   ],
   "source": [
    "productInformationURLs = pd.read_excel(os.path.join(PATH, PRODUCT_URLS_LIST))\n",
    "productInformationURLs.head()"
   ]
  },
  {
   "cell_type": "code",
   "execution_count": 4,
   "id": "d561b9505df57df3",
   "metadata": {
    "ExecuteTime": {
     "end_time": "2023-12-28T09:56:13.434289Z",
     "start_time": "2023-12-28T09:56:13.296742Z"
    },
    "collapsed": false,
    "jupyter": {
     "outputs_hidden": false
    }
   },
   "outputs": [
    {
     "data": {
      "text/plain": [
       "1928"
      ]
     },
     "execution_count": 4,
     "metadata": {},
     "output_type": "execute_result"
    }
   ],
   "source": [
    "conn = sqlite3.connect(os.path.join(PATH, \"SmPCs.db\"))\n",
    "\n",
    "medicinesOutputData.to_sql('emaMedicinesOP', conn, if_exists='replace', index=False)\n",
    "productInformationURLs.to_sql('emaProductInformationURLs', conn, if_exists='replace', index=False)"
   ]
  },
  {
   "cell_type": "markdown",
   "id": "22f965865733617c",
   "metadata": {
    "collapsed": false,
    "jupyter": {
     "outputs_hidden": false
    }
   },
   "source": [
    "## Step 2: Create csv with SmPCs URLs\n",
    "\n",
    " The actual SmPCs information will be extracted from the joinedHumanAuthorisedProductURLsONLY.csv file which contains the URLs for the authorised medicines for human use."
   ]
  },
  {
   "cell_type": "code",
   "execution_count": null,
   "id": "a467495dd5a620ab",
   "metadata": {
    "ExecuteTime": {
     "end_time": "2023-12-28T09:56:15.475471Z",
     "start_time": "2023-12-28T09:56:15.448612Z"
    },
    "collapsed": false,
    "jupyter": {
     "outputs_hidden": false
    }
   },
   "outputs": [],
   "source": [
    "joinedHumanAuthorisedProductURLsONLY = pd.read_sql(\"\"\"\n",
    "    SELECT [URL(currentwebsite)]\n",
    "    FROM emaMedicinesOP\n",
    "    LEFT JOIN emaProductInformationURLs \n",
    "    ON emaMedicinesOP.[Medicine name]=emaProductInformationURLs.[ProductName]\n",
    "    WHERE  emaMedicinesOP.Category='Human'\n",
    "      AND emaMedicinesOP.[Authorisation Status] ='Authorised';\n",
    "\"\"\", conn)\n",
    "\n",
    "joinedHumanAuthorisedProductURLsONLY.to_csv(os.path.join(PATH, \"joinedHumanAuthorisedProductURLsONLY.csv\"))"
   ]
  },
  {
   "cell_type": "markdown",
   "id": "ff9f9661d49f544c",
   "metadata": {
    "collapsed": false,
    "jupyter": {
     "outputs_hidden": false
    }
   },
   "source": [
    "## Step 3: Download SmPCs pdfs\n"
   ]
  },
  {
   "cell_type": "code",
   "execution_count": null,
   "id": "3aac51489173a68b",
   "metadata": {
    "ExecuteTime": {
     "end_time": "2023-12-28T09:56:17.939751Z",
     "start_time": "2023-12-28T09:56:17.811421Z"
    },
    "collapsed": false,
    "jupyter": {
     "outputs_hidden": false
    }
   },
   "outputs": [],
   "source": [
    "import requests"
   ]
  },
  {
   "cell_type": "code",
   "execution_count": null,
   "id": "821ec2209c251cb7",
   "metadata": {
    "ExecuteTime": {
     "end_time": "2023-12-28T09:56:18.665240Z",
     "start_time": "2023-12-28T09:56:18.641887Z"
    },
    "collapsed": false,
    "jupyter": {
     "outputs_hidden": false
    }
   },
   "outputs": [],
   "source": [
    "urlsDF = pd.read_csv(os.path.join(PATH, \"joinedHumanAuthorisedProductURLsONLY.csv\"))\n",
    "urlsDF.dropna(inplace = True)\n",
    "urls = urlsDF['URL(currentwebsite)'].tolist()"
   ]
  },
  {
   "cell_type": "code",
   "execution_count": null,
   "id": "1246f236cc1dbfd2",
   "metadata": {
    "ExecuteTime": {
     "end_time": "2023-12-28T09:57:03.304561Z",
     "start_time": "2023-12-28T09:56:19.132128Z"
    },
    "collapsed": false,
    "jupyter": {
     "outputs_hidden": false
    }
   },
   "outputs": [],
   "source": [
    "for index, url in enumerate(urls):\n",
    "    response = requests.get(url)\n",
    "    file_name = url.split('/')[-1]\n",
    "\n",
    "    print(\"Download \", index, \" with name: \", file_name)\n",
    "\n",
    "    if response.status_code == 200:\n",
    "        with open(os.path.join(PATH, \"pdfs\", file_name), 'wb') as pdf_file:\n",
    "            pdf_file.write(response.content)\n",
    "    else:\n",
    "        print(f\"Failed to download the : {file_name}\")"
   ]
  },
  {
   "cell_type": "markdown",
   "id": "88e44826316516cb",
   "metadata": {
    "collapsed": false,
    "jupyter": {
     "outputs_hidden": false
    }
   },
   "source": [
    "### Step 4: Extract Tabulated Summary of Adverse Reactions from the 4.8 section \n",
    "\n",
    "This section should include all adverse reactions for which, after thorough assessment, a causal relationship between the medicinal product and the adverse event is at least a reasonable possibility. These ADRs should be all reactions from:\n",
    "* Clinical trials\n",
    "* Post-authorisation safety studies\n",
    "* Spontaneous reporting\n",
    "\n",
    "#####  The tabulated list of adverse reactions in section 4.8:\n",
    "* Introduce table with short paragraph stating source of safety database\n",
    "* Separate tables are acceptable in exceptional cases where adverse profiles markedly differ depending on the use of the product.\n",
    "\n",
    "#####  Structure of the table: general considerations\n",
    "\n",
    "* Table should be written according to MedDRA system organ classification (SOC)\n",
    "* A pragmatic approach to the location of terms should be taken in order to make the identification of adverse reactions simpler and clinically appropriate for the reader\n",
    "* Within each SOC, adverse reactions should be ranked under headings of frequency, most frequent reactions first\n",
    "* Frequency grouping, adverse reactions should be presented in order of decreasing seriousness\n",
    "\n",
    "##### Frequency Grouping:\n",
    "* Very common (≥1/10)\n",
    "* Common (≥1/100 to <1/10)\n",
    "* Uncommon (≥1/1,000 to <1/100)\n",
    "* Rare (≥1/10,000 to <1/1,000)\n",
    "* Very rare (<1/10,000)\n",
    "* Frequency not known (cannot be estimated from the available data)\n",
    "\n",
    "#### SmPCs Examples\n",
    "\n",
    "<img src=\"./images/SmPCs_example.png\" width=\"500px;\">\n",
    "\n",
    "\n",
    "## MedDRA\n",
    "MedDRA is a multilingual terminology allowing most users to operate in their native languages. The table below identifies the initial MedDRA version when each MedDRA language was made available to users. \n",
    "\n",
    "<br />\n",
    "\n",
    "<img src=\"./images/MedDRA_Hierarchy.png\" width=\"500px;\">\n",
    "\n",
    "<br />\n",
    "\n",
    "The most important reason to “code” data into a standardised terminology is to analyse it. A key benefit of MedDRA is in its support of straightforward as well as sophisticated analyses. MedDRA can be used to analyse individual medical events (e.g., “Influenza”) or issues involving a system, organ or aetiology (e.g., infections) using its hierarchical structure. MedDRA can be used for signal detection and monitoring of clinical syndromes whose symptoms encompass numerous systems or organs using its multiaxial hierarchy or through the special feature of Standardised MedDRA Queries.\n",
    "\n",
    "<br />\n",
    "\n",
    "### MedDRA Hierarchy\n",
    "\n",
    "The structure of MedDRA is very logical. There are five levels to the MedDRA hierarchy, arranged from very specific to very general.\n",
    "\n",
    "<br />\n",
    "\n",
    "Download [MedDRA codes](https://www.ema.europa.eu/en/documents/other/meddra-important-medical-event-terms-list-version-261_en.xlsx) and extract the unique values from the SOC Name column"
   ]
  },
  {
   "cell_type": "code",
   "execution_count": 5,
   "id": "919f7a90-3b85-46da-ad44-0682ac37769d",
   "metadata": {
    "ExecuteTime": {
     "end_time": "2023-12-28T10:27:03.258848Z",
     "start_time": "2023-12-28T10:27:02.365652Z"
    }
   },
   "outputs": [],
   "source": [
    "medraSOC = pd.read_excel(os.path.join(PATH, \"MedDRA\", \"meddra-important-medical-event-terms-list-version-261_en.xlsx\"))\n",
    "socList = medraSOC['SOC Name'].unique()\n",
    "SOCListRegex = '(?:% s)' % '|'.join(socList)\n",
    "regex = re.compile(SOCListRegex)"
   ]
  },
  {
   "cell_type": "code",
   "execution_count": 6,
   "id": "fe6eb45f-65da-4b9d-a0f9-657fb416ddb3",
   "metadata": {
    "ExecuteTime": {
     "end_time": "2023-12-28T10:27:04.448314Z",
     "start_time": "2023-12-28T10:27:04.437858Z"
    }
   },
   "outputs": [
    {
     "data": {
      "text/plain": [
       "re.compile(r'(?:Blood and lymphatic system disorders|Cardiac disorders|Congenital, familial and genetic disorders|Endocrine disorders|Eye disorders|Gastrointestinal disorders|Hepatobiliary disorders|Immune system disorders|Infections and infestations|Injury, poisoning and procedural complications|Investigations|Musculoskeletal and connective tissue disorders|Neoplasms benign, malignant and unspecified (incl cysts and polyps)|Nervous system disorders|Pregnancy, puerperium and perinatal conditions|Renal and urinary disorders|Reproductive system and breast disorders|Respiratory, thoracic and mediastinal disorders|Surgical and medical procedures|Vascular disorders|Ear and labyrinth disorders|General disorders and administration site conditions|Metabolism and nutrition disorders|Product issues|Psychiatric disorders|Skin and subcutaneous tissue disorders|Social circumstances)',\n",
       "           re.UNICODE)"
      ]
     },
     "execution_count": 6,
     "metadata": {},
     "output_type": "execute_result"
    }
   ],
   "source": [
    "regex"
   ]
  },
  {
   "cell_type": "code",
   "execution_count": 31,
   "id": "130327e5586f0d24",
   "metadata": {
    "ExecuteTime": {
     "end_time": "2023-12-28T09:57:20.682839Z",
     "start_time": "2023-12-28T09:57:20.667040Z"
    },
    "collapsed": false,
    "jupyter": {
     "outputs_hidden": false
    }
   },
   "outputs": [
    {
     "ename": "SyntaxError",
     "evalue": "invalid syntax (2518693311.py, line 8)",
     "output_type": "error",
     "traceback": [
      "\u001b[0;36m  Cell \u001b[0;32mIn[31], line 8\u001b[0;36m\u001b[0m\n\u001b[0;31m    if \"reaction\".lower() in row[2].lower() else False:\u001b[0m\n\u001b[0m                                            ^\u001b[0m\n\u001b[0;31mSyntaxError\u001b[0m\u001b[0;31m:\u001b[0m invalid syntax\n"
     ]
    }
   ],
   "source": [
    "def extract_table_rows(df):\n",
    "    rows = []\n",
    "\n",
    "    for row in df.itertuples():\n",
    "        # First row contains the header\n",
    "        if row[0] == 0:\n",
    "            # Find the order of columns\n",
    "            if \"reaction\".lower() in row[2].lower() else False:\n",
    "                AD_index, F_index  = 2, 3\n",
    "            else:\n",
    "                AD_index, F_index  = 3, 2\n",
    "\n",
    "        else:\n",
    "            ad_reaction = row[AD_index].split('\\n')\n",
    "            freq = row[F_index].split('\\n')\n",
    "            \n",
    "            for index, ad in enumerate(ad_reaction):\n",
    "                ad_row = []\n",
    "                ad_row.insert(0, row[1].replace('\\n', ''))  \n",
    "                ad_row.insert(1, ad_reaction[index].strip())\n",
    "                ad_row.insert(2, freq[index].strip())\n",
    "                rows.append(ad_row)\n",
    "    return rows"
   ]
  },
  {
   "cell_type": "code",
   "execution_count": 32,
   "id": "28842dd7-a610-425e-880b-36751d556b35",
   "metadata": {
    "ExecuteTime": {
     "end_time": "2023-12-28T09:57:26.202624Z",
     "start_time": "2023-12-28T09:57:21.475035Z"
    },
    "collapsed": false,
    "jupyter": {
     "outputs_hidden": false
    }
   },
   "outputs": [
    {
     "name": "stdout",
     "output_type": "stream",
     "text": [
      "Start Processing Filename:  ./data/pdfs/metformin-hydrochloride-accord-epar-product-information_en.pdf\n"
     ]
    },
    {
     "name": "stderr",
     "output_type": "stream",
     "text": [
      "/var/folders/h3/2hsc1tt90kn6k_0wsgjj18nc0000gn/T/ipykernel_29736/3426297550.py:21: UserWarning: This pattern is interpreted as a regular expression, and has match groups. To actually get the groups, use str.extract.\n",
      "  matches = df[0].str.contains(regex, regex=True)\n"
     ]
    },
    {
     "name": "stdout",
     "output_type": "stream",
     "text": [
      "The file  metformin  does NOT have three columns table\n",
      "The file  metformin  does NOT have three columns table\n",
      "Start Processing Filename:  ./data/pdfs/prehevbri-epar-product-information_en.pdf\n",
      "The file  prehevbri  does have three columns table\n"
     ]
    },
    {
     "name": "stderr",
     "output_type": "stream",
     "text": [
      "/var/folders/h3/2hsc1tt90kn6k_0wsgjj18nc0000gn/T/ipykernel_29736/3426297550.py:21: UserWarning: This pattern is interpreted as a regular expression, and has match groups. To actually get the groups, use str.extract.\n",
      "  matches = df[0].str.contains(regex, regex=True)\n"
     ]
    },
    {
     "ename": "IndexError",
     "evalue": "list index out of range",
     "output_type": "error",
     "traceback": [
      "\u001b[0;31m---------------------------------------------------------------------------\u001b[0m",
      "\u001b[0;31mIndexError\u001b[0m                                Traceback (most recent call last)",
      "Cell \u001b[0;32mIn[32], line 30\u001b[0m\n\u001b[1;32m     27\u001b[0m \u001b[38;5;28;01mif\u001b[39;00m \u001b[38;5;28mlen\u001b[39m(df\u001b[38;5;241m.\u001b[39mcolumns) \u001b[38;5;241m==\u001b[39m \u001b[38;5;241m3\u001b[39m:\n\u001b[1;32m     28\u001b[0m     \u001b[38;5;66;03m# Case A: Dataframe consists of 3 columns\u001b[39;00m\n\u001b[1;32m     29\u001b[0m     \u001b[38;5;28mprint\u001b[39m(\u001b[38;5;124m\"\u001b[39m\u001b[38;5;124mThe file \u001b[39m\u001b[38;5;124m\"\u001b[39m, filename, \u001b[38;5;124m\"\u001b[39m\u001b[38;5;124m does have three columns table\u001b[39m\u001b[38;5;124m\"\u001b[39m)\n\u001b[0;32m---> 30\u001b[0m     extracted_rows \u001b[38;5;241m=\u001b[39m \u001b[43mextract_table_rows\u001b[49m\u001b[43m(\u001b[49m\u001b[43mdf\u001b[49m\u001b[43m)\u001b[49m\n\u001b[1;32m     31\u001b[0m     \u001b[38;5;28;01mfor\u001b[39;00m row \u001b[38;5;129;01min\u001b[39;00m extracted_rows:\n\u001b[1;32m     32\u001b[0m         rows\u001b[38;5;241m.\u001b[39mappend(row)\n",
      "Cell \u001b[0;32mIn[20], line 21\u001b[0m, in \u001b[0;36mextract_table_rows\u001b[0;34m(df)\u001b[0m\n\u001b[1;32m     19\u001b[0m             ad_row\u001b[38;5;241m.\u001b[39minsert(\u001b[38;5;241m0\u001b[39m, row[\u001b[38;5;241m1\u001b[39m]\u001b[38;5;241m.\u001b[39mreplace(\u001b[38;5;124m'\u001b[39m\u001b[38;5;130;01m\\n\u001b[39;00m\u001b[38;5;124m'\u001b[39m, \u001b[38;5;124m'\u001b[39m\u001b[38;5;124m'\u001b[39m))  \n\u001b[1;32m     20\u001b[0m             ad_row\u001b[38;5;241m.\u001b[39minsert(\u001b[38;5;241m1\u001b[39m, ad_reaction[index]\u001b[38;5;241m.\u001b[39mstrip())\n\u001b[0;32m---> 21\u001b[0m             ad_row\u001b[38;5;241m.\u001b[39minsert(\u001b[38;5;241m2\u001b[39m, \u001b[43mfreq\u001b[49m\u001b[43m[\u001b[49m\u001b[43mindex\u001b[49m\u001b[43m]\u001b[49m\u001b[38;5;241m.\u001b[39mstrip())\n\u001b[1;32m     22\u001b[0m             rows\u001b[38;5;241m.\u001b[39mappend(ad_row)\n\u001b[1;32m     23\u001b[0m \u001b[38;5;28;01mreturn\u001b[39;00m rows\n",
      "\u001b[0;31mIndexError\u001b[0m: list index out of range"
     ]
    }
   ],
   "source": [
    "# List all pdfs in the directory\n",
    "pdfs_processed = []\n",
    "pdfs_not_processed = []\n",
    "\n",
    "for file in os.listdir(os.path.join(PATH, 'pdfs')): # ['abecma-epar-product-information_en.pdf']:\n",
    "    \n",
    "    if file.lower().endswith('.pdf'):\n",
    "        filename = file.split('/')[-1].split('-')[0]\n",
    "        fullpath = os.path.join(PATH, 'pdfs', file)\n",
    "        \n",
    "        print(\"Start Processing Filename: \", fullpath)\n",
    "        \n",
    "        tables = camelot.read_pdf(fullpath, pages='all', flavor='lattice', line_scale=80, shift_text = ['', 'l'], process_background=False)\n",
    "\n",
    "        rows = []\n",
    "        for i, table in enumerate(tables):\n",
    "            # Convert table to a pandas DataFrame\n",
    "            df = table.df\n",
    "    \n",
    "            # Search for regex in the first column\n",
    "            matches = df[0].str.contains(regex, regex=True)\n",
    "    \n",
    "            # Check if any value in the column matches the regex pattern\n",
    "            contains_regex = matches.any()\n",
    "\n",
    "            if contains_regex:\n",
    "                if len(df.columns) == 3:\n",
    "                    # Case A: Dataframe consists of 3 columns\n",
    "                    print(\"The file \", filename, \" does have three columns table\")\n",
    "                    extracted_rows = extract_table_rows(df)\n",
    "                    for row in extracted_rows:\n",
    "                        rows.append(row)\n",
    "\n",
    "                    pdfs_processed.append(fullpath)\n",
    "                else:\n",
    "                    print(\"The file \", filename, \" does NOT have three columns table\")\n",
    "                    pdfs_not_processed.append(fullpath)\n",
    "        if rows:\n",
    "            pd.DataFrame(rows, columns=[\"SOC\", \"ADR\", \"FREQ\"]).to_csv(os.path.join(PATH, \"extracted_tables\", filename + \".csv\"), sep=';', encoding='utf-8', index=False)\n",
    "            \n",
    "# Create report"
   ]
  },
  {
   "cell_type": "code",
   "execution_count": 33,
   "id": "9517ac1ad0f74b84",
   "metadata": {
    "ExecuteTime": {
     "end_time": "2023-12-28T10:02:26.988563Z",
     "start_time": "2023-12-28T10:02:26.827549Z"
    },
    "collapsed": false,
    "jupyter": {
     "outputs_hidden": false
    }
   },
   "outputs": [],
   "source": [
    "file = \"./data/pdfs/prehevbri-epar-product-information_en.pdf\""
   ]
  },
  {
   "cell_type": "code",
   "execution_count": 34,
   "id": "854aed71c09fda0f",
   "metadata": {
    "ExecuteTime": {
     "end_time": "2023-12-28T10:27:12.808572Z",
     "start_time": "2023-12-28T10:27:12.783700Z"
    },
    "collapsed": false,
    "jupyter": {
     "outputs_hidden": false
    }
   },
   "outputs": [],
   "source": [
    "tables = camelot.read_pdf(fullpath, pages='all', flavor='lattice', line_scale=40, shift_text = ['', 'l'], process_background=True)"
   ]
  },
  {
   "cell_type": "code",
   "execution_count": 35,
   "id": "77e91c8f7d59d26f",
   "metadata": {
    "ExecuteTime": {
     "end_time": "2023-12-28T10:27:16.675197Z",
     "start_time": "2023-12-28T10:27:16.655296Z"
    },
    "collapsed": false,
    "jupyter": {
     "outputs_hidden": false
    }
   },
   "outputs": [
    {
     "name": "stdout",
     "output_type": "stream",
     "text": [
      "Table index:  0\n"
     ]
    },
    {
     "name": "stderr",
     "output_type": "stream",
     "text": [
      "/var/folders/h3/2hsc1tt90kn6k_0wsgjj18nc0000gn/T/ipykernel_29736/2842267533.py:5: UserWarning: This pattern is interpreted as a regular expression, and has match groups. To actually get the groups, use str.extract.\n",
      "  matches = df[0].str.contains(regex, regex=True)\n"
     ]
    }
   ],
   "source": [
    "for i, table in enumerate(tables):\n",
    "    df = table.df\n",
    "    \n",
    "    # Search for regex in the first column\n",
    "    matches = df[0].str.contains(regex, regex=True)\n",
    "    \n",
    "    # Check if any value in the column matches the regex pattern\n",
    "    contains_regex = matches.any()\n",
    "\n",
    "    if contains_regex:\n",
    "        if len(df.columns) == 3:\n",
    "            print(\"Table index: \", i)"
   ]
  },
  {
   "cell_type": "code",
   "execution_count": 39,
   "id": "8bcd6888-b8d6-4386-ac8e-c84a7bc1ffa2",
   "metadata": {},
   "outputs": [
    {
     "data": {
      "text/html": [
       "<div>\n",
       "<style scoped>\n",
       "    .dataframe tbody tr th:only-of-type {\n",
       "        vertical-align: middle;\n",
       "    }\n",
       "\n",
       "    .dataframe tbody tr th {\n",
       "        vertical-align: top;\n",
       "    }\n",
       "\n",
       "    .dataframe thead th {\n",
       "        text-align: right;\n",
       "    }\n",
       "</style>\n",
       "<table border=\"1\" class=\"dataframe\">\n",
       "  <thead>\n",
       "    <tr style=\"text-align: right;\">\n",
       "      <th></th>\n",
       "      <th>0</th>\n",
       "      <th>1</th>\n",
       "      <th>2</th>\n",
       "    </tr>\n",
       "  </thead>\n",
       "  <tbody>\n",
       "    <tr>\n",
       "      <th>0</th>\n",
       "      <td>System Organ Class</td>\n",
       "      <td>Adverse Reaction</td>\n",
       "      <td>Frequency</td>\n",
       "    </tr>\n",
       "    <tr>\n",
       "      <th>1</th>\n",
       "      <td>Blood and Lymphatic System \\nDisorders</td>\n",
       "      <td>Lymphadenopathy</td>\n",
       "      <td>Uncommon</td>\n",
       "    </tr>\n",
       "    <tr>\n",
       "      <th>2</th>\n",
       "      <td></td>\n",
       "      <td>Diarrhoea1, nausea/vomiting1</td>\n",
       "      <td>Common</td>\n",
       "    </tr>\n",
       "    <tr>\n",
       "      <th>3</th>\n",
       "      <td>Gastrointestinal Disorders</td>\n",
       "      <td>Abdominal pain</td>\n",
       "      <td>Common</td>\n",
       "    </tr>\n",
       "    <tr>\n",
       "      <th>4</th>\n",
       "      <td></td>\n",
       "      <td>Injection site pain1, injection site tendernes...</td>\n",
       "      <td>Very Common</td>\n",
       "    </tr>\n",
       "    <tr>\n",
       "      <th>5</th>\n",
       "      <td>General Disorders and</td>\n",
       "      <td>Injection site swelling1, injection site redness1</td>\n",
       "      <td>Common</td>\n",
       "    </tr>\n",
       "    <tr>\n",
       "      <th>6</th>\n",
       "      <td>Administration Site Conditions</td>\n",
       "      <td>Injection site bruising</td>\n",
       "      <td>Common</td>\n",
       "    </tr>\n",
       "    <tr>\n",
       "      <th>7</th>\n",
       "      <td></td>\n",
       "      <td>Fever1</td>\n",
       "      <td>Common</td>\n",
       "    </tr>\n",
       "    <tr>\n",
       "      <th>8</th>\n",
       "      <td></td>\n",
       "      <td>Headache1</td>\n",
       "      <td>Very Common</td>\n",
       "    </tr>\n",
       "    <tr>\n",
       "      <th>9</th>\n",
       "      <td>Nervous System Disorders</td>\n",
       "      <td>Dizziness</td>\n",
       "      <td>Common</td>\n",
       "    </tr>\n",
       "    <tr>\n",
       "      <th>10</th>\n",
       "      <td>Musculoskeletal and Connective</td>\n",
       "      <td>Myalgia1</td>\n",
       "      <td>Very Common</td>\n",
       "    </tr>\n",
       "  </tbody>\n",
       "</table>\n",
       "</div>"
      ],
      "text/plain": [
       "                                         0  \\\n",
       "0                       System Organ Class   \n",
       "1   Blood and Lymphatic System \\nDisorders   \n",
       "2                                            \n",
       "3               Gastrointestinal Disorders   \n",
       "4                                            \n",
       "5                    General Disorders and   \n",
       "6           Administration Site Conditions   \n",
       "7                                            \n",
       "8                                            \n",
       "9                 Nervous System Disorders   \n",
       "10          Musculoskeletal and Connective   \n",
       "\n",
       "                                                    1            2  \n",
       "0                                    Adverse Reaction    Frequency  \n",
       "1                                     Lymphadenopathy     Uncommon  \n",
       "2                        Diarrhoea1, nausea/vomiting1       Common  \n",
       "3                                      Abdominal pain       Common  \n",
       "4   Injection site pain1, injection site tendernes...  Very Common  \n",
       "5   Injection site swelling1, injection site redness1       Common  \n",
       "6                             Injection site bruising       Common  \n",
       "7                                              Fever1       Common  \n",
       "8                                           Headache1  Very Common  \n",
       "9                                           Dizziness       Common  \n",
       "10                                           Myalgia1  Very Common  "
      ]
     },
     "execution_count": 39,
     "metadata": {},
     "output_type": "execute_result"
    }
   ],
   "source": [
    "tables[0].df.head(11)"
   ]
  },
  {
   "cell_type": "code",
   "execution_count": 14,
   "id": "e95bf66544276ea1",
   "metadata": {
    "collapsed": false,
    "jupyter": {
     "outputs_hidden": false
    }
   },
   "outputs": [],
   "source": [
    "rows = []\n",
    "\n",
    "for row in df.itertuples():\n",
    "    # First row contains the header\n",
    "    if row[0] == 0:\n",
    "        # Find the order of columns\n",
    "        if \"reaction\".lower() in row[2].lower() else False:\n",
    "            AD_index, F_index  = 2, 3\n",
    "        else:\n",
    "            AD_index, F_index  = 3, 2\n",
    "\n",
    "        else:\n",
    "            ad_reaction = row[AD_index].split('\\n')\n",
    "            freq = row[F_index].split('\\n')\n",
    "            \n",
    "            for index, ad in enumerate(ad_reaction):\n",
    "                ad_row = []\n",
    "                ad_row.insert(0, row[1].replace('\\n', ''))  \n",
    "                ad_row.insert(1, ad_reaction[index].strip())\n",
    "                ad_row.insert(2, freq[index].strip())\n",
    "                rows.append(ad_row)"
   ]
  },
  {
   "cell_type": "code",
   "execution_count": 17,
   "id": "c13a1b6d-0153-432f-a179-baf0a1ae50d6",
   "metadata": {},
   "outputs": [
    {
     "data": {
      "text/plain": [
       "'./data/pdfs/abecma-epar-product-information_en.pdf'"
      ]
     },
     "execution_count": 17,
     "metadata": {},
     "output_type": "execute_result"
    }
   ],
   "source": [
    "os.path.join(PATH, 'pdfs', 'abecma-epar-product-information_en.pdf')"
   ]
  },
  {
   "cell_type": "code",
   "execution_count": 22,
   "id": "fb03b22a-016b-401a-90db-f5c6e5aa3b65",
   "metadata": {},
   "outputs": [],
   "source": [
    "import PyPDF2"
   ]
  },
  {
   "cell_type": "code",
   "execution_count": 23,
   "id": "6bc695a6-2077-4e4d-9e38-1095bb1fac7d",
   "metadata": {},
   "outputs": [
    {
     "data": {
      "text/plain": [
       "'2.12.1'"
      ]
     },
     "execution_count": 23,
     "metadata": {},
     "output_type": "execute_result"
    }
   ],
   "source": [
    "PyPDF2.__version__"
   ]
  },
  {
   "cell_type": "code",
   "execution_count": 44,
   "id": "20bba70b-f4b2-470b-a011-ad3251003324",
   "metadata": {},
   "outputs": [
    {
     "name": "stdout",
     "output_type": "stream",
     "text": [
      "Requirement already satisfied: camelot-py[plot] in /Library/Frameworks/Python.framework/Versions/3.11/lib/python3.11/site-packages (0.9.0)\n",
      "Requirement already satisfied: chardet>=3.0.4 in /Library/Frameworks/Python.framework/Versions/3.11/lib/python3.11/site-packages (from camelot-py[plot]) (5.1.0)\n",
      "Requirement already satisfied: click>=6.7 in /Library/Frameworks/Python.framework/Versions/3.11/lib/python3.11/site-packages (from camelot-py[plot]) (8.1.7)\n",
      "Requirement already satisfied: numpy>=1.13.3 in /Library/Frameworks/Python.framework/Versions/3.11/lib/python3.11/site-packages (from camelot-py[plot]) (1.25.0)\n",
      "Requirement already satisfied: openpyxl>=2.5.8 in /Library/Frameworks/Python.framework/Versions/3.11/lib/python3.11/site-packages (from camelot-py[plot]) (3.1.2)\n",
      "Requirement already satisfied: pandas>=0.23.4 in /Library/Frameworks/Python.framework/Versions/3.11/lib/python3.11/site-packages (from camelot-py[plot]) (2.0.2)\n",
      "Requirement already satisfied: pdfminer.six>=20200726 in /Library/Frameworks/Python.framework/Versions/3.11/lib/python3.11/site-packages (from camelot-py[plot]) (20221105)\n",
      "Requirement already satisfied: PyPDF2>=1.26.0 in /Library/Frameworks/Python.framework/Versions/3.11/lib/python3.11/site-packages (from camelot-py[plot]) (2.12.1)\n",
      "Collecting matplotlib>=2.2.3 (from camelot-py[plot])\n",
      "  Downloading matplotlib-3.8.2-cp311-cp311-macosx_10_12_x86_64.whl.metadata (5.8 kB)\n",
      "Collecting contourpy>=1.0.1 (from matplotlib>=2.2.3->camelot-py[plot])\n",
      "  Downloading contourpy-1.2.0-cp311-cp311-macosx_10_9_x86_64.whl.metadata (5.8 kB)\n",
      "Collecting cycler>=0.10 (from matplotlib>=2.2.3->camelot-py[plot])\n",
      "  Downloading cycler-0.12.1-py3-none-any.whl.metadata (3.8 kB)\n",
      "Collecting fonttools>=4.22.0 (from matplotlib>=2.2.3->camelot-py[plot])\n",
      "  Downloading fonttools-4.47.0-cp311-cp311-macosx_10_9_x86_64.whl.metadata (157 kB)\n",
      "\u001b[2K     \u001b[90m━━━━━━━━━━━━━━━━━━━━━━━━━━━━━━━━━━━━━━━\u001b[0m \u001b[32m157.2/157.2 kB\u001b[0m \u001b[31m1.4 MB/s\u001b[0m eta \u001b[36m0:00:00\u001b[0ma \u001b[36m0:00:01\u001b[0m\n",
      "\u001b[?25hCollecting kiwisolver>=1.3.1 (from matplotlib>=2.2.3->camelot-py[plot])\n",
      "  Downloading kiwisolver-1.4.5-cp311-cp311-macosx_10_9_x86_64.whl.metadata (6.4 kB)\n",
      "Requirement already satisfied: packaging>=20.0 in /Library/Frameworks/Python.framework/Versions/3.11/lib/python3.11/site-packages (from matplotlib>=2.2.3->camelot-py[plot]) (23.2)\n",
      "Collecting pillow>=8 (from matplotlib>=2.2.3->camelot-py[plot])\n",
      "  Downloading Pillow-10.1.0-cp311-cp311-macosx_10_10_x86_64.whl.metadata (9.5 kB)\n",
      "Collecting pyparsing>=2.3.1 (from matplotlib>=2.2.3->camelot-py[plot])\n",
      "  Downloading pyparsing-3.1.1-py3-none-any.whl.metadata (5.1 kB)\n",
      "Requirement already satisfied: python-dateutil>=2.7 in /Library/Frameworks/Python.framework/Versions/3.11/lib/python3.11/site-packages (from matplotlib>=2.2.3->camelot-py[plot]) (2.8.2)\n",
      "Requirement already satisfied: et-xmlfile in /Library/Frameworks/Python.framework/Versions/3.11/lib/python3.11/site-packages (from openpyxl>=2.5.8->camelot-py[plot]) (1.1.0)\n",
      "Requirement already satisfied: pytz>=2020.1 in /Library/Frameworks/Python.framework/Versions/3.11/lib/python3.11/site-packages (from pandas>=0.23.4->camelot-py[plot]) (2023.3)\n",
      "Requirement already satisfied: tzdata>=2022.1 in /Library/Frameworks/Python.framework/Versions/3.11/lib/python3.11/site-packages (from pandas>=0.23.4->camelot-py[plot]) (2023.3)\n",
      "Requirement already satisfied: charset-normalizer>=2.0.0 in /Library/Frameworks/Python.framework/Versions/3.11/lib/python3.11/site-packages (from pdfminer.six>=20200726->camelot-py[plot]) (3.1.0)\n",
      "Requirement already satisfied: cryptography>=36.0.0 in /Library/Frameworks/Python.framework/Versions/3.11/lib/python3.11/site-packages (from pdfminer.six>=20200726->camelot-py[plot]) (41.0.7)\n",
      "Requirement already satisfied: cffi>=1.12 in /Library/Frameworks/Python.framework/Versions/3.11/lib/python3.11/site-packages (from cryptography>=36.0.0->pdfminer.six>=20200726->camelot-py[plot]) (1.16.0)\n",
      "Requirement already satisfied: six>=1.5 in /Library/Frameworks/Python.framework/Versions/3.11/lib/python3.11/site-packages (from python-dateutil>=2.7->matplotlib>=2.2.3->camelot-py[plot]) (1.16.0)\n",
      "Requirement already satisfied: pycparser in /Library/Frameworks/Python.framework/Versions/3.11/lib/python3.11/site-packages (from cffi>=1.12->cryptography>=36.0.0->pdfminer.six>=20200726->camelot-py[plot]) (2.21)\n",
      "Downloading matplotlib-3.8.2-cp311-cp311-macosx_10_12_x86_64.whl (7.6 MB)\n",
      "\u001b[2K   \u001b[90m━━━━━━━━━━━━━━━━━━━━━━━━━━━━━━━━━━━━━━━━\u001b[0m \u001b[32m7.6/7.6 MB\u001b[0m \u001b[31m4.2 MB/s\u001b[0m eta \u001b[36m0:00:00\u001b[0m00:01\u001b[0m00:01\u001b[0m\n",
      "\u001b[?25hDownloading contourpy-1.2.0-cp311-cp311-macosx_10_9_x86_64.whl (258 kB)\n",
      "\u001b[2K   \u001b[90m━━━━━━━━━━━━━━━━━━━━━━━━━━━━━━━━━━━━━━━━\u001b[0m \u001b[32m258.2/258.2 kB\u001b[0m \u001b[31m3.6 MB/s\u001b[0m eta \u001b[36m0:00:00\u001b[0ma \u001b[36m0:00:01\u001b[0m\n",
      "\u001b[?25hDownloading cycler-0.12.1-py3-none-any.whl (8.3 kB)\n",
      "Downloading fonttools-4.47.0-cp311-cp311-macosx_10_9_x86_64.whl (2.3 MB)\n",
      "\u001b[2K   \u001b[90m━━━━━━━━━━━━━━━━━━━━━━━━━━━━━━━━━━━━━━━━\u001b[0m \u001b[32m2.3/2.3 MB\u001b[0m \u001b[31m4.7 MB/s\u001b[0m eta \u001b[36m0:00:00\u001b[0m00:01\u001b[0m00:01\u001b[0m\n",
      "\u001b[?25hDownloading kiwisolver-1.4.5-cp311-cp311-macosx_10_9_x86_64.whl (68 kB)\n",
      "\u001b[2K   \u001b[90m━━━━━━━━━━━━━━━━━━━━━━━━━━━━━━━━━━━━━━━━\u001b[0m \u001b[32m68.2/68.2 kB\u001b[0m \u001b[31m2.0 MB/s\u001b[0m eta \u001b[36m0:00:00\u001b[0m\n",
      "\u001b[?25hDownloading Pillow-10.1.0-cp311-cp311-macosx_10_10_x86_64.whl (3.5 MB)\n",
      "\u001b[2K   \u001b[90m━━━━━━━━━━━━━━━━━━━━━━━━━━━━━━━━━━━━━━━━\u001b[0m \u001b[32m3.5/3.5 MB\u001b[0m \u001b[31m4.9 MB/s\u001b[0m eta \u001b[36m0:00:00\u001b[0m00:01\u001b[0m00:01\u001b[0m\n",
      "\u001b[?25hDownloading pyparsing-3.1.1-py3-none-any.whl (103 kB)\n",
      "\u001b[2K   \u001b[90m━━━━━━━━━━━━━━━━━━━━━━━━━━━━━━━━━━━━━━━━\u001b[0m \u001b[32m103.1/103.1 kB\u001b[0m \u001b[31m2.5 MB/s\u001b[0m eta \u001b[36m0:00:00\u001b[0m00:01\u001b[0m\n",
      "\u001b[?25hInstalling collected packages: pyparsing, pillow, kiwisolver, fonttools, cycler, contourpy, matplotlib\n",
      "Successfully installed contourpy-1.2.0 cycler-0.12.1 fonttools-4.47.0 kiwisolver-1.4.5 matplotlib-3.8.2 pillow-10.1.0 pyparsing-3.1.1\n"
     ]
    }
   ],
   "source": [
    "!pip install \"camelot-py[plot]\""
   ]
  },
  {
   "cell_type": "code",
   "execution_count": 52,
   "id": "17edc8db-ad06-413b-8fd3-1fb7cae7399d",
   "metadata": {},
   "outputs": [
    {
     "ename": "ImportError",
     "evalue": "matplotlib is required for plotting.",
     "output_type": "error",
     "traceback": [
      "\u001b[0;31m---------------------------------------------------------------------------\u001b[0m",
      "\u001b[0;31mImportError\u001b[0m                               Traceback (most recent call last)",
      "Cell \u001b[0;32mIn[52], line 1\u001b[0m\n\u001b[0;32m----> 1\u001b[0m \u001b[43mcamelot\u001b[49m\u001b[38;5;241;43m.\u001b[39;49m\u001b[43mplot\u001b[49m\u001b[43m(\u001b[49m\u001b[43mtables\u001b[49m\u001b[43m[\u001b[49m\u001b[38;5;241;43m0\u001b[39;49m\u001b[43m]\u001b[49m\u001b[43m,\u001b[49m\u001b[43m \u001b[49m\u001b[43mkind\u001b[49m\u001b[38;5;241;43m=\u001b[39;49m\u001b[38;5;124;43m'\u001b[39;49m\u001b[38;5;124;43mtext\u001b[39;49m\u001b[38;5;124;43m'\u001b[39;49m\u001b[43m)\u001b[49m\u001b[38;5;241m.\u001b[39mshow()\n",
      "File \u001b[0;32m/Library/Frameworks/Python.framework/Versions/3.11/lib/python3.11/site-packages/camelot/plotting.py:34\u001b[0m, in \u001b[0;36mPlotMethods.__call__\u001b[0;34m(self, table, kind, filename)\u001b[0m\n\u001b[1;32m     14\u001b[0m \u001b[38;5;250m\u001b[39m\u001b[38;5;124;03m\"\"\"Plot elements found on PDF page based on kind\u001b[39;00m\n\u001b[1;32m     15\u001b[0m \u001b[38;5;124;03mspecified, useful for debugging and playing with different\u001b[39;00m\n\u001b[1;32m     16\u001b[0m \u001b[38;5;124;03mparameters to get the best output.\u001b[39;00m\n\u001b[0;32m   (...)\u001b[0m\n\u001b[1;32m     31\u001b[0m \n\u001b[1;32m     32\u001b[0m \u001b[38;5;124;03m\"\"\"\u001b[39;00m\n\u001b[1;32m     33\u001b[0m \u001b[38;5;28;01mif\u001b[39;00m \u001b[38;5;129;01mnot\u001b[39;00m _HAS_MPL:\n\u001b[0;32m---> 34\u001b[0m     \u001b[38;5;28;01mraise\u001b[39;00m \u001b[38;5;167;01mImportError\u001b[39;00m(\u001b[38;5;124m\"\u001b[39m\u001b[38;5;124mmatplotlib is required for plotting.\u001b[39m\u001b[38;5;124m\"\u001b[39m)\n\u001b[1;32m     36\u001b[0m \u001b[38;5;28;01mif\u001b[39;00m table\u001b[38;5;241m.\u001b[39mflavor \u001b[38;5;241m==\u001b[39m \u001b[38;5;124m\"\u001b[39m\u001b[38;5;124mlattice\u001b[39m\u001b[38;5;124m\"\u001b[39m \u001b[38;5;129;01mand\u001b[39;00m kind \u001b[38;5;129;01min\u001b[39;00m [\u001b[38;5;124m\"\u001b[39m\u001b[38;5;124mtextedge\u001b[39m\u001b[38;5;124m\"\u001b[39m]:\n\u001b[1;32m     37\u001b[0m     \u001b[38;5;28;01mraise\u001b[39;00m \u001b[38;5;167;01mNotImplementedError\u001b[39;00m(\u001b[38;5;124mf\u001b[39m\u001b[38;5;124m\"\u001b[39m\u001b[38;5;124mLattice flavor does not support kind=\u001b[39m\u001b[38;5;124m'\u001b[39m\u001b[38;5;132;01m{\u001b[39;00mkind\u001b[38;5;132;01m}\u001b[39;00m\u001b[38;5;124m'\u001b[39m\u001b[38;5;124m\"\u001b[39m)\n",
      "\u001b[0;31mImportError\u001b[0m: matplotlib is required for plotting."
     ]
    }
   ],
   "source": [
    "camelot.plot(tables[0], kind='text').show()"
   ]
  },
  {
   "cell_type": "code",
   "execution_count": 46,
   "id": "fff06425-5b0f-4ac6-948f-db2c9107a0b1",
   "metadata": {},
   "outputs": [
    {
     "name": "stdout",
     "output_type": "stream",
     "text": [
      "Requirement already satisfied: matplotlib in /Library/Frameworks/Python.framework/Versions/3.11/lib/python3.11/site-packages (3.8.2)\n",
      "Requirement already satisfied: contourpy>=1.0.1 in /Library/Frameworks/Python.framework/Versions/3.11/lib/python3.11/site-packages (from matplotlib) (1.2.0)\n",
      "Requirement already satisfied: cycler>=0.10 in /Library/Frameworks/Python.framework/Versions/3.11/lib/python3.11/site-packages (from matplotlib) (0.12.1)\n",
      "Requirement already satisfied: fonttools>=4.22.0 in /Library/Frameworks/Python.framework/Versions/3.11/lib/python3.11/site-packages (from matplotlib) (4.47.0)\n",
      "Requirement already satisfied: kiwisolver>=1.3.1 in /Library/Frameworks/Python.framework/Versions/3.11/lib/python3.11/site-packages (from matplotlib) (1.4.5)\n",
      "Requirement already satisfied: numpy<2,>=1.21 in /Library/Frameworks/Python.framework/Versions/3.11/lib/python3.11/site-packages (from matplotlib) (1.25.0)\n",
      "Requirement already satisfied: packaging>=20.0 in /Library/Frameworks/Python.framework/Versions/3.11/lib/python3.11/site-packages (from matplotlib) (23.2)\n",
      "Requirement already satisfied: pillow>=8 in /Library/Frameworks/Python.framework/Versions/3.11/lib/python3.11/site-packages (from matplotlib) (10.1.0)\n",
      "Requirement already satisfied: pyparsing>=2.3.1 in /Library/Frameworks/Python.framework/Versions/3.11/lib/python3.11/site-packages (from matplotlib) (3.1.1)\n",
      "Requirement already satisfied: python-dateutil>=2.7 in /Library/Frameworks/Python.framework/Versions/3.11/lib/python3.11/site-packages (from matplotlib) (2.8.2)\n",
      "Requirement already satisfied: six>=1.5 in /Library/Frameworks/Python.framework/Versions/3.11/lib/python3.11/site-packages (from python-dateutil>=2.7->matplotlib) (1.16.0)\n"
     ]
    }
   ],
   "source": [
    "!pip install matplotlib"
   ]
  },
  {
   "cell_type": "code",
   "execution_count": 48,
   "id": "3756b08f-b46f-45ec-8517-948e196be165",
   "metadata": {},
   "outputs": [],
   "source": [
    "import matplotlib"
   ]
  },
  {
   "cell_type": "code",
   "execution_count": 51,
   "id": "8bffe4b8-80b7-48a8-8eeb-a0e3b791d1cf",
   "metadata": {},
   "outputs": [
    {
     "data": {
      "text/plain": [
       "'3.8.2'"
      ]
     },
     "execution_count": 51,
     "metadata": {},
     "output_type": "execute_result"
    }
   ],
   "source": [
    "import matplotlib\n",
    "matplotlib.__version__"
   ]
  },
  {
   "cell_type": "code",
   "execution_count": null,
   "id": "167bde07-46b2-487a-b4c8-71453ec4aba5",
   "metadata": {},
   "outputs": [],
   "source": []
  }
 ],
 "metadata": {
  "kernelspec": {
   "display_name": "venv",
   "language": "python",
   "name": "venv"
  },
  "language_info": {
   "codemirror_mode": {
    "name": "ipython",
    "version": 3
   },
   "file_extension": ".py",
   "mimetype": "text/x-python",
   "name": "python",
   "nbconvert_exporter": "python",
   "pygments_lexer": "ipython3",
   "version": "3.11.2"
  }
 },
 "nbformat": 4,
 "nbformat_minor": 5
}
