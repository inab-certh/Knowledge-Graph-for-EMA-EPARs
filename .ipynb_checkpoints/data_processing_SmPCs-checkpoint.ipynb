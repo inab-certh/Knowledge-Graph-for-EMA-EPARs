{
 "cells": [
  {
   "cell_type": "markdown",
   "id": "25b6f5b4c9420ac4",
   "metadata": {
    "jupyter": {
     "outputs_hidden": false
    }
   },
   "source": [
    "## European Medicine Agency (EMA)\n",
    "\n",
    "The European Medicines Agency (EMA) is a decentralized agency of the European Union (EU) responsible for the scientific evaluation, supervision, and safety monitoring of medicines in the EU. EMA plays a crucial role in the public health domain by ensuring that all medicines available on the EU market are safe, effective, and of high quality."
   ]
  },
  {
   "cell_type": "markdown",
   "id": "b654ee0d8de31b26",
   "metadata": {
    "jupyter": {
     "outputs_hidden": false
    }
   },
   "source": [
    "## Summary of product characteristics (SmPC)\n",
    "\n",
    "A document describing the properties and the officially approved conditions of use of a medicine. Summaries of product characteristics form the basis of information for healthcare professionals on how to use the medicine safely and effectively. Abbreviated as SmPC. \n",
    "\n",
    "<br/>\n",
    "\n",
    "### Structure of an SmPC\n",
    "The structure of the SmPC is defined by the European pharmaceutical legislation. The information included in the SmPC should be product specific and can be cross-referenced to avoid any redundancy. It should be documented in a clear language and should not lead to any ambiguity. The SmPC is divided into 6 major sections:\n",
    "\n",
    "1. Name of the product\n",
    "2. Composition\n",
    "3. Pharmaceutical Form\n",
    "4. Clinical particulars – Includes therapeutic indications, recommendation for dosages and safety information\n",
    "5. Pharmacological properties – Takes into account the therapeutic indications of the clinical elements and their potential adverse drug reactions\n",
    "6. Pharmaceutical particulars – Includes Regulatory information related to the drug\n",
    "\n",
    "<br/>\n",
    "\n",
    "<img src=\"./images/structureSmPC.png\" width=\"600px;\">\n",
    "\n",
    "<br/>\n",
    "<br/>\n",
    "\n",
    "### Prescribing medicines for special populations\n",
    "When prescribing medication to specific groups like children, the elderly, pregnant and breastfeeding women, and individuals with kidney or liver issues, it's\n",
    "crucial to exercise caution. The public documentation for medicines, especially the Summary of Product Characteristics (SmPC) and the package leaflets (PLs), often includes many of these essential precautions.\n",
    "<br/>\n",
    "\n",
    "<img src=\"./images/SmPC_authorization_process.png\" width=\"800px;\">\n",
    "\n",
    "When seeking marketing authorization, a company submits an application dossier that contains instructions for healthcare professionals on the safe and effective use of the medicine. In Europe, this is referred to as the Summary of Product Characteristics (SmPC). The SmPC must be regularly updated over the medicine's lifecycle to reflect new data on efficacy or safety. The figure above illustrates the connection between a medicine's development, the regulatory dossier with the initial proposed SmPC, the SmPC that gets approved, and subsequent updates to the SmPC.\n",
    "\n",
    "\n",
    "[1]: https://www.ema.europa.eu/en/glossary/summary-product-characteristics\n",
    "[2]: https://www.freyrsolutions.com/what-is-an-smpc\n"
   ]
  },
  {
   "cell_type": "markdown",
   "id": "fe2052a2-ea36-4362-8e7f-31fdf36864c0",
   "metadata": {},
   "source": [
    "### Project Overview\n",
    "\n",
    "Using natural language processing (NLP) techniquesto automatically extract adverse drug reactions from such unstructured textual information helps clinicalexperts to effectively and efficiently use them in daily practices. Such techniques have been developed for Structured Product Labels from the Food and Drug Administration (FDA), but there is no researchfocusing on extracting from the Summary of Product Characteristics.\n",
    "\n",
    "\n",
    "In this work, we built a naturallanguage processing pipeline that automatically scrapes the summary of product characteristics onlineand then extracts adverse drug reactions from them.\n",
    "\n",
    "<img src=\"./images/Project_Overview.png\" width=\"300px;\">"
   ]
  },
  {
   "cell_type": "code",
   "execution_count": null,
   "id": "4ec6fafd-c79b-407f-9ed5-3095318bb4bc",
   "metadata": {},
   "outputs": [],
   "source": [
    "!pip install matplotlib"
   ]
  },
  {
   "cell_type": "code",
   "execution_count": 4,
   "id": "ea20beec-d287-46e8-a8ac-5ea2d298790a",
   "metadata": {},
   "outputs": [],
   "source": [
    "import matplotlib.pyplot as plt"
   ]
  },
  {
   "cell_type": "code",
   "execution_count": 5,
   "id": "d21cc031-809f-40fa-880f-f5dc1b2a4f63",
   "metadata": {},
   "outputs": [],
   "source": [
    "%matplotlib inline\n"
   ]
  },
  {
   "cell_type": "code",
   "execution_count": 6,
   "id": "ec5872b7-abb3-4d39-ab18-5fd6d2c16933",
   "metadata": {},
   "outputs": [
    {
     "data": {
      "image/png": "[encoded data removed]",
      "text/plain": [
       "<Figure size 640x480 with 1 Axes>"
      ]
     },
     "metadata": {},
     "output_type": "display_data"
    }
   ],
   "source": [
    "%matplotlib inline\n",
    "import matplotlib.pyplot as plt\n",
    "\n",
    "plt.plot([1, 2, 3, 4])\n",
    "plt.ylabel('some numbers')\n",
    "plt.show()\n"
   ]
  },
  {
   "cell_type": "code",
   "execution_count": 7,
   "id": "be1febb0-15ad-45df-a2be-1b7bd185140c",
   "metadata": {},
   "outputs": [],
   "source": [
    "from collections.abc import MutableMapping"
   ]
  },
  {
   "cell_type": "markdown",
   "id": "ebab7948-13c2-465e-9156-15c0838d8ac9",
   "metadata": {},
   "source": [
    "##  STEP 1: Download medicine data and import them to Database\n",
    "You can download the European Medicines Agency's (EMA) medicine-related data published on this website in Excel table format from this page. EMA updates these medicine data tables once a day. The following two files need to be downloaded:\n",
    "\n",
    "<br/>\n",
    "\n",
    "* The file listing all medicines, **including the withdrawn and not authorised ones**, named medicines_output_european_public_assessment_reports_en.xlsx, found [here](https://www.ema.europa.eu/sites/default/files/Medicines_output_european_public_assessment_reports.xlsx)\n",
    "\n",
    "and\n",
    "\n",
    "* The file listing **all the URLs for the SmPCs**, named Product information URLs for member product-information-urls-member-states_en.xls, found [here](https://www.ema.europa.eu/documents/product-information/product-information-urls-member-states_en.xls)\n",
    "\n",
    "\n",
    "##### Disclaimer\n",
    "The database is used purely to join the two csv. The view can also be done with dataframes without the need to use the database\n",
    "\n",
    "[3]: https://toolbox.eupati.eu/resources/prescribing-medicines-for-special-populations/?print=print\n",
    "[4]: https://www.ema.europa.eu/en/homepage\n"
   ]
  },
  {
   "cell_type": "code",
   "execution_count": 3,
   "id": "e9690c5cdcdb3db",
   "metadata": {
    "ExecuteTime": {
     "end_time": "2023-12-28T10:26:51.682904Z",
     "start_time": "2023-12-28T10:26:51.663919Z"
    },
    "jupyter": {
     "outputs_hidden": false
    }
   },
   "outputs": [],
   "source": [
    "import os\n",
    "import pandas as pd\n",
    "import re\n",
    "import sqlite3\n",
    "import camelot\n",
    "\n",
    "# Define the folder that you store the required xls\n",
    "PATH = \"./data\"\n",
    "\n",
    "MEDICINE_LIST = \"medicines_output_european_public_assessment_reports_en.xlsx\"\n",
    "PRODUCT_URLS_LIST = \"product-information-urls-member-states_en.xls\""
   ]
  },
  {
   "cell_type": "code",
   "execution_count": 6,
   "id": "a3784fc65e25e785",
   "metadata": {
    "ExecuteTime": {
     "end_time": "2023-12-28T09:56:11.403460Z",
     "start_time": "2023-12-28T09:56:10.462370Z"
    },
    "jupyter": {
     "outputs_hidden": false
    }
   },
   "outputs": [
    {
     "data": {
      "text/html": [
       "<div>\n",
       "<style scoped>\n",
       "    .dataframe tbody tr th:only-of-type {\n",
       "        vertical-align: middle;\n",
       "    }\n",
       "\n",
       "    .dataframe tbody tr th {\n",
       "        vertical-align: top;\n",
       "    }\n",
       "\n",
       "    .dataframe thead th {\n",
       "        text-align: right;\n",
       "    }\n",
       "</style>\n",
       "<table border=\"1\" class=\"dataframe\">\n",
       "  <thead>\n",
       "    <tr style=\"text-align: right;\">\n",
       "      <th></th>\n",
       "      <th>Category</th>\n",
       "      <th>Medicine name</th>\n",
       "      <th>Therapeutic area</th>\n",
       "      <th>International non-proprietary name (INN) / common name</th>\n",
       "      <th>Active substance</th>\n",
       "      <th>Product number</th>\n",
       "      <th>Patient safety</th>\n",
       "      <th>Authorisation status</th>\n",
       "      <th>ATC code</th>\n",
       "      <th>Additional monitoring</th>\n",
       "      <th>...</th>\n",
       "      <th>Vet pharmacotherapeutic group</th>\n",
       "      <th>Date of opinion</th>\n",
       "      <th>Decision date</th>\n",
       "      <th>Revision number</th>\n",
       "      <th>Condition / indication</th>\n",
       "      <th>Species</th>\n",
       "      <th>ATCvet code</th>\n",
       "      <th>First published</th>\n",
       "      <th>Revision date</th>\n",
       "      <th>URL</th>\n",
       "    </tr>\n",
       "  </thead>\n",
       "  <tbody>\n",
       "    <tr>\n",
       "      <th>0</th>\n",
       "      <td>Human</td>\n",
       "      <td>Ryeqo</td>\n",
       "      <td>Leiomyoma</td>\n",
       "      <td>relugolix, estradiol, norethisterone acetate</td>\n",
       "      <td>Relugolix, norethisterone acetate, estradiol h...</td>\n",
       "      <td>EMEA/H/C/005267</td>\n",
       "      <td>no</td>\n",
       "      <td>Authorised</td>\n",
       "      <td>H01CC54</td>\n",
       "      <td>yes</td>\n",
       "      <td>...</td>\n",
       "      <td>NaN</td>\n",
       "      <td>2021-07-16 00:00:00</td>\n",
       "      <td>2023-10-30 01:00:00</td>\n",
       "      <td>6.0</td>\n",
       "      <td>Ryeqo is indicated in adult women of reproduct...</td>\n",
       "      <td>NaN</td>\n",
       "      <td>NaN</td>\n",
       "      <td>2021-05-19 14:14:00</td>\n",
       "      <td>2023-12-04 18:41:00</td>\n",
       "      <td>https://www.ema.europa.eu/en/medicines/human/E...</td>\n",
       "    </tr>\n",
       "    <tr>\n",
       "      <th>1</th>\n",
       "      <td>Human</td>\n",
       "      <td>Yesafili</td>\n",
       "      <td>Macular Edema;  Retinal Vein Occlusion;  Diabe...</td>\n",
       "      <td>aflibercept</td>\n",
       "      <td>aflibercept</td>\n",
       "      <td>EMEA/H/C/006022</td>\n",
       "      <td>no</td>\n",
       "      <td>Authorised</td>\n",
       "      <td>S01LA05</td>\n",
       "      <td>yes</td>\n",
       "      <td>...</td>\n",
       "      <td>NaN</td>\n",
       "      <td>2023-07-20 00:00:00</td>\n",
       "      <td>2023-11-29 01:00:00</td>\n",
       "      <td>1.0</td>\n",
       "      <td>Yesafili is indicated for adults for the treat...</td>\n",
       "      <td>NaN</td>\n",
       "      <td>NaN</td>\n",
       "      <td>2023-07-17 16:27:00</td>\n",
       "      <td>2023-12-04 18:15:00</td>\n",
       "      <td>https://www.ema.europa.eu/en/medicines/human/E...</td>\n",
       "    </tr>\n",
       "    <tr>\n",
       "      <th>2</th>\n",
       "      <td>Human</td>\n",
       "      <td>Leflunomide medac</td>\n",
       "      <td>Arthritis, Rheumatoid</td>\n",
       "      <td>leflunomide</td>\n",
       "      <td>leflunomide</td>\n",
       "      <td>EMEA/H/C/001227</td>\n",
       "      <td>no</td>\n",
       "      <td>Authorised</td>\n",
       "      <td>L04AA13</td>\n",
       "      <td>no</td>\n",
       "      <td>...</td>\n",
       "      <td>NaN</td>\n",
       "      <td>NaT</td>\n",
       "      <td>2023-10-31 01:00:00</td>\n",
       "      <td>19.0</td>\n",
       "      <td>Leflunomide is indicated for the treatment of ...</td>\n",
       "      <td>NaN</td>\n",
       "      <td>NaN</td>\n",
       "      <td>2018-01-30 14:10:00</td>\n",
       "      <td>2023-12-04 17:56:00</td>\n",
       "      <td>https://www.ema.europa.eu/en/medicines/human/E...</td>\n",
       "    </tr>\n",
       "    <tr>\n",
       "      <th>3</th>\n",
       "      <td>Human</td>\n",
       "      <td>Filgrastim Hexal</td>\n",
       "      <td>Neutropenia;  Hematopoietic Stem Cell Transpla...</td>\n",
       "      <td>filgrastim</td>\n",
       "      <td>filgrastim</td>\n",
       "      <td>EMEA/H/C/000918</td>\n",
       "      <td>no</td>\n",
       "      <td>Authorised</td>\n",
       "      <td>L03AA02</td>\n",
       "      <td>no</td>\n",
       "      <td>...</td>\n",
       "      <td>NaN</td>\n",
       "      <td>NaT</td>\n",
       "      <td>2023-11-30 01:00:00</td>\n",
       "      <td>24.0</td>\n",
       "      <td>Reduction in the duration of neutropenia and t...</td>\n",
       "      <td>NaN</td>\n",
       "      <td>NaN</td>\n",
       "      <td>2018-05-24 17:15:00</td>\n",
       "      <td>2023-12-04 17:43:00</td>\n",
       "      <td>https://www.ema.europa.eu/en/medicines/human/E...</td>\n",
       "    </tr>\n",
       "    <tr>\n",
       "      <th>4</th>\n",
       "      <td>Human</td>\n",
       "      <td>Opzelura</td>\n",
       "      <td>Vitiligo</td>\n",
       "      <td>ruxolitinib</td>\n",
       "      <td>ruxolitinib phosphate</td>\n",
       "      <td>EMEA/H/C/005843</td>\n",
       "      <td>no</td>\n",
       "      <td>Authorised</td>\n",
       "      <td>D11AH</td>\n",
       "      <td>no</td>\n",
       "      <td>...</td>\n",
       "      <td>NaN</td>\n",
       "      <td>2023-02-23 01:00:00</td>\n",
       "      <td>2023-10-19 00:00:00</td>\n",
       "      <td>2.0</td>\n",
       "      <td>Opzelura is indicated for the treatment of non...</td>\n",
       "      <td>NaN</td>\n",
       "      <td>NaN</td>\n",
       "      <td>2023-02-22 15:05:00</td>\n",
       "      <td>2023-12-04 17:35:00</td>\n",
       "      <td>https://www.ema.europa.eu/en/medicines/human/E...</td>\n",
       "    </tr>\n",
       "  </tbody>\n",
       "</table>\n",
       "<p>5 rows × 30 columns</p>\n",
       "</div>"
      ],
      "text/plain": [
       "  Category      Medicine name  \\\n",
       "0    Human              Ryeqo   \n",
       "1    Human           Yesafili   \n",
       "2    Human  Leflunomide medac   \n",
       "3    Human   Filgrastim Hexal   \n",
       "4    Human           Opzelura   \n",
       "\n",
       "                                    Therapeutic area  \\\n",
       "0                                          Leiomyoma   \n",
       "1  Macular Edema;  Retinal Vein Occlusion;  Diabe...   \n",
       "2                              Arthritis, Rheumatoid   \n",
       "3  Neutropenia;  Hematopoietic Stem Cell Transpla...   \n",
       "4                                           Vitiligo   \n",
       "\n",
       "  International non-proprietary name (INN) / common name  \\\n",
       "0       relugolix, estradiol, norethisterone acetate       \n",
       "1                                        aflibercept       \n",
       "2                                        leflunomide       \n",
       "3                                         filgrastim       \n",
       "4                                        ruxolitinib       \n",
       "\n",
       "                                    Active substance   Product number  \\\n",
       "0  Relugolix, norethisterone acetate, estradiol h...  EMEA/H/C/005267   \n",
       "1                                        aflibercept  EMEA/H/C/006022   \n",
       "2                                        leflunomide  EMEA/H/C/001227   \n",
       "3                                         filgrastim  EMEA/H/C/000918   \n",
       "4                              ruxolitinib phosphate  EMEA/H/C/005843   \n",
       "\n",
       "  Patient safety Authorisation status ATC code Additional monitoring  ...  \\\n",
       "0             no           Authorised  H01CC54                   yes  ...   \n",
       "1             no           Authorised  S01LA05                   yes  ...   \n",
       "2             no           Authorised  L04AA13                    no  ...   \n",
       "3             no           Authorised  L03AA02                    no  ...   \n",
       "4             no           Authorised    D11AH                    no  ...   \n",
       "\n",
       "  Vet pharmacotherapeutic group     Date of opinion       Decision date  \\\n",
       "0                           NaN 2021-07-16 00:00:00 2023-10-30 01:00:00   \n",
       "1                           NaN 2023-07-20 00:00:00 2023-11-29 01:00:00   \n",
       "2                           NaN                 NaT 2023-10-31 01:00:00   \n",
       "3                           NaN                 NaT 2023-11-30 01:00:00   \n",
       "4                           NaN 2023-02-23 01:00:00 2023-10-19 00:00:00   \n",
       "\n",
       "  Revision number                             Condition / indication Species  \\\n",
       "0             6.0  Ryeqo is indicated in adult women of reproduct...     NaN   \n",
       "1             1.0  Yesafili is indicated for adults for the treat...     NaN   \n",
       "2            19.0  Leflunomide is indicated for the treatment of ...     NaN   \n",
       "3            24.0  Reduction in the duration of neutropenia and t...     NaN   \n",
       "4             2.0  Opzelura is indicated for the treatment of non...     NaN   \n",
       "\n",
       "  ATCvet code     First published       Revision date  \\\n",
       "0         NaN 2021-05-19 14:14:00 2023-12-04 18:41:00   \n",
       "1         NaN 2023-07-17 16:27:00 2023-12-04 18:15:00   \n",
       "2         NaN 2018-01-30 14:10:00 2023-12-04 17:56:00   \n",
       "3         NaN 2018-05-24 17:15:00 2023-12-04 17:43:00   \n",
       "4         NaN 2023-02-22 15:05:00 2023-12-04 17:35:00   \n",
       "\n",
       "                                                 URL  \n",
       "0  https://www.ema.europa.eu/en/medicines/human/E...  \n",
       "1  https://www.ema.europa.eu/en/medicines/human/E...  \n",
       "2  https://www.ema.europa.eu/en/medicines/human/E...  \n",
       "3  https://www.ema.europa.eu/en/medicines/human/E...  \n",
       "4  https://www.ema.europa.eu/en/medicines/human/E...  \n",
       "\n",
       "[5 rows x 30 columns]"
      ]
     },
     "execution_count": 6,
     "metadata": {},
     "output_type": "execute_result"
    }
   ],
   "source": [
    "medicinesOutputData = pd.read_excel(os.path.join(PATH, MEDICINE_LIST))\n",
    "medicinesOutputData.head()"
   ]
  },
  {
   "cell_type": "code",
   "execution_count": 7,
   "id": "7c897773d11f4df2",
   "metadata": {
    "ExecuteTime": {
     "end_time": "2023-12-28T09:56:12.601138Z",
     "start_time": "2023-12-28T09:56:12.521156Z"
    },
    "jupyter": {
     "outputs_hidden": false
    }
   },
   "outputs": [
    {
     "data": {
      "text/html": [
       "<div>\n",
       "<style scoped>\n",
       "    .dataframe tbody tr th:only-of-type {\n",
       "        vertical-align: middle;\n",
       "    }\n",
       "\n",
       "    .dataframe tbody tr th {\n",
       "        vertical-align: top;\n",
       "    }\n",
       "\n",
       "    .dataframe thead th {\n",
       "        text-align: right;\n",
       "    }\n",
       "</style>\n",
       "<table border=\"1\" class=\"dataframe\">\n",
       "  <thead>\n",
       "    <tr style=\"text-align: right;\">\n",
       "      <th></th>\n",
       "      <th>ProductName</th>\n",
       "      <th>ProductNumber</th>\n",
       "      <th>Domain</th>\n",
       "      <th>LanguageCode</th>\n",
       "      <th>URL(oldwebsite)</th>\n",
       "      <th>URL(currentwebsite)</th>\n",
       "    </tr>\n",
       "  </thead>\n",
       "  <tbody>\n",
       "    <tr>\n",
       "      <th>0</th>\n",
       "      <td>Abasaglar (previouslyAbasria)</td>\n",
       "      <td>EMEA/H/C/002835</td>\n",
       "      <td>human</td>\n",
       "      <td>en</td>\n",
       "      <td>http://www.ema.europa.eu/docs/en_GB/document_l...</td>\n",
       "      <td>https://www.ema.europa.eu/en/documents/product...</td>\n",
       "    </tr>\n",
       "    <tr>\n",
       "      <th>1</th>\n",
       "      <td>Abecma</td>\n",
       "      <td>EMEA/H/C/004662</td>\n",
       "      <td>human</td>\n",
       "      <td>en</td>\n",
       "      <td>NaN</td>\n",
       "      <td>https://www.ema.europa.eu/en/documents/product...</td>\n",
       "    </tr>\n",
       "    <tr>\n",
       "      <th>2</th>\n",
       "      <td>Abevmy</td>\n",
       "      <td>EMEA/H/C/005327</td>\n",
       "      <td>human</td>\n",
       "      <td>en</td>\n",
       "      <td>NaN</td>\n",
       "      <td>https://www.ema.europa.eu/en/documents/product...</td>\n",
       "    </tr>\n",
       "    <tr>\n",
       "      <th>3</th>\n",
       "      <td>Abilify</td>\n",
       "      <td>EMEA/H/C/000471</td>\n",
       "      <td>human</td>\n",
       "      <td>en</td>\n",
       "      <td>http://www.ema.europa.eu/docs/en_GB/document_l...</td>\n",
       "      <td>https://www.ema.europa.eu/en/documents/product...</td>\n",
       "    </tr>\n",
       "    <tr>\n",
       "      <th>4</th>\n",
       "      <td>Abilify Maintena</td>\n",
       "      <td>EMEA/H/C/002755</td>\n",
       "      <td>human</td>\n",
       "      <td>en</td>\n",
       "      <td>http://www.ema.europa.eu/docs/en_GB/document_l...</td>\n",
       "      <td>https://www.ema.europa.eu/en/documents/product...</td>\n",
       "    </tr>\n",
       "  </tbody>\n",
       "</table>\n",
       "</div>"
      ],
      "text/plain": [
       "                     ProductName    ProductNumber Domain LanguageCode  \\\n",
       "0  Abasaglar (previouslyAbasria)  EMEA/H/C/002835  human           en   \n",
       "1                         Abecma  EMEA/H/C/004662  human           en   \n",
       "2                         Abevmy  EMEA/H/C/005327  human           en   \n",
       "3                        Abilify  EMEA/H/C/000471  human           en   \n",
       "4               Abilify Maintena  EMEA/H/C/002755  human           en   \n",
       "\n",
       "                                     URL(oldwebsite)  \\\n",
       "0  http://www.ema.europa.eu/docs/en_GB/document_l...   \n",
       "1                                                NaN   \n",
       "2                                                NaN   \n",
       "3  http://www.ema.europa.eu/docs/en_GB/document_l...   \n",
       "4  http://www.ema.europa.eu/docs/en_GB/document_l...   \n",
       "\n",
       "                                 URL(currentwebsite)  \n",
       "0  https://www.ema.europa.eu/en/documents/product...  \n",
       "1  https://www.ema.europa.eu/en/documents/product...  \n",
       "2  https://www.ema.europa.eu/en/documents/product...  \n",
       "3  https://www.ema.europa.eu/en/documents/product...  \n",
       "4  https://www.ema.europa.eu/en/documents/product...  "
      ]
     },
     "execution_count": 7,
     "metadata": {},
     "output_type": "execute_result"
    }
   ],
   "source": [
    "productInformationURLs = pd.read_excel(os.path.join(PATH, PRODUCT_URLS_LIST))\n",
    "productInformationURLs.head()"
   ]
  },
  {
   "cell_type": "code",
   "execution_count": 8,
   "id": "d561b9505df57df3",
   "metadata": {
    "ExecuteTime": {
     "end_time": "2023-12-28T09:56:13.434289Z",
     "start_time": "2023-12-28T09:56:13.296742Z"
    },
    "jupyter": {
     "outputs_hidden": false
    }
   },
   "outputs": [
    {
     "data": {
      "text/plain": [
       "1928"
      ]
     },
     "execution_count": 8,
     "metadata": {},
     "output_type": "execute_result"
    }
   ],
   "source": [
    "conn = sqlite3.connect(os.path.join(PATH, \"SmPCs.db\"))\n",
    "\n",
    "medicinesOutputData.to_sql('emaMedicinesOP', conn, if_exists='replace', index=False)\n",
    "productInformationURLs.to_sql('emaProductInformationURLs', conn, if_exists='replace', index=False)"
   ]
  },
  {
   "cell_type": "markdown",
   "id": "22f965865733617c",
   "metadata": {
    "jupyter": {
     "outputs_hidden": false
    }
   },
   "source": [
    "## Step 2: Create csv with SmPCs URLs\n",
    "\n",
    " The actual SmPCs information will be extracted from the joinedHumanAuthorisedProductURLsONLY.csv file which contains the URLs for the authorised medicines for human use."
   ]
  },
  {
   "cell_type": "code",
   "execution_count": 9,
   "id": "a467495dd5a620ab",
   "metadata": {
    "ExecuteTime": {
     "end_time": "2023-12-28T09:56:15.475471Z",
     "start_time": "2023-12-28T09:56:15.448612Z"
    },
    "jupyter": {
     "outputs_hidden": false
    }
   },
   "outputs": [],
   "source": [
    "joinedHumanAuthorisedProductURLsONLY = pd.read_sql(\"\"\"\n",
    "    SELECT [URL(currentwebsite)]\n",
    "    FROM emaMedicinesOP\n",
    "    LEFT JOIN emaProductInformationURLs \n",
    "    ON emaMedicinesOP.[Medicine name]=emaProductInformationURLs.[ProductName]\n",
    "    WHERE  emaMedicinesOP.Category='Human'\n",
    "      AND emaMedicinesOP.[Authorisation Status] ='Authorised';\n",
    "\"\"\", conn)\n",
    "\n",
    "joinedHumanAuthorisedProductURLsONLY.to_csv(os.path.join(PATH, \"joinedHumanAuthorisedProductURLsONLY.csv\"))"
   ]
  },
  {
   "cell_type": "markdown",
   "id": "ff9f9661d49f544c",
   "metadata": {
    "jupyter": {
     "outputs_hidden": false
    }
   },
   "source": [
    "## Step 3: Download SmPCs pdfs\n"
   ]
  },
  {
   "cell_type": "code",
   "execution_count": 10,
   "id": "3aac51489173a68b",
   "metadata": {
    "ExecuteTime": {
     "end_time": "2023-12-28T09:56:17.939751Z",
     "start_time": "2023-12-28T09:56:17.811421Z"
    },
    "jupyter": {
     "outputs_hidden": false
    }
   },
   "outputs": [],
   "source": [
    "import requests"
   ]
  },
  {
   "cell_type": "code",
   "execution_count": null,
   "id": "821ec2209c251cb7",
   "metadata": {
    "ExecuteTime": {
     "end_time": "2023-12-28T09:56:18.665240Z",
     "start_time": "2023-12-28T09:56:18.641887Z"
    },
    "jupyter": {
     "outputs_hidden": false
    }
   },
   "outputs": [],
   "source": [
    "urlsDF = pd.read_csv(os.path.join(PATH, \"joinedHumanAuthorisedProductURLsONLY.csv\"))\n",
    "urlsDF.dropna(inplace = True)\n",
    "urls = urlsDF['URL(currentwebsite)'].tolist()"
   ]
  },
  {
   "cell_type": "code",
   "execution_count": null,
   "id": "1246f236cc1dbfd2",
   "metadata": {
    "ExecuteTime": {
     "end_time": "2023-12-28T09:57:03.304561Z",
     "start_time": "2023-12-28T09:56:19.132128Z"
    },
    "jupyter": {
     "outputs_hidden": false
    }
   },
   "outputs": [],
   "source": [
    "for index, url in enumerate(urls):\n",
    "    response = requests.get(url)\n",
    "    file_name = url.split('/')[-1]\n",
    "\n",
    "    print(\"Download \", index, \" with name: \", file_name)\n",
    "\n",
    "    if response.status_code == 200:\n",
    "        with open(os.path.join(PATH, \"pdfs\", file_name), 'wb') as pdf_file:\n",
    "            pdf_file.write(response.content)\n",
    "    else:\n",
    "        print(f\"Failed to download the : {file_name}\")"
   ]
  },
  {
   "cell_type": "markdown",
   "id": "88e44826316516cb",
   "metadata": {
    "jupyter": {
     "outputs_hidden": false
    }
   },
   "source": [
    "### Step 4: Extract Tabulated Summary of Adverse Reactions from the 4.8 section \n",
    "\n",
    "This section should include all adverse reactions for which, after thorough assessment, a causal relationship between the medicinal product and the adverse event is at least a reasonable possibility. These ADRs should be all reactions from:\n",
    "* Clinical trials\n",
    "* Post-authorisation safety studies\n",
    "* Spontaneous reporting\n",
    "\n",
    "#####  The tabulated list of adverse reactions in section 4.8:\n",
    "* Introduce table with short paragraph stating source of safety database\n",
    "* Separate tables are acceptable in exceptional cases where adverse profiles markedly differ depending on the use of the product.\n",
    "\n",
    "#####  Structure of the table: general considerations\n",
    "\n",
    "* Table should be written according to MedDRA system organ classification (SOC)\n",
    "* A pragmatic approach to the location of terms should be taken in order to make the identification of adverse reactions simpler and clinically appropriate for the reader\n",
    "* Within each SOC, adverse reactions should be ranked under headings of frequency, most frequent reactions first\n",
    "* Frequency grouping, adverse reactions should be presented in order of decreasing seriousness\n",
    "\n",
    "##### Frequency Grouping:\n",
    "* Very common (≥1/10)\n",
    "* Common (≥1/100 to <1/10)\n",
    "* Uncommon (≥1/1,000 to <1/100)\n",
    "* Rare (≥1/10,000 to <1/1,000)\n",
    "* Very rare (<1/10,000)\n",
    "* Frequency not known (cannot be estimated from the available data)\n",
    "\n",
    "#### SmPCs Examples\n",
    "\n",
    "<img src=\"./images/SmPCs_example.png\" width=\"500px;\">\n",
    "\n",
    "\n",
    "## MedDRA\n",
    "MedDRA is a multilingual terminology allowing most users to operate in their native languages. The table below identifies the initial MedDRA version when each MedDRA language was made available to users. \n",
    "\n",
    "<br />\n",
    "\n",
    "<img src=\"./images/MedDRA_Hierarchy.png\" width=\"500px;\">\n",
    "\n",
    "<br />\n",
    "\n",
    "The most important reason to “code” data into a standardised terminology is to analyse it. A key benefit of MedDRA is in its support of straightforward as well as sophisticated analyses. MedDRA can be used to analyse individual medical events (e.g., “Influenza”) or issues involving a system, organ or aetiology (e.g., infections) using its hierarchical structure. MedDRA can be used for signal detection and monitoring of clinical syndromes whose symptoms encompass numerous systems or organs using its multiaxial hierarchy or through the special feature of Standardised MedDRA Queries.\n",
    "\n",
    "<br />\n",
    "\n",
    "### MedDRA Hierarchy\n",
    "\n",
    "The structure of MedDRA is very logical. There are five levels to the MedDRA hierarchy, arranged from very specific to very general.\n",
    "\n",
    "<br />\n",
    "\n",
    "Download [MedDRA codes](https://www.ema.europa.eu/en/documents/other/meddra-important-medical-event-terms-list-version-261_en.xlsx) and extract the unique values from the SOC Name column"
   ]
  },
  {
   "cell_type": "code",
   "execution_count": 13,
   "id": "919f7a90-3b85-46da-ad44-0682ac37769d",
   "metadata": {
    "ExecuteTime": {
     "end_time": "2023-12-28T10:27:03.258848Z",
     "start_time": "2023-12-28T10:27:02.365652Z"
    }
   },
   "outputs": [],
   "source": [
    "medraSOC = pd.read_excel(os.path.join(PATH, \"MedDRA\", \"meddra-important-medical-event-terms-list-version-261_en.xlsx\"))\n",
    "socList = medraSOC['SOC Name'].unique()\n",
    "SOCListRegex = '(?:% s)' % '|'.join(socList)\n",
    "regex = re.compile(SOCListRegex)"
   ]
  },
  {
   "cell_type": "code",
   "execution_count": 14,
   "id": "fe6eb45f-65da-4b9d-a0f9-657fb416ddb3",
   "metadata": {
    "ExecuteTime": {
     "end_time": "2023-12-28T10:27:04.448314Z",
     "start_time": "2023-12-28T10:27:04.437858Z"
    },
    "scrolled": true
   },
   "outputs": [
    {
     "data": {
      "text/plain": [
       "re.compile(r'(?:Blood and lymphatic system disorders|Cardiac disorders|Congenital, familial and genetic disorders|Endocrine disorders|Eye disorders|Gastrointestinal disorders|Hepatobiliary disorders|Immune system disorders|Infections and infestations|Injury, poisoning and procedural complications|Investigations|Musculoskeletal and connective tissue disorders|Neoplasms benign, malignant and unspecified (incl cysts and polyps)|Nervous system disorders|Pregnancy, puerperium and perinatal conditions|Renal and urinary disorders|Reproductive system and breast disorders|Respiratory, thoracic and mediastinal disorders|Surgical and medical procedures|Vascular disorders|Ear and labyrinth disorders|General disorders and administration site conditions|Metabolism and nutrition disorders|Product issues|Psychiatric disorders|Skin and subcutaneous tissue disorders|Social circumstances)',\n",
       "           re.UNICODE)"
      ]
     },
     "execution_count": 14,
     "metadata": {},
     "output_type": "execute_result"
    }
   ],
   "source": [
    "regex"
   ]
  },
  {
   "cell_type": "markdown",
   "id": "9ffc9a9b",
   "metadata": {},
   "source": [
    "### Custom function: extract_table_rows\n",
    "\n",
    "This Python function is designed to process a DataFrame and identify-extract information based on columns' name."
   ]
  },
  {
   "cell_type": "code",
   "execution_count": 15,
   "id": "130327e5586f0d24",
   "metadata": {
    "ExecuteTime": {
     "end_time": "2023-12-28T09:57:20.682839Z",
     "start_time": "2023-12-28T09:57:20.667040Z"
    },
    "jupyter": {
     "outputs_hidden": false
    }
   },
   "outputs": [],
   "source": [
    "def extract_table_rows(df):\n",
    "    rows = []\n",
    "\n",
    "    for row in df.itertuples():\n",
    "        # First row contains the header\n",
    "        if row[0] == 0:\n",
    "            # Find the order of columns\n",
    "            if \"reaction\".lower() in row[2].lower():\n",
    "                AD_index, F_index  = 2, 3\n",
    "            else:\n",
    "                AD_index, F_index  = 3, 2\n",
    "\n",
    "        else:\n",
    "            ad_reaction = row[AD_index].split('\\n')\n",
    "            freq = row[F_index].split('\\n')\n",
    "            \n",
    "            for index, ad in enumerate(ad_reaction):\n",
    "                ad_row = []\n",
    "                ad_row.insert(0, row[1].replace('\\n', ''))  \n",
    "                ad_row.insert(1, ad_reaction[index].strip())\n",
    "                ad_row.insert(2, freq[index].strip())\n",
    "                rows.append(ad_row)\n",
    "    return rows"
   ]
  },
  {
   "cell_type": "code",
   "execution_count": 16,
   "id": "28842dd7-a610-425e-880b-36751d556b35",
   "metadata": {
    "ExecuteTime": {
     "end_time": "2023-12-28T09:57:26.202624Z",
     "start_time": "2023-12-28T09:57:21.475035Z"
    },
    "jupyter": {
     "outputs_hidden": false
    }
   },
   "outputs": [
    {
     "name": "stdout",
     "output_type": "stream",
     "text": [
      "Start Processing Filename:  ./data/pdfs/odomzo-epar-product-information_en.pdf\n"
     ]
    },
    {
     "name": "stderr",
     "output_type": "stream",
     "text": [
      "/var/folders/h3/2hsc1tt90kn6k_0wsgjj18nc0000gn/T/ipykernel_3641/3477414072.py:21: UserWarning: This pattern is interpreted as a regular expression, and has match groups. To actually get the groups, use str.extract.\n",
      "  matches = df[0].str.contains(regex, regex=True)\n"
     ]
    },
    {
     "name": "stdout",
     "output_type": "stream",
     "text": [
      "The file  odomzo  does NOT have three columns table\n",
      "Start Processing Filename:  ./data/pdfs/metformin-hydrochloride-accord-epar-product-information_en.pdf\n"
     ]
    },
    {
     "name": "stderr",
     "output_type": "stream",
     "text": [
      "/var/folders/h3/2hsc1tt90kn6k_0wsgjj18nc0000gn/T/ipykernel_3641/3477414072.py:21: UserWarning: This pattern is interpreted as a regular expression, and has match groups. To actually get the groups, use str.extract.\n",
      "  matches = df[0].str.contains(regex, regex=True)\n"
     ]
    },
    {
     "name": "stdout",
     "output_type": "stream",
     "text": [
      "The file  metformin  does NOT have three columns table\n",
      "The file  metformin  does NOT have three columns table\n",
      "Start Processing Filename:  ./data/pdfs/prehevbri-epar-product-information_en.pdf\n",
      "The file  prehevbri  does have three columns table\n"
     ]
    },
    {
     "name": "stderr",
     "output_type": "stream",
     "text": [
      "/var/folders/h3/2hsc1tt90kn6k_0wsgjj18nc0000gn/T/ipykernel_3641/3477414072.py:21: UserWarning: This pattern is interpreted as a regular expression, and has match groups. To actually get the groups, use str.extract.\n",
      "  matches = df[0].str.contains(regex, regex=True)\n"
     ]
    },
    {
     "ename": "IndexError",
     "evalue": "list index out of range",
     "output_type": "error",
     "traceback": [
      "\u001b[0;31m---------------------------------------------------------------------------\u001b[0m",
      "\u001b[0;31mIndexError\u001b[0m                                Traceback (most recent call last)",
      "Cell \u001b[0;32mIn[16], line 30\u001b[0m\n\u001b[1;32m     27\u001b[0m \u001b[38;5;28;01mif\u001b[39;00m \u001b[38;5;28mlen\u001b[39m(df\u001b[38;5;241m.\u001b[39mcolumns) \u001b[38;5;241m==\u001b[39m \u001b[38;5;241m3\u001b[39m:\n\u001b[1;32m     28\u001b[0m     \u001b[38;5;66;03m# Case A: Dataframe consists of 3 columns\u001b[39;00m\n\u001b[1;32m     29\u001b[0m     \u001b[38;5;28mprint\u001b[39m(\u001b[38;5;124m\"\u001b[39m\u001b[38;5;124mThe file \u001b[39m\u001b[38;5;124m\"\u001b[39m, filename, \u001b[38;5;124m\"\u001b[39m\u001b[38;5;124m does have three columns table\u001b[39m\u001b[38;5;124m\"\u001b[39m)\n\u001b[0;32m---> 30\u001b[0m     extracted_rows \u001b[38;5;241m=\u001b[39m \u001b[43mextract_table_rows\u001b[49m\u001b[43m(\u001b[49m\u001b[43mdf\u001b[49m\u001b[43m)\u001b[49m\n\u001b[1;32m     31\u001b[0m     \u001b[38;5;28;01mfor\u001b[39;00m row \u001b[38;5;129;01min\u001b[39;00m extracted_rows:\n\u001b[1;32m     32\u001b[0m         rows\u001b[38;5;241m.\u001b[39mappend(row)\n",
      "Cell \u001b[0;32mIn[15], line 21\u001b[0m, in \u001b[0;36mextract_table_rows\u001b[0;34m(df)\u001b[0m\n\u001b[1;32m     19\u001b[0m             ad_row\u001b[38;5;241m.\u001b[39minsert(\u001b[38;5;241m0\u001b[39m, row[\u001b[38;5;241m1\u001b[39m]\u001b[38;5;241m.\u001b[39mreplace(\u001b[38;5;124m'\u001b[39m\u001b[38;5;130;01m\\n\u001b[39;00m\u001b[38;5;124m'\u001b[39m, \u001b[38;5;124m'\u001b[39m\u001b[38;5;124m'\u001b[39m))  \n\u001b[1;32m     20\u001b[0m             ad_row\u001b[38;5;241m.\u001b[39minsert(\u001b[38;5;241m1\u001b[39m, ad_reaction[index]\u001b[38;5;241m.\u001b[39mstrip())\n\u001b[0;32m---> 21\u001b[0m             ad_row\u001b[38;5;241m.\u001b[39minsert(\u001b[38;5;241m2\u001b[39m, \u001b[43mfreq\u001b[49m\u001b[43m[\u001b[49m\u001b[43mindex\u001b[49m\u001b[43m]\u001b[49m\u001b[38;5;241m.\u001b[39mstrip())\n\u001b[1;32m     22\u001b[0m             rows\u001b[38;5;241m.\u001b[39mappend(ad_row)\n\u001b[1;32m     23\u001b[0m \u001b[38;5;28;01mreturn\u001b[39;00m rows\n",
      "\u001b[0;31mIndexError\u001b[0m: list index out of range"
     ]
    }
   ],
   "source": [
    "# List all pdfs in the directory\n",
    "pdfs_processed = []\n",
    "pdfs_not_processed = []\n",
    "\n",
    "for file in os.listdir(os.path.join(PATH, 'pdfs')): # ['abecma-epar-product-information_en.pdf']:\n",
    "    \n",
    "    if file.lower().endswith('.pdf'):\n",
    "        filename = file.split('/')[-1].split('-')[0]\n",
    "        fullpath = os.path.join(PATH, 'pdfs', file)\n",
    "        \n",
    "        print(\"Start Processing Filename: \", fullpath)\n",
    "        \n",
    "        tables = camelot.read_pdf(fullpath, pages='all', flavor='lattice', line_scale=80, shift_text = ['', 'l'], process_background=False)\n",
    "\n",
    "        rows = []\n",
    "        for i, table in enumerate(tables):\n",
    "            # Convert table to a pandas DataFrame\n",
    "            df = table.df\n",
    "    \n",
    "            # Search for regex in the first column\n",
    "            matches = df[0].str.contains(regex, regex=True)\n",
    "    \n",
    "            # Check if any value in the column matches the regex pattern\n",
    "            contains_regex = matches.any()\n",
    "\n",
    "            if contains_regex:\n",
    "                if len(df.columns) == 3:\n",
    "                    # Case A: Dataframe consists of 3 columns\n",
    "                    print(\"The file \", filename, \" does have three columns table\")\n",
    "                    extracted_rows = extract_table_rows(df)\n",
    "                    for row in extracted_rows:\n",
    "                        rows.append(row)\n",
    "\n",
    "                    pdfs_processed.append(fullpath)\n",
    "                else:\n",
    "                    print(\"The file \", filename, \" does NOT have three columns table\")\n",
    "                    pdfs_not_processed.append(fullpath)\n",
    "        if rows:\n",
    "            pd.DataFrame(rows, columns=[\"SOC\", \"ADR\", \"FREQ\"]).to_csv(os.path.join(PATH, \"extracted_tables\", filename + \".csv\"), sep=';', encoding='utf-8', index=False)\n",
    "            \n",
    "# Create report\n",
    "pd.DataFrame([pdfs_processed, pdfs_not_processed], columns=[\"Processed\", \"Not Processed\"]).to_csv(os.path.join(PATH, \"report.csv\"), sep=';', encoding='utf-8', index=False)"
   ]
  },
  {
   "cell_type": "markdown",
   "id": "9122f694",
   "metadata": {},
   "source": [
    "## Testing"
   ]
  },
  {
   "cell_type": "code",
   "execution_count": 26,
   "id": "9517ac1ad0f74b84",
   "metadata": {
    "ExecuteTime": {
     "end_time": "2023-12-28T10:02:26.988563Z",
     "start_time": "2023-12-28T10:02:26.827549Z"
    },
    "jupyter": {
     "outputs_hidden": false
    }
   },
   "outputs": [],
   "source": [
    "file = \"./data/pdfs/abecma-epar-product-information_en.pdf\""
   ]
  },
  {
   "cell_type": "code",
   "execution_count": 27,
   "id": "854aed71c09fda0f",
   "metadata": {
    "ExecuteTime": {
     "end_time": "2023-12-28T10:27:12.808572Z",
     "start_time": "2023-12-28T10:27:12.783700Z"
    },
    "jupyter": {
     "outputs_hidden": false
    }
   },
   "outputs": [],
   "source": [
    "tables = camelot.read_pdf(file, pages='all', flavor='lattice', line_scale=40, shift_text = ['', 'l'], process_background=False)"
   ]
  },
  {
   "cell_type": "code",
   "execution_count": 16,
   "id": "77e91c8f7d59d26f",
   "metadata": {
    "ExecuteTime": {
     "end_time": "2023-12-28T10:27:16.675197Z",
     "start_time": "2023-12-28T10:27:16.655296Z"
    },
    "jupyter": {
     "outputs_hidden": false
    }
   },
   "outputs": [
    {
     "name": "stdout",
     "output_type": "stream",
     "text": [
      "Table index:  0\n"
     ]
    },
    {
     "name": "stderr",
     "output_type": "stream",
     "text": [
      "/var/folders/h3/2hsc1tt90kn6k_0wsgjj18nc0000gn/T/ipykernel_35975/2842267533.py:5: UserWarning: This pattern is interpreted as a regular expression, and has match groups. To actually get the groups, use str.extract.\n",
      "  matches = df[0].str.contains(regex, regex=True)\n"
     ]
    }
   ],
   "source": [
    "for i, table in enumerate(tables):\n",
    "    df = table.df\n",
    "    \n",
    "    # Search for regex in the first column\n",
    "    matches = df[0].str.contains(regex, regex=True)\n",
    "    \n",
    "    # Check if any value in the column matches the regex pattern\n",
    "    contains_regex = matches.any()\n",
    "\n",
    "    if contains_regex:\n",
    "        if len(df.columns) == 3:\n",
    "            print(\"Table index: \", i)"
   ]
  },
  {
   "cell_type": "code",
   "execution_count": 17,
   "id": "8bcd6888-b8d6-4386-ac8e-c84a7bc1ffa2",
   "metadata": {
    "scrolled": false
   },
   "outputs": [
    {
     "data": {
      "text/html": [
       "<div>\n",
       "<style scoped>\n",
       "    .dataframe tbody tr th:only-of-type {\n",
       "        vertical-align: middle;\n",
       "    }\n",
       "\n",
       "    .dataframe tbody tr th {\n",
       "        vertical-align: top;\n",
       "    }\n",
       "\n",
       "    .dataframe thead th {\n",
       "        text-align: right;\n",
       "    }\n",
       "</style>\n",
       "<table border=\"1\" class=\"dataframe\">\n",
       "  <thead>\n",
       "    <tr style=\"text-align: right;\">\n",
       "      <th></th>\n",
       "      <th>0</th>\n",
       "      <th>1</th>\n",
       "      <th>2</th>\n",
       "    </tr>\n",
       "  </thead>\n",
       "  <tbody>\n",
       "    <tr>\n",
       "      <th>0</th>\n",
       "      <td>System Organ Class</td>\n",
       "      <td>Adverse Reaction</td>\n",
       "      <td>Frequency</td>\n",
       "    </tr>\n",
       "    <tr>\n",
       "      <th>1</th>\n",
       "      <td>Blood and Lymphatic System \\nDisorders</td>\n",
       "      <td>Lymphadenopathy</td>\n",
       "      <td>Uncommon</td>\n",
       "    </tr>\n",
       "    <tr>\n",
       "      <th>2</th>\n",
       "      <td></td>\n",
       "      <td>Diarrhoea1, nausea/vomiting1</td>\n",
       "      <td>Common</td>\n",
       "    </tr>\n",
       "    <tr>\n",
       "      <th>3</th>\n",
       "      <td>Gastrointestinal Disorders</td>\n",
       "      <td>Abdominal pain</td>\n",
       "      <td>Common</td>\n",
       "    </tr>\n",
       "    <tr>\n",
       "      <th>4</th>\n",
       "      <td></td>\n",
       "      <td>Injection site pain1, injection site tendernes...</td>\n",
       "      <td>Very Common</td>\n",
       "    </tr>\n",
       "  </tbody>\n",
       "</table>\n",
       "</div>"
      ],
      "text/plain": [
       "                                        0  \\\n",
       "0                      System Organ Class   \n",
       "1  Blood and Lymphatic System \\nDisorders   \n",
       "2                                           \n",
       "3              Gastrointestinal Disorders   \n",
       "4                                           \n",
       "\n",
       "                                                   1            2  \n",
       "0                                   Adverse Reaction    Frequency  \n",
       "1                                    Lymphadenopathy     Uncommon  \n",
       "2                       Diarrhoea1, nausea/vomiting1       Common  \n",
       "3                                     Abdominal pain       Common  \n",
       "4  Injection site pain1, injection site tendernes...  Very Common  "
      ]
     },
     "execution_count": 17,
     "metadata": {},
     "output_type": "execute_result"
    }
   ],
   "source": [
    "tables[0].df.head()"
   ]
  },
  {
   "cell_type": "code",
   "execution_count": 18,
   "id": "e97a8a0e-183b-4388-8077-9a6f48fa0d4b",
   "metadata": {},
   "outputs": [],
   "source": [
    "df = tables[0].df"
   ]
  },
  {
   "cell_type": "code",
   "execution_count": 19,
   "id": "e95bf66544276ea1",
   "metadata": {
    "jupyter": {
     "outputs_hidden": false
    }
   },
   "outputs": [
    {
     "name": "stdout",
     "output_type": "stream",
     "text": [
      "Row:  Pandas(Index=0, _1='System Organ Class', _2='Adverse Reaction', _3='Frequency')\n",
      "Header\n",
      "Row:  Pandas(Index=1, _1='Blood and Lymphatic System \\nDisorders', _2='Lymphadenopathy', _3='Uncommon')\n",
      "Row:  Pandas(Index=2, _1='', _2='Diarrhoea1, nausea/vomiting1', _3='Common')\n",
      "Row:  Pandas(Index=3, _1='Gastrointestinal Disorders', _2='Abdominal pain', _3='Common')\n",
      "Row:  Pandas(Index=4, _1='', _2='Injection site pain1, injection site tenderness1, \\ninjection site pruritus1, fatigue1,', _3='Very Common')\n"
     ]
    },
    {
     "ename": "IndexError",
     "evalue": "list index out of range",
     "output_type": "error",
     "traceback": [
      "\u001b[0;31m---------------------------------------------------------------------------\u001b[0m",
      "\u001b[0;31mIndexError\u001b[0m                                Traceback (most recent call last)",
      "Cell \u001b[0;32mIn[19], line 22\u001b[0m\n\u001b[1;32m     20\u001b[0m             ad_row\u001b[38;5;241m.\u001b[39minsert(\u001b[38;5;241m0\u001b[39m, row[\u001b[38;5;241m1\u001b[39m]\u001b[38;5;241m.\u001b[39mreplace(\u001b[38;5;124m'\u001b[39m\u001b[38;5;130;01m\\n\u001b[39;00m\u001b[38;5;124m'\u001b[39m, \u001b[38;5;124m'\u001b[39m\u001b[38;5;124m'\u001b[39m))  \n\u001b[1;32m     21\u001b[0m             ad_row\u001b[38;5;241m.\u001b[39minsert(\u001b[38;5;241m1\u001b[39m, ad_reaction[index]\u001b[38;5;241m.\u001b[39mstrip())\n\u001b[0;32m---> 22\u001b[0m             ad_row\u001b[38;5;241m.\u001b[39minsert(\u001b[38;5;241m2\u001b[39m, \u001b[43mfreq\u001b[49m\u001b[43m[\u001b[49m\u001b[43mindex\u001b[49m\u001b[43m]\u001b[49m\u001b[38;5;241m.\u001b[39mstrip())\n\u001b[1;32m     23\u001b[0m             rows\u001b[38;5;241m.\u001b[39mappend(ad_row)\n\u001b[1;32m     24\u001b[0m rows\n",
      "\u001b[0;31mIndexError\u001b[0m: list index out of range"
     ]
    }
   ],
   "source": [
    "rows = []\n",
    "\n",
    "for row in df.itertuples():\n",
    "    print(\"Row: \", row)\n",
    "    # First row contains the header\n",
    "    if row[0] == 0:\n",
    "        # Find the order of columns\n",
    "        print(\"Header\")\n",
    "        if \"reaction\".lower() in row[2].lower():\n",
    "            AD_index, F_index  = 2, 3\n",
    "        else:\n",
    "            AD_index, F_index  = 3, 2\n",
    "\n",
    "    else:\n",
    "        ad_reaction = row[AD_index].split('\\n')\n",
    "        freq = row[F_index].split('\\n')\n",
    "        \n",
    "        for index, ad in enumerate(ad_reaction):\n",
    "            ad_row = []\n",
    "            ad_row.insert(0, row[1].replace('\\n', ''))  \n",
    "            ad_row.insert(1, ad_reaction[index].strip())\n",
    "            ad_row.insert(2, freq[index].strip())\n",
    "            rows.append(ad_row)\n",
    "rows"
   ]
  },
  {
   "cell_type": "code",
   "execution_count": 22,
   "id": "c13a1b6d-0153-432f-a179-baf0a1ae50d6",
   "metadata": {},
   "outputs": [
    {
     "data": {
      "text/plain": [
       "'./data/pdfs/abecma-epar-product-information_en.pdf'"
      ]
     },
     "execution_count": 22,
     "metadata": {},
     "output_type": "execute_result"
    }
   ],
   "source": [
    "os.path.join(PATH, 'pdfs', 'abecma-epar-product-information_en.pdf')"
   ]
  },
  {
   "cell_type": "markdown",
   "id": "b1307c19",
   "metadata": {},
   "source": [
    "## Explore Camelot \n",
    "\n",
    "fine-tuning the table extraction process in Camelot is crucial for dealing with complex or poorly formatted tables in PDFs. Here are some detailed tips and techniques for fine-tuning your table extractions."
   ]
  },
  {
   "cell_type": "markdown",
   "id": "7818a653",
   "metadata": {},
   "source": [
    "### 1. Selecting the Right Flavor\n",
    "\n",
    "Camelot offers two flavors for table extraction: lattice and stream.\n",
    "\n",
    "* **Lattice** is used for PDFs with tables that have clear grid lines.\n",
    "* **Stream** is for PDFs where tables are defined by whitespace between columns."
   ]
  },
  {
   "cell_type": "code",
   "execution_count": null,
   "id": "b4c8b82f",
   "metadata": {},
   "outputs": [],
   "source": [
    "tables = camelot.read_pdf('path_to_your_pdf.pdf', flavor='lattice') # or flavor='stream'"
   ]
  },
  {
   "cell_type": "markdown",
   "id": "b3c49d75",
   "metadata": {},
   "source": [
    "### 2. Adjusting Table Areas\n",
    "\n",
    "Sometimes, Camelot may not correctly identify the area where a table is located. You can manually specify the table area:\n",
    "\n",
    "**Specify Table Area**: Use the table_areas parameter to define the area where the table is located in the PDF. The coordinates are in the format **[x1, y1, x2, y2]**, where **(x1, y1)** is the top-left corner, and **(x2, y2)** is the bottom-right corner of the table."
   ]
  },
  {
   "cell_type": "code",
   "execution_count": null,
   "id": "72c38487",
   "metadata": {},
   "outputs": [],
   "source": [
    "tables = camelot.read_pdf('your_pdf.pdf', flavor='stream', table_areas=['x1,y1,x2,y2'])"
   ]
  },
  {
   "cell_type": "markdown",
   "id": "911e63e3",
   "metadata": {},
   "source": [
    "### 3. Tweaking Column Separation\n",
    "\n",
    "For the **stream flavor**, you can define how columns are separated:\n",
    "\n",
    "**Column Separation**: Use columns parameter to specify the x-coordinates of column boundaries."
   ]
  },
  {
   "cell_type": "code",
   "execution_count": null,
   "id": "270e5e97",
   "metadata": {},
   "outputs": [],
   "source": [
    "tables = camelot.read_pdf('your_pdf.pdf', flavor='stream', columns=['x1', 'x2', 'x3'])"
   ]
  },
  {
   "cell_type": "markdown",
   "id": "3baed6a8",
   "metadata": {},
   "source": [
    "### 4. Adjusting Row Tolerances and Column Tolerances\n",
    "\n",
    "These parameters help in fine-tuning the table extraction in the **lattice flavor**:\n",
    "\n",
    "* **Row Tolerance**: row_tol sets the tolerance for merging cells vertically.\n",
    "* **Column Tolerance**: column_tol sets the tolerance for merging cells horizontally."
   ]
  },
  {
   "cell_type": "code",
   "execution_count": null,
   "id": "18869cf8",
   "metadata": {},
   "outputs": [],
   "source": [
    "tables = camelot.read_pdf('your_pdf.pdf', flavor='lattice', row_tol=10, column_tol=10)"
   ]
  },
  {
   "cell_type": "markdown",
   "id": "4921e310",
   "metadata": {},
   "source": [
    "### 5. Using Edge Tolerance\n",
    "\n",
    "When using the **lattice flavor**, **edge_tol** helps if the table lines are not detected accurately."
   ]
  },
  {
   "cell_type": "code",
   "execution_count": null,
   "id": "a9b80c24",
   "metadata": {},
   "outputs": [],
   "source": [
    "tables = camelot.read_pdf('your_pdf.pdf', flavor='lattice', edge_tol=500)"
   ]
  },
  {
   "cell_type": "markdown",
   "id": "0d9dbbe4",
   "metadata": {},
   "source": [
    "### 6. Splitting Text\n",
    "\n",
    "If you have text that spans across multiple cells or rows, you might need to adjust the text splitting:\n",
    "\n",
    "**Split Text**: Use **split_text** to split text that spans across multiple cells."
   ]
  },
  {
   "cell_type": "code",
   "execution_count": null,
   "id": "6ea17fe1",
   "metadata": {},
   "outputs": [],
   "source": [
    "tables = camelot.read_pdf('your_pdf.pdf', split_text=True)"
   ]
  },
  {
   "cell_type": "markdown",
   "id": "2810d7ac",
   "metadata": {},
   "source": [
    "### 7. Flagging Suspect Content\n",
    "\n",
    "Camelot allows you to flag cells with content that might have been parsed incorrectly:\n",
    "\n",
    "**Flag Suspect**: Set **flag_size** to flag cells with text smaller than the specified font size."
   ]
  },
  {
   "cell_type": "code",
   "execution_count": null,
   "id": "520056e2",
   "metadata": {},
   "outputs": [],
   "source": [
    "tables = camelot.read_pdf('your_pdf.pdf', flag_size=True)"
   ]
  },
  {
   "cell_type": "markdown",
   "id": "4be7525d",
   "metadata": {},
   "source": [
    "### 8. Customizing Parsing Strategy\n",
    "\n",
    "In some cases, you might need to customize how Camelot parses each table:"
   ]
  },
  {
   "cell_type": "markdown",
   "id": "c32f5183",
   "metadata": {},
   "source": [
    "**Strip Text**: Use **strip_text** to remove unwanted whitespace from text in cells."
   ]
  },
  {
   "cell_type": "code",
   "execution_count": null,
   "id": "fd100b26",
   "metadata": {},
   "outputs": [],
   "source": [
    "tables = camelot.read_pdf('your_pdf.pdf', strip_text=' \\n')"
   ]
  },
  {
   "cell_type": "markdown",
   "id": "b8148142",
   "metadata": {},
   "source": [
    "**Line Scale**: In **lattice mode**, **line_scale** is important for detecting short lines. It's a factor by which the minimum line size is multiplied."
   ]
  },
  {
   "cell_type": "markdown",
   "id": "6cd1f4c9",
   "metadata": {},
   "source": [
    "### 10. Debugging with Visualization\n",
    "\n",
    "Camelot provides a way to visualize the table areas and grid lines, which can be very helpful for debuggin\n",
    "\n",
    "**Plotting Tables**: Use **camelot.plot** to visualize the detected tables, text, and grid lines. This can help you adjust your parameters more accurately."
   ]
  },
  {
   "cell_type": "code",
   "execution_count": 1,
   "id": "17edc8db-ad06-413b-8fd3-1fb7cae7399d",
   "metadata": {},
   "outputs": [
    {
     "ename": "NameError",
     "evalue": "name 'camelot' is not defined",
     "output_type": "error",
     "traceback": [
      "\u001b[0;31m---------------------------------------------------------------------------\u001b[0m",
      "\u001b[0;31mNameError\u001b[0m                                 Traceback (most recent call last)",
      "Cell \u001b[0;32mIn[1], line 1\u001b[0m\n\u001b[0;32m----> 1\u001b[0m \u001b[43mcamelot\u001b[49m\u001b[38;5;241m.\u001b[39mplot(tables[\u001b[38;5;241m2\u001b[39m], kind\u001b[38;5;241m=\u001b[39m\u001b[38;5;124m'\u001b[39m\u001b[38;5;124mgrid\u001b[39m\u001b[38;5;124m'\u001b[39m)\u001b[38;5;241m.\u001b[39mshow()\n",
      "\u001b[0;31mNameError\u001b[0m: name 'camelot' is not defined"
     ]
    }
   ],
   "source": [
    "camelot.plot(tables[2], kind='grid').show()"
   ]
  },
  {
   "cell_type": "code",
   "execution_count": 29,
   "id": "5256464a-1027-427e-9423-2eadf15be390",
   "metadata": {},
   "outputs": [
    {
     "name": "stderr",
     "output_type": "stream",
     "text": [
      "/var/folders/h3/2hsc1tt90kn6k_0wsgjj18nc0000gn/T/ipykernel_3641/3259206825.py:1: UserWarning: FigureCanvasAgg is non-interactive, and thus cannot be shown\n",
      "  camelot.plot(tables[0], kind='text').show()\n"
     ]
    },
    {
     "data": {
      "image/png": "[encoded data removed]",
      "text/plain": [
       "<Figure size 640x480 with 1 Axes>"
      ]
     },
     "metadata": {},
     "output_type": "display_data"
    }
   ],
   "source": [
    "camelot.plot(tables[0], kind='text').show()"
   ]
  },
  {
   "cell_type": "code",
   "execution_count": 32,
   "id": "2421530b-4537-4dd0-87fa-d5c5feda4c86",
   "metadata": {},
   "outputs": [
    {
     "name": "stderr",
     "output_type": "stream",
     "text": [
      "/var/folders/h3/2hsc1tt90kn6k_0wsgjj18nc0000gn/T/ipykernel_3641/1097681807.py:1: UserWarning: FigureCanvasAgg is non-interactive, and thus cannot be shown\n",
      "  camelot.plot(tables[3], kind='contour').show()\n"
     ]
    },
    {
     "data": {
      "image/png": "[encoded data removed]",
      "text/plain": [
       "<Figure size 640x480 with 1 Axes>"
      ]
     },
     "metadata": {},
     "output_type": "display_data"
    }
   ],
   "source": [
    "camelot.plot(tables[3], kind='contour').show()"
   ]
  },
  {
   "cell_type": "code",
   "execution_count": 33,
   "id": "15237752-1f21-4982-acfb-d9a0c5ae6923",
   "metadata": {},
   "outputs": [
    {
     "name": "stderr",
     "output_type": "stream",
     "text": [
      "/var/folders/h3/2hsc1tt90kn6k_0wsgjj18nc0000gn/T/ipykernel_3641/3497607042.py:1: UserWarning: FigureCanvasAgg is non-interactive, and thus cannot be shown\n",
      "  camelot.plot(tables[3], kind='line').show()\n"
     ]
    },
    {
     "data": {
      "image/png": "[encoded data removed]",
      "text/plain": [
       "<Figure size 640x480 with 1 Axes>"
      ]
     },
     "metadata": {},
     "output_type": "display_data"
    }
   ],
   "source": [
    "camelot.plot(tables[3], kind='line').show()"
   ]
  },
  {
   "cell_type": "code",
   "execution_count": 34,
   "id": "6f166be1-8328-4342-bd8b-7496492359bd",
   "metadata": {},
   "outputs": [
    {
     "name": "stderr",
     "output_type": "stream",
     "text": [
      "/var/folders/h3/2hsc1tt90kn6k_0wsgjj18nc0000gn/T/ipykernel_3641/2211539764.py:1: UserWarning: FigureCanvasAgg is non-interactive, and thus cannot be shown\n",
      "  camelot.plot(tables[3], kind='joint').show()\n"
     ]
    },
    {
     "data": {
      "image/png": "[encoded data removed]",
      "text/plain": [
       "<Figure size 640x480 with 1 Axes>"
      ]
     },
     "metadata": {},
     "output_type": "display_data"
    }
   ],
   "source": [
    "camelot.plot(tables[3], kind='joint').show()"
   ]
  },
  {
   "cell_type": "code",
   "execution_count": 27,
   "id": "99e8234a-a332-4771-88be-a223db29ebe1",
   "metadata": {},
   "outputs": [
    {
     "name": "stdout",
     "output_type": "stream",
     "text": [
      "Traceback (most recent call last):\n",
      "  File \"/Library/Frameworks/Python.framework/Versions/3.11/bin/excalibur\", line 5, in <module>\n",
      "    from excalibur.cli import cli\n",
      "  File \"/Library/Frameworks/Python.framework/Versions/3.11/lib/python3.11/site-packages/excalibur/cli.py\", line 7, in <module>\n",
      "    from . import __version__, settings\n",
      "  File \"/Library/Frameworks/Python.framework/Versions/3.11/lib/python3.11/site-packages/excalibur/settings.py\", line 10, in <module>\n",
      "    from . import configuration as conf\n",
      "  File \"/Library/Frameworks/Python.framework/Versions/3.11/lib/python3.11/site-packages/excalibur/configuration.py\", line 7, in <module>\n",
      "    from backports.configparser import ConfigParser\n",
      "  File \"/Library/Frameworks/Python.framework/Versions/3.11/lib/python3.11/site-packages/backports/configparser/__init__.py\", line 130, in <module>\n",
      "    from collections import MutableMapping\n",
      "ImportError: cannot import name 'MutableMapping' from 'collections' (/Library/Frameworks/Python.framework/Versions/3.11/lib/python3.11/collections/__init__.py)\n"
     ]
    }
   ],
   "source": [
    "!excalibur webserver"
   ]
  },
  {
   "cell_type": "code",
   "execution_count": null,
   "id": "546fa8f5-f635-4fb5-ad42-80b538167120",
   "metadata": {},
   "outputs": [],
   "source": []
  },
  {
   "cell_type": "code",
   "execution_count": 29,
   "id": "08b1fb35-e07e-4bec-85af-5fa4d8569712",
   "metadata": {},
   "outputs": [
    {
     "ename": "FileNotFoundError",
     "evalue": "[Errno 2] No such file or directory: 'metformin-hydrochloride-accord-epar-product-information_en.pdf'",
     "output_type": "error",
     "traceback": [
      "\u001b[0;31m---------------------------------------------------------------------------\u001b[0m",
      "\u001b[0;31mFileNotFoundError\u001b[0m                         Traceback (most recent call last)",
      "Cell \u001b[0;32mIn[29], line 1\u001b[0m\n\u001b[0;32m----> 1\u001b[0m tabl \u001b[38;5;241m=\u001b[39m \u001b[43mcamelot\u001b[49m\u001b[38;5;241;43m.\u001b[39;49m\u001b[43mread_pdf\u001b[49m\u001b[43m(\u001b[49m\u001b[38;5;124;43m'\u001b[39;49m\u001b[38;5;124;43mmetformin-hydrochloride-accord-epar-product-information_en.pdf\u001b[39;49m\u001b[38;5;124;43m'\u001b[39;49m\u001b[43m,\u001b[49m\u001b[43m \u001b[49m\u001b[43mprocess_background\u001b[49m\u001b[38;5;241;43m=\u001b[39;49m\u001b[38;5;28;43;01mTrue\u001b[39;49;00m\u001b[43m)\u001b[49m\n",
      "File \u001b[0;32m/Library/Frameworks/Python.framework/Versions/3.11/lib/python3.11/site-packages/camelot/io.py:113\u001b[0m, in \u001b[0;36mread_pdf\u001b[0;34m(filepath, pages, password, flavor, suppress_stdout, layout_kwargs, **kwargs)\u001b[0m\n\u001b[1;32m    111\u001b[0m p \u001b[38;5;241m=\u001b[39m PDFHandler(filepath, pages\u001b[38;5;241m=\u001b[39mpages, password\u001b[38;5;241m=\u001b[39mpassword)\n\u001b[1;32m    112\u001b[0m kwargs \u001b[38;5;241m=\u001b[39m remove_extra(kwargs, flavor\u001b[38;5;241m=\u001b[39mflavor)\n\u001b[0;32m--> 113\u001b[0m tables \u001b[38;5;241m=\u001b[39m \u001b[43mp\u001b[49m\u001b[38;5;241;43m.\u001b[39;49m\u001b[43mparse\u001b[49m\u001b[43m(\u001b[49m\n\u001b[1;32m    114\u001b[0m \u001b[43m    \u001b[49m\u001b[43mflavor\u001b[49m\u001b[38;5;241;43m=\u001b[39;49m\u001b[43mflavor\u001b[49m\u001b[43m,\u001b[49m\n\u001b[1;32m    115\u001b[0m \u001b[43m    \u001b[49m\u001b[43msuppress_stdout\u001b[49m\u001b[38;5;241;43m=\u001b[39;49m\u001b[43msuppress_stdout\u001b[49m\u001b[43m,\u001b[49m\n\u001b[1;32m    116\u001b[0m \u001b[43m    \u001b[49m\u001b[43mlayout_kwargs\u001b[49m\u001b[38;5;241;43m=\u001b[39;49m\u001b[43mlayout_kwargs\u001b[49m\u001b[43m,\u001b[49m\n\u001b[1;32m    117\u001b[0m \u001b[43m    \u001b[49m\u001b[38;5;241;43m*\u001b[39;49m\u001b[38;5;241;43m*\u001b[39;49m\u001b[43mkwargs\u001b[49m\n\u001b[1;32m    118\u001b[0m \u001b[43m\u001b[49m\u001b[43m)\u001b[49m\n\u001b[1;32m    119\u001b[0m \u001b[38;5;28;01mreturn\u001b[39;00m tables\n",
      "File \u001b[0;32m/Library/Frameworks/Python.framework/Versions/3.11/lib/python3.11/site-packages/camelot/handlers.py:169\u001b[0m, in \u001b[0;36mPDFHandler.parse\u001b[0;34m(self, flavor, suppress_stdout, layout_kwargs, **kwargs)\u001b[0m\n\u001b[1;32m    167\u001b[0m \u001b[38;5;28;01mwith\u001b[39;00m TemporaryDirectory() \u001b[38;5;28;01mas\u001b[39;00m tempdir:\n\u001b[1;32m    168\u001b[0m     \u001b[38;5;28;01mfor\u001b[39;00m p \u001b[38;5;129;01min\u001b[39;00m \u001b[38;5;28mself\u001b[39m\u001b[38;5;241m.\u001b[39mpages:\n\u001b[0;32m--> 169\u001b[0m         \u001b[38;5;28;43mself\u001b[39;49m\u001b[38;5;241;43m.\u001b[39;49m\u001b[43m_save_page\u001b[49m\u001b[43m(\u001b[49m\u001b[38;5;28;43mself\u001b[39;49m\u001b[38;5;241;43m.\u001b[39;49m\u001b[43mfilepath\u001b[49m\u001b[43m,\u001b[49m\u001b[43m \u001b[49m\u001b[43mp\u001b[49m\u001b[43m,\u001b[49m\u001b[43m \u001b[49m\u001b[43mtempdir\u001b[49m\u001b[43m)\u001b[49m\n\u001b[1;32m    170\u001b[0m     pages \u001b[38;5;241m=\u001b[39m [os\u001b[38;5;241m.\u001b[39mpath\u001b[38;5;241m.\u001b[39mjoin(tempdir, \u001b[38;5;124mf\u001b[39m\u001b[38;5;124m\"\u001b[39m\u001b[38;5;124mpage-\u001b[39m\u001b[38;5;132;01m{\u001b[39;00mp\u001b[38;5;132;01m}\u001b[39;00m\u001b[38;5;124m.pdf\u001b[39m\u001b[38;5;124m\"\u001b[39m) \u001b[38;5;28;01mfor\u001b[39;00m p \u001b[38;5;129;01min\u001b[39;00m \u001b[38;5;28mself\u001b[39m\u001b[38;5;241m.\u001b[39mpages]\n\u001b[1;32m    171\u001b[0m     parser \u001b[38;5;241m=\u001b[39m Lattice(\u001b[38;5;241m*\u001b[39m\u001b[38;5;241m*\u001b[39mkwargs) \u001b[38;5;28;01mif\u001b[39;00m flavor \u001b[38;5;241m==\u001b[39m \u001b[38;5;124m\"\u001b[39m\u001b[38;5;124mlattice\u001b[39m\u001b[38;5;124m\"\u001b[39m \u001b[38;5;28;01melse\u001b[39;00m Stream(\u001b[38;5;241m*\u001b[39m\u001b[38;5;241m*\u001b[39mkwargs)\n",
      "File \u001b[0;32m/Library/Frameworks/Python.framework/Versions/3.11/lib/python3.11/site-packages/camelot/handlers.py:107\u001b[0m, in \u001b[0;36mPDFHandler._save_page\u001b[0;34m(self, filepath, page, temp)\u001b[0m\n\u001b[1;32m     94\u001b[0m \u001b[38;5;28;01mdef\u001b[39;00m \u001b[38;5;21m_save_page\u001b[39m(\u001b[38;5;28mself\u001b[39m, filepath, page, temp):\n\u001b[1;32m     95\u001b[0m \u001b[38;5;250m    \u001b[39m\u001b[38;5;124;03m\"\"\"Saves specified page from PDF into a temporary directory.\u001b[39;00m\n\u001b[1;32m     96\u001b[0m \n\u001b[1;32m     97\u001b[0m \u001b[38;5;124;03m    Parameters\u001b[39;00m\n\u001b[0;32m   (...)\u001b[0m\n\u001b[1;32m    105\u001b[0m \n\u001b[1;32m    106\u001b[0m \u001b[38;5;124;03m    \"\"\"\u001b[39;00m\n\u001b[0;32m--> 107\u001b[0m     \u001b[38;5;28;01mwith\u001b[39;00m \u001b[38;5;28mopen\u001b[39m(filepath, \u001b[38;5;124m\"\u001b[39m\u001b[38;5;124mrb\u001b[39m\u001b[38;5;124m\"\u001b[39m) \u001b[38;5;28;01mas\u001b[39;00m fileobj:\n\u001b[1;32m    108\u001b[0m         infile \u001b[38;5;241m=\u001b[39m PdfFileReader(fileobj, strict\u001b[38;5;241m=\u001b[39m\u001b[38;5;28;01mFalse\u001b[39;00m)\n\u001b[1;32m    109\u001b[0m         \u001b[38;5;28;01mif\u001b[39;00m infile\u001b[38;5;241m.\u001b[39misEncrypted:\n",
      "\u001b[0;31mFileNotFoundError\u001b[0m: [Errno 2] No such file or directory: 'metformin-hydrochloride-accord-epar-product-information_en.pdf'"
     ]
    }
   ],
   "source": [
    "tabl = camelot.read_pdf('metformin-hydrochloride-accord-epar-product-information_en.pdf', process_background=True)"
   ]
  },
  {
   "cell_type": "code",
   "execution_count": null,
   "id": "12a68b60-b8ab-4221-b2bd-6df8d0ca4e1e",
   "metadata": {},
   "outputs": [],
   "source": []
  }
 ],
 "metadata": {
  "kernelspec": {
   "display_name": "venv",
   "language": "python",
   "name": "venv"
  },
  "language_info": {
   "codemirror_mode": {
    "name": "ipython",
    "version": 3
   },
   "file_extension": ".py",
   "mimetype": "text/x-python",
   "name": "python",
   "nbconvert_exporter": "python",
   "pygments_lexer": "ipython3",
   "version": "3.11.2"
  }
 },
 "nbformat": 4,
 "nbformat_minor": 5
}
