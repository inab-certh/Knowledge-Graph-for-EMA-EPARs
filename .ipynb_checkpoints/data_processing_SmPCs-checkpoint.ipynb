{
 "cells": [
  {
   "cell_type": "markdown",
   "id": "25b6f5b4c9420ac4",
   "metadata": {
    "collapsed": false,
    "jupyter": {
     "outputs_hidden": false
    }
   },
   "source": [
    "## European Medicine Agency (EMA)\n",
    "\n",
    "The European Medicines Agency (EMA) is a decentralized agency of the European Union (EU) responsible for the scientific evaluation, supervision, and safety monitoring of medicines in the EU. EMA plays a crucial role in the public health domain by ensuring that all medicines available on the EU market are safe, effective, and of high quality."
   ]
  },
  {
   "cell_type": "markdown",
   "id": "b654ee0d8de31b26",
   "metadata": {
    "collapsed": false,
    "jupyter": {
     "outputs_hidden": false
    }
   },
   "source": [
    "## Summary of product characteristics (SmPC)\n",
    "\n",
    "A document describing the properties and the officially approved conditions of use of a medicine. Summaries of product characteristics form the basis of information for healthcare professionals on how to use the medicine safely and effectively. Abbreviated as SmPC. \n",
    "\n",
    "<br/>\n",
    "\n",
    "### Structure of an SmPC\n",
    "The structure of the SmPC is defined by the European pharmaceutical legislation. The information included in the SmPC should be product specific and can be cross-referenced to avoid any redundancy. It should be documented in a clear language and should not lead to any ambiguity. The SmPC is divided into 6 major sections:\n",
    "\n",
    "1. Name of the product\n",
    "2. Composition\n",
    "3. Pharmaceutical Form\n",
    "4. Clinical particulars – Includes therapeutic indications, recommendation for dosages and safety information\n",
    "5. Pharmacological properties – Takes into account the therapeutic indications of the clinical elements and their potential adverse drug reactions\n",
    "6. Pharmaceutical particulars – Includes Regulatory information related to the drug\n",
    "\n",
    "<br/>\n",
    "\n",
    "<img src=\"./images/structureSmPC.png\" width=\"600px;\">\n",
    "\n",
    "<br/>\n",
    "<br/>\n",
    "\n",
    "### Prescribing medicines for special populations\n",
    "When prescribing medication to specific groups like children, the elderly, pregnant and breastfeeding women, and individuals with kidney or liver issues, it's\n",
    "crucial to exercise caution. The public documentation for medicines, especially the Summary of Product Characteristics (SmPC) and the package leaflets (PLs), often includes many of these essential precautions.\n",
    "<br/>\n",
    "\n",
    "<img src=\"./images/SmPC_authorization_process.png\" width=\"800px;\">\n",
    "\n",
    "When seeking marketing authorization, a company submits an application dossier that contains instructions for healthcare professionals on the safe and effective use of the medicine. In Europe, this is referred to as the Summary of Product Characteristics (SmPC). The SmPC must be regularly updated over the medicine's lifecycle to reflect new data on efficacy or safety. The figure above illustrates the connection between a medicine's development, the regulatory dossier with the initial proposed SmPC, the SmPC that gets approved, and subsequent updates to the SmPC.\n",
    "\n",
    "\n",
    "[1]: https://www.ema.europa.eu/en/glossary/summary-product-characteristics\n",
    "[2]: https://www.freyrsolutions.com/what-is-an-smpc\n"
   ]
  },
  {
   "cell_type": "markdown",
   "id": "fe2052a2-ea36-4362-8e7f-31fdf36864c0",
   "metadata": {},
   "source": [
    "### Project Overview\n",
    "\n",
    "Using natural language processing (NLP) techniquesto automatically extract adverse drug reactions from such unstructured textual information helps clinicalexperts to effectively and efficiently use them in daily practices. Such techniques have been developed for Structured Product Labels from the Food and Drug Administration (FDA), but there is no researchfocusing on extracting from the Summary of Product Characteristics.\n",
    "\n",
    "\n",
    "In this work, we built a naturallanguage processing pipeline that automatically scrapes the summary of product characteristics onlineand then extracts adverse drug reactions from them.\n",
    "\n",
    "<img src=\"./images/Project_Overview.png\" width=\"300px;\">"
   ]
  },
  {
   "cell_type": "markdown",
   "id": "ebab7948-13c2-465e-9156-15c0838d8ac9",
   "metadata": {},
   "source": [
    "##  STEP 1: Download medicine data and import them to Database\n",
    "You can download the European Medicines Agency's (EMA) medicine-related data published on this website in Excel table format from this page. EMA updates these medicine data tables once a day. The following two files need to be downloaded:\n",
    "\n",
    "<br/>\n",
    "\n",
    "* The file listing all medicines, **including the withdrawn and not authorised ones**, named medicines_output_european_public_assessment_reports_en.xlsx, found [here](https://www.ema.europa.eu/sites/default/files/Medicines_output_european_public_assessment_reports.xlsx)\n",
    "\n",
    "and\n",
    "\n",
    "* The file listing **all the URLs for the SmPCs**, named Product information URLs for member product-information-urls-member-states_en.xls, found [here](https://www.ema.europa.eu/documents/product-information/product-information-urls-member-states_en.xls)\n",
    "\n",
    "\n",
    "##### Disclaimer\n",
    "The database is used purely to join the two csv. The view can also be done with dataframes without the need to use the database\n",
    "\n",
    "[3]: https://toolbox.eupati.eu/resources/prescribing-medicines-for-special-populations/?print=print\n",
    "[4]: https://www.ema.europa.eu/en/homepage\n"
   ]
  },
  {
   "cell_type": "code",
   "execution_count": 1,
   "id": "e9690c5cdcdb3db",
   "metadata": {
    "ExecuteTime": {
     "end_time": "2023-12-28T10:26:51.682904Z",
     "start_time": "2023-12-28T10:26:51.663919Z"
    },
    "collapsed": false,
    "jupyter": {
     "outputs_hidden": false
    }
   },
   "outputs": [],
   "source": [
    "import os\n",
    "import pandas as pd\n",
    "import re\n",
    "import sqlite3\n",
    "import camelot\n",
    "\n",
    "# Define the folder that you store the required xls\n",
    "PATH = \"./data\"\n",
    "\n",
    "MEDICINE_LIST = \"medicines_output_european_public_assessment_reports_en.xlsx\"\n",
    "PRODUCT_URLS_LIST = \"product-information-urls-member-states_en.xls\""
   ]
  },
  {
   "cell_type": "code",
   "execution_count": 2,
   "id": "a3784fc65e25e785",
   "metadata": {
    "ExecuteTime": {
     "end_time": "2023-12-28T09:56:11.403460Z",
     "start_time": "2023-12-28T09:56:10.462370Z"
    },
    "collapsed": false,
    "jupyter": {
     "outputs_hidden": false
    }
   },
   "outputs": [
    {
     "data": {
      "text/html": [
       "<div>\n",
       "<style scoped>\n",
       "    .dataframe tbody tr th:only-of-type {\n",
       "        vertical-align: middle;\n",
       "    }\n",
       "\n",
       "    .dataframe tbody tr th {\n",
       "        vertical-align: top;\n",
       "    }\n",
       "\n",
       "    .dataframe thead th {\n",
       "        text-align: right;\n",
       "    }\n",
       "</style>\n",
       "<table border=\"1\" class=\"dataframe\">\n",
       "  <thead>\n",
       "    <tr style=\"text-align: right;\">\n",
       "      <th></th>\n",
       "      <th>Category</th>\n",
       "      <th>Medicine name</th>\n",
       "      <th>Therapeutic area</th>\n",
       "      <th>International non-proprietary name (INN) / common name</th>\n",
       "      <th>Active substance</th>\n",
       "      <th>Product number</th>\n",
       "      <th>Patient safety</th>\n",
       "      <th>Authorisation status</th>\n",
       "      <th>ATC code</th>\n",
       "      <th>Additional monitoring</th>\n",
       "      <th>...</th>\n",
       "      <th>Vet pharmacotherapeutic group</th>\n",
       "      <th>Date of opinion</th>\n",
       "      <th>Decision date</th>\n",
       "      <th>Revision number</th>\n",
       "      <th>Condition / indication</th>\n",
       "      <th>Species</th>\n",
       "      <th>ATCvet code</th>\n",
       "      <th>First published</th>\n",
       "      <th>Revision date</th>\n",
       "      <th>URL</th>\n",
       "    </tr>\n",
       "  </thead>\n",
       "  <tbody>\n",
       "    <tr>\n",
       "      <th>0</th>\n",
       "      <td>Human</td>\n",
       "      <td>Ryeqo</td>\n",
       "      <td>Leiomyoma</td>\n",
       "      <td>relugolix, estradiol, norethisterone acetate</td>\n",
       "      <td>Relugolix, norethisterone acetate, estradiol h...</td>\n",
       "      <td>EMEA/H/C/005267</td>\n",
       "      <td>no</td>\n",
       "      <td>Authorised</td>\n",
       "      <td>H01CC54</td>\n",
       "      <td>yes</td>\n",
       "      <td>...</td>\n",
       "      <td>NaN</td>\n",
       "      <td>2021-07-16 00:00:00</td>\n",
       "      <td>2023-10-30 01:00:00</td>\n",
       "      <td>6.0</td>\n",
       "      <td>Ryeqo is indicated in adult women of reproduct...</td>\n",
       "      <td>NaN</td>\n",
       "      <td>NaN</td>\n",
       "      <td>2021-05-19 14:14:00</td>\n",
       "      <td>2023-12-04 18:41:00</td>\n",
       "      <td>https://www.ema.europa.eu/en/medicines/human/E...</td>\n",
       "    </tr>\n",
       "    <tr>\n",
       "      <th>1</th>\n",
       "      <td>Human</td>\n",
       "      <td>Yesafili</td>\n",
       "      <td>Macular Edema;  Retinal Vein Occlusion;  Diabe...</td>\n",
       "      <td>aflibercept</td>\n",
       "      <td>aflibercept</td>\n",
       "      <td>EMEA/H/C/006022</td>\n",
       "      <td>no</td>\n",
       "      <td>Authorised</td>\n",
       "      <td>S01LA05</td>\n",
       "      <td>yes</td>\n",
       "      <td>...</td>\n",
       "      <td>NaN</td>\n",
       "      <td>2023-07-20 00:00:00</td>\n",
       "      <td>2023-11-29 01:00:00</td>\n",
       "      <td>1.0</td>\n",
       "      <td>Yesafili is indicated for adults for the treat...</td>\n",
       "      <td>NaN</td>\n",
       "      <td>NaN</td>\n",
       "      <td>2023-07-17 16:27:00</td>\n",
       "      <td>2023-12-04 18:15:00</td>\n",
       "      <td>https://www.ema.europa.eu/en/medicines/human/E...</td>\n",
       "    </tr>\n",
       "    <tr>\n",
       "      <th>2</th>\n",
       "      <td>Human</td>\n",
       "      <td>Leflunomide medac</td>\n",
       "      <td>Arthritis, Rheumatoid</td>\n",
       "      <td>leflunomide</td>\n",
       "      <td>leflunomide</td>\n",
       "      <td>EMEA/H/C/001227</td>\n",
       "      <td>no</td>\n",
       "      <td>Authorised</td>\n",
       "      <td>L04AA13</td>\n",
       "      <td>no</td>\n",
       "      <td>...</td>\n",
       "      <td>NaN</td>\n",
       "      <td>NaT</td>\n",
       "      <td>2023-10-31 01:00:00</td>\n",
       "      <td>19.0</td>\n",
       "      <td>Leflunomide is indicated for the treatment of ...</td>\n",
       "      <td>NaN</td>\n",
       "      <td>NaN</td>\n",
       "      <td>2018-01-30 14:10:00</td>\n",
       "      <td>2023-12-04 17:56:00</td>\n",
       "      <td>https://www.ema.europa.eu/en/medicines/human/E...</td>\n",
       "    </tr>\n",
       "    <tr>\n",
       "      <th>3</th>\n",
       "      <td>Human</td>\n",
       "      <td>Filgrastim Hexal</td>\n",
       "      <td>Neutropenia;  Hematopoietic Stem Cell Transpla...</td>\n",
       "      <td>filgrastim</td>\n",
       "      <td>filgrastim</td>\n",
       "      <td>EMEA/H/C/000918</td>\n",
       "      <td>no</td>\n",
       "      <td>Authorised</td>\n",
       "      <td>L03AA02</td>\n",
       "      <td>no</td>\n",
       "      <td>...</td>\n",
       "      <td>NaN</td>\n",
       "      <td>NaT</td>\n",
       "      <td>2023-11-30 01:00:00</td>\n",
       "      <td>24.0</td>\n",
       "      <td>Reduction in the duration of neutropenia and t...</td>\n",
       "      <td>NaN</td>\n",
       "      <td>NaN</td>\n",
       "      <td>2018-05-24 17:15:00</td>\n",
       "      <td>2023-12-04 17:43:00</td>\n",
       "      <td>https://www.ema.europa.eu/en/medicines/human/E...</td>\n",
       "    </tr>\n",
       "    <tr>\n",
       "      <th>4</th>\n",
       "      <td>Human</td>\n",
       "      <td>Opzelura</td>\n",
       "      <td>Vitiligo</td>\n",
       "      <td>ruxolitinib</td>\n",
       "      <td>ruxolitinib phosphate</td>\n",
       "      <td>EMEA/H/C/005843</td>\n",
       "      <td>no</td>\n",
       "      <td>Authorised</td>\n",
       "      <td>D11AH</td>\n",
       "      <td>no</td>\n",
       "      <td>...</td>\n",
       "      <td>NaN</td>\n",
       "      <td>2023-02-23 01:00:00</td>\n",
       "      <td>2023-10-19 00:00:00</td>\n",
       "      <td>2.0</td>\n",
       "      <td>Opzelura is indicated for the treatment of non...</td>\n",
       "      <td>NaN</td>\n",
       "      <td>NaN</td>\n",
       "      <td>2023-02-22 15:05:00</td>\n",
       "      <td>2023-12-04 17:35:00</td>\n",
       "      <td>https://www.ema.europa.eu/en/medicines/human/E...</td>\n",
       "    </tr>\n",
       "  </tbody>\n",
       "</table>\n",
       "<p>5 rows × 30 columns</p>\n",
       "</div>"
      ],
      "text/plain": [
       "  Category      Medicine name  \\\n",
       "0    Human              Ryeqo   \n",
       "1    Human           Yesafili   \n",
       "2    Human  Leflunomide medac   \n",
       "3    Human   Filgrastim Hexal   \n",
       "4    Human           Opzelura   \n",
       "\n",
       "                                    Therapeutic area  \\\n",
       "0                                          Leiomyoma   \n",
       "1  Macular Edema;  Retinal Vein Occlusion;  Diabe...   \n",
       "2                              Arthritis, Rheumatoid   \n",
       "3  Neutropenia;  Hematopoietic Stem Cell Transpla...   \n",
       "4                                           Vitiligo   \n",
       "\n",
       "  International non-proprietary name (INN) / common name  \\\n",
       "0       relugolix, estradiol, norethisterone acetate       \n",
       "1                                        aflibercept       \n",
       "2                                        leflunomide       \n",
       "3                                         filgrastim       \n",
       "4                                        ruxolitinib       \n",
       "\n",
       "                                    Active substance   Product number  \\\n",
       "0  Relugolix, norethisterone acetate, estradiol h...  EMEA/H/C/005267   \n",
       "1                                        aflibercept  EMEA/H/C/006022   \n",
       "2                                        leflunomide  EMEA/H/C/001227   \n",
       "3                                         filgrastim  EMEA/H/C/000918   \n",
       "4                              ruxolitinib phosphate  EMEA/H/C/005843   \n",
       "\n",
       "  Patient safety Authorisation status ATC code Additional monitoring  ...  \\\n",
       "0             no           Authorised  H01CC54                   yes  ...   \n",
       "1             no           Authorised  S01LA05                   yes  ...   \n",
       "2             no           Authorised  L04AA13                    no  ...   \n",
       "3             no           Authorised  L03AA02                    no  ...   \n",
       "4             no           Authorised    D11AH                    no  ...   \n",
       "\n",
       "  Vet pharmacotherapeutic group     Date of opinion       Decision date  \\\n",
       "0                           NaN 2021-07-16 00:00:00 2023-10-30 01:00:00   \n",
       "1                           NaN 2023-07-20 00:00:00 2023-11-29 01:00:00   \n",
       "2                           NaN                 NaT 2023-10-31 01:00:00   \n",
       "3                           NaN                 NaT 2023-11-30 01:00:00   \n",
       "4                           NaN 2023-02-23 01:00:00 2023-10-19 00:00:00   \n",
       "\n",
       "  Revision number                             Condition / indication Species  \\\n",
       "0             6.0  Ryeqo is indicated in adult women of reproduct...     NaN   \n",
       "1             1.0  Yesafili is indicated for adults for the treat...     NaN   \n",
       "2            19.0  Leflunomide is indicated for the treatment of ...     NaN   \n",
       "3            24.0  Reduction in the duration of neutropenia and t...     NaN   \n",
       "4             2.0  Opzelura is indicated for the treatment of non...     NaN   \n",
       "\n",
       "  ATCvet code     First published       Revision date  \\\n",
       "0         NaN 2021-05-19 14:14:00 2023-12-04 18:41:00   \n",
       "1         NaN 2023-07-17 16:27:00 2023-12-04 18:15:00   \n",
       "2         NaN 2018-01-30 14:10:00 2023-12-04 17:56:00   \n",
       "3         NaN 2018-05-24 17:15:00 2023-12-04 17:43:00   \n",
       "4         NaN 2023-02-22 15:05:00 2023-12-04 17:35:00   \n",
       "\n",
       "                                                 URL  \n",
       "0  https://www.ema.europa.eu/en/medicines/human/E...  \n",
       "1  https://www.ema.europa.eu/en/medicines/human/E...  \n",
       "2  https://www.ema.europa.eu/en/medicines/human/E...  \n",
       "3  https://www.ema.europa.eu/en/medicines/human/E...  \n",
       "4  https://www.ema.europa.eu/en/medicines/human/E...  \n",
       "\n",
       "[5 rows x 30 columns]"
      ]
     },
     "execution_count": 2,
     "metadata": {},
     "output_type": "execute_result"
    }
   ],
   "source": [
    "medicinesOutputData = pd.read_excel(os.path.join(PATH, MEDICINE_LIST))\n",
    "medicinesOutputData.head()"
   ]
  },
  {
   "cell_type": "code",
   "execution_count": 5,
   "id": "7c897773d11f4df2",
   "metadata": {
    "ExecuteTime": {
     "end_time": "2023-12-28T09:56:12.601138Z",
     "start_time": "2023-12-28T09:56:12.521156Z"
    },
    "collapsed": false,
    "jupyter": {
     "outputs_hidden": false
    }
   },
   "outputs": [
    {
     "data": {
      "text/html": [
       "<div>\n",
       "<style scoped>\n",
       "    .dataframe tbody tr th:only-of-type {\n",
       "        vertical-align: middle;\n",
       "    }\n",
       "\n",
       "    .dataframe tbody tr th {\n",
       "        vertical-align: top;\n",
       "    }\n",
       "\n",
       "    .dataframe thead th {\n",
       "        text-align: right;\n",
       "    }\n",
       "</style>\n",
       "<table border=\"1\" class=\"dataframe\">\n",
       "  <thead>\n",
       "    <tr style=\"text-align: right;\">\n",
       "      <th></th>\n",
       "      <th>ProductName</th>\n",
       "      <th>ProductNumber</th>\n",
       "      <th>Domain</th>\n",
       "      <th>LanguageCode</th>\n",
       "      <th>URL(oldwebsite)</th>\n",
       "      <th>URL(currentwebsite)</th>\n",
       "    </tr>\n",
       "  </thead>\n",
       "  <tbody>\n",
       "    <tr>\n",
       "      <th>0</th>\n",
       "      <td>Abasaglar (previouslyAbasria)</td>\n",
       "      <td>EMEA/H/C/002835</td>\n",
       "      <td>human</td>\n",
       "      <td>en</td>\n",
       "      <td>http://www.ema.europa.eu/docs/en_GB/document_l...</td>\n",
       "      <td>https://www.ema.europa.eu/en/documents/product...</td>\n",
       "    </tr>\n",
       "    <tr>\n",
       "      <th>1</th>\n",
       "      <td>Abecma</td>\n",
       "      <td>EMEA/H/C/004662</td>\n",
       "      <td>human</td>\n",
       "      <td>en</td>\n",
       "      <td>NaN</td>\n",
       "      <td>https://www.ema.europa.eu/en/documents/product...</td>\n",
       "    </tr>\n",
       "    <tr>\n",
       "      <th>2</th>\n",
       "      <td>Abevmy</td>\n",
       "      <td>EMEA/H/C/005327</td>\n",
       "      <td>human</td>\n",
       "      <td>en</td>\n",
       "      <td>NaN</td>\n",
       "      <td>https://www.ema.europa.eu/en/documents/product...</td>\n",
       "    </tr>\n",
       "    <tr>\n",
       "      <th>3</th>\n",
       "      <td>Abilify</td>\n",
       "      <td>EMEA/H/C/000471</td>\n",
       "      <td>human</td>\n",
       "      <td>en</td>\n",
       "      <td>http://www.ema.europa.eu/docs/en_GB/document_l...</td>\n",
       "      <td>https://www.ema.europa.eu/en/documents/product...</td>\n",
       "    </tr>\n",
       "    <tr>\n",
       "      <th>4</th>\n",
       "      <td>Abilify Maintena</td>\n",
       "      <td>EMEA/H/C/002755</td>\n",
       "      <td>human</td>\n",
       "      <td>en</td>\n",
       "      <td>http://www.ema.europa.eu/docs/en_GB/document_l...</td>\n",
       "      <td>https://www.ema.europa.eu/en/documents/product...</td>\n",
       "    </tr>\n",
       "  </tbody>\n",
       "</table>\n",
       "</div>"
      ],
      "text/plain": [
       "                     ProductName    ProductNumber Domain LanguageCode  \\\n",
       "0  Abasaglar (previouslyAbasria)  EMEA/H/C/002835  human           en   \n",
       "1                         Abecma  EMEA/H/C/004662  human           en   \n",
       "2                         Abevmy  EMEA/H/C/005327  human           en   \n",
       "3                        Abilify  EMEA/H/C/000471  human           en   \n",
       "4               Abilify Maintena  EMEA/H/C/002755  human           en   \n",
       "\n",
       "                                     URL(oldwebsite)  \\\n",
       "0  http://www.ema.europa.eu/docs/en_GB/document_l...   \n",
       "1                                                NaN   \n",
       "2                                                NaN   \n",
       "3  http://www.ema.europa.eu/docs/en_GB/document_l...   \n",
       "4  http://www.ema.europa.eu/docs/en_GB/document_l...   \n",
       "\n",
       "                                 URL(currentwebsite)  \n",
       "0  https://www.ema.europa.eu/en/documents/product...  \n",
       "1  https://www.ema.europa.eu/en/documents/product...  \n",
       "2  https://www.ema.europa.eu/en/documents/product...  \n",
       "3  https://www.ema.europa.eu/en/documents/product...  \n",
       "4  https://www.ema.europa.eu/en/documents/product...  "
      ]
     },
     "execution_count": 5,
     "metadata": {},
     "output_type": "execute_result"
    }
   ],
   "source": [
    "productInformationURLs = pd.read_excel(os.path.join(PATH, PRODUCT_URLS_LIST))\n",
    "productInformationURLs.head()"
   ]
  },
  {
   "cell_type": "code",
   "execution_count": 6,
   "id": "d561b9505df57df3",
   "metadata": {
    "ExecuteTime": {
     "end_time": "2023-12-28T09:56:13.434289Z",
     "start_time": "2023-12-28T09:56:13.296742Z"
    },
    "collapsed": false,
    "jupyter": {
     "outputs_hidden": false
    }
   },
   "outputs": [
    {
     "data": {
      "text/plain": [
       "1928"
      ]
     },
     "execution_count": 6,
     "metadata": {},
     "output_type": "execute_result"
    }
   ],
   "source": [
    "conn = sqlite3.connect(os.path.join(PATH, \"SmPCs.db\"))\n",
    "\n",
    "medicinesOutputData.to_sql('emaMedicinesOP', conn, if_exists='replace', index=False)\n",
    "productInformationURLs.to_sql('emaProductInformationURLs', conn, if_exists='replace', index=False)"
   ]
  },
  {
   "cell_type": "markdown",
   "id": "22f965865733617c",
   "metadata": {
    "collapsed": false,
    "jupyter": {
     "outputs_hidden": false
    }
   },
   "source": [
    "## Step 2: Create csv with SmPCs URLs\n",
    "\n",
    " The actual SmPCs information will be extracted from the joinedHumanAuthorisedProductURLsONLY.csv file which contains the URLs for the authorised medicines for human use."
   ]
  },
  {
   "cell_type": "code",
   "execution_count": 7,
   "id": "a467495dd5a620ab",
   "metadata": {
    "ExecuteTime": {
     "end_time": "2023-12-28T09:56:15.475471Z",
     "start_time": "2023-12-28T09:56:15.448612Z"
    },
    "collapsed": false,
    "jupyter": {
     "outputs_hidden": false
    }
   },
   "outputs": [],
   "source": [
    "joinedHumanAuthorisedProductURLsONLY = pd.read_sql(\"\"\"\n",
    "    SELECT [URL(currentwebsite)]\n",
    "    FROM emaMedicinesOP\n",
    "    LEFT JOIN emaProductInformationURLs \n",
    "    ON emaMedicinesOP.[Medicine name]=emaProductInformationURLs.[ProductName]\n",
    "    WHERE  emaMedicinesOP.Category='Human'\n",
    "      AND emaMedicinesOP.[Authorisation Status] ='Authorised';\n",
    "\"\"\", conn)\n",
    "\n",
    "joinedHumanAuthorisedProductURLsONLY.to_csv(os.path.join(PATH, \"joinedHumanAuthorisedProductURLsONLY.csv\"))"
   ]
  },
  {
   "cell_type": "markdown",
   "id": "ff9f9661d49f544c",
   "metadata": {
    "collapsed": false,
    "jupyter": {
     "outputs_hidden": false
    }
   },
   "source": [
    "## Step 3: Download SmPCs pdfs\n"
   ]
  },
  {
   "cell_type": "code",
   "execution_count": 8,
   "id": "3aac51489173a68b",
   "metadata": {
    "ExecuteTime": {
     "end_time": "2023-12-28T09:56:17.939751Z",
     "start_time": "2023-12-28T09:56:17.811421Z"
    },
    "collapsed": false,
    "jupyter": {
     "outputs_hidden": false
    }
   },
   "outputs": [],
   "source": [
    "import requests"
   ]
  },
  {
   "cell_type": "code",
   "execution_count": 9,
   "id": "821ec2209c251cb7",
   "metadata": {
    "ExecuteTime": {
     "end_time": "2023-12-28T09:56:18.665240Z",
     "start_time": "2023-12-28T09:56:18.641887Z"
    },
    "collapsed": false,
    "jupyter": {
     "outputs_hidden": false
    }
   },
   "outputs": [],
   "source": [
    "urlsDF = pd.read_csv(os.path.join(PATH, \"joinedHumanAuthorisedProductURLsONLY.csv\"))\n",
    "urlsDF.dropna(inplace = True)\n",
    "urls = urlsDF['URL(currentwebsite)'].tolist()"
   ]
  },
  {
   "cell_type": "code",
   "execution_count": 8,
   "id": "1246f236cc1dbfd2",
   "metadata": {
    "ExecuteTime": {
     "end_time": "2023-12-28T09:57:03.304561Z",
     "start_time": "2023-12-28T09:56:19.132128Z"
    },
    "collapsed": false,
    "jupyter": {
     "outputs_hidden": false
    }
   },
   "outputs": [
    {
     "name": "stdout",
     "output_type": "stream",
     "text": [
      "Download  0  with name:  ryeqo-epar-product-information_en.pdf\n",
      "Download  1  with name:  yesafili-epar-product-information_en.pdf\n",
      "Download  2  with name:  leflunomide-medac-epar-product-information_en.pdf\n",
      "Download  3  with name:  filgrastim-hexal-epar-product-information_en.pdf\n",
      "Download  4  with name:  opzelura-epar-product-information_en.pdf\n",
      "Download  5  with name:  ziextenzo-epar-product-information_en.pdf\n",
      "Download  6  with name:  qutenza-epar-product-information_en.pdf\n",
      "Download  7  with name:  levitra-epar-product-information_en.pdf\n",
      "Download  8  with name:  rilutek-epar-product-information_en.pdf\n",
      "Download  9  with name:  clopidogrel-krka-epar-product-information_en.pdf\n",
      "Download  10  with name:  hycamtin-epar-product-information_en.pdf\n",
      "Download  11  with name:  pylobactell-epar-product-information_en.pdf\n",
      "Download  12  with name:  fulphila-epar-product-information_en.pdf\n",
      "Download  13  with name:  orladeyo-epar-product-information_en.pdf\n",
      "Download  14  with name:  semglee-epar-product-information_en.pdf\n",
      "Download  15  with name:  ogivri-epar-product-information_en.pdf\n",
      "Download  16  with name:  kirsty-previously-kixelle-epar-product-information_en.pdf\n",
      "Download  17  with name:  hulio-epar-product-information_en.pdf\n",
      "Download  18  with name:  dovprela-epar-product-information_en.pdf\n",
      "Download  19  with name:  adcetris-epar-product-information_en.pdf\n",
      "Download  20  with name:  otezla-epar-product-information_en.pdf\n",
      "Download  21  with name:  plavix-epar-product-information_en.pdf\n",
      "Download  22  with name:  cialis-epar-product-information_en.pdf\n",
      "Download  23  with name:  ozawade-epar-product-information_en.pdf\n",
      "Download  24  with name:  ocaliva-epar-product-information_en.pdf\n",
      "Download  25  with name:  praluent-epar-product-information_en.pdf\n",
      "Download  26  with name:  xelevia-epar-product-information_en.pdf\n",
      "Download  27  with name:  rubraca-epar-product-information_en.pdf\n",
      "Download  28  with name:  kalydeco-epar-product-information_en.pdf\n",
      "Download  29  with name:  yuflyma-epar-product-information_en.pdf\n",
      "Download  30  with name:  ventavis-epar-product-information_en.pdf\n",
      "Download  31  with name:  soliris-epar-product-information_en.pdf\n",
      "Download  32  with name:  abevmy-epar-product-information_en.pdf\n",
      "Download  33  with name:  evusheld-epar-product-information_en.pdf\n",
      "Download  34  with name:  neuraceq-epar-product-information_en.pdf\n",
      "Download  35  with name:  pylclari-epar-product-information_en.pdf\n",
      "Download  36  with name:  xolair-epar-product-information_en.pdf\n",
      "Download  37  with name:  omidria-epar-product-information_en.pdf\n",
      "Download  38  with name:  enhertu-epar-product-information_en.pdf\n",
      "Download  39  with name:  pepaxti-epar-production-information_en.pdf\n",
      "Download  40  with name:  nuceiva-epar-product-information_en.pdf\n",
      "Download  41  with name:  trumenba-epar-product-information_en.pdf\n",
      "Download  42  with name:  riximyo-epar-product-information_en.pdf\n",
      "Download  43  with name:  blitzima-epar-product-information_en.pdf\n",
      "Download  44  with name:  rixathon-epar-product-information_en.pdf\n",
      "Download  45  with name:  orgovyx-epar-product-information_en.pdf\n",
      "Download  46  with name:  trizivir-epar-product-information_en.pdf\n",
      "Download  47  with name:  trixeo-aerosphere-epar-product-information_en.pdf\n",
      "Download  48  with name:  slenyto-epar-product-information_en.pdf\n",
      "Download  49  with name:  truxima-epar-product-information_en.pdf\n",
      "Download  50  with name:  ruxience-epar-product-information_en.pdf\n",
      "Download  51  with name:  advate-epar-product-information_en.pdf\n",
      "Download  52  with name:  mabthera-epar-product-information_en.pdf\n",
      "Download  53  with name:  vyvgart-epar-product-information_en.pdf\n",
      "Download  54  with name:  riltrava-aerosphere-epar-product-information_en.pdf\n",
      "Download  55  with name:  pirfenidone-viatris-epar-product-information_en.pdf\n",
      "Download  56  with name:  zessly-epar-product-information_en.pdf\n",
      "Download  57  with name:  cyramza-epar-product-information_en.pdf\n",
      "Download  58  with name:  pravafenix-epar-product-information_en.pdf\n",
      "Download  59  with name:  tecartus-epar-product-information_en.pdf\n",
      "Download  60  with name:  orserdu-epar-product-information_en.pdf\n",
      "Download  61  with name:  triumeq-epar-product-information_en.pdf\n",
      "Download  62  with name:  pluvicto-epar-product-information_en.pdf\n",
      "Download  63  with name:  kivexa-epar-product-information_en.pdf\n",
      "Download  64  with name:  apexxnar-epar-product-information_en.pdf\n",
      "Download  65  with name:  tasigna-epar-product-information_en.pdf\n",
      "Download  66  with name:  somavert-epar-product-information_en.pdf\n",
      "Download  67  with name:  holoclar-epar-product-information_en.pdf\n",
      "Download  68  with name:  betaferon-epar-product-information_en.pdf\n",
      "Download  69  with name:  pradaxa-epar-product-information_en.pdf\n",
      "Download  70  with name:  blincyto-epar-product-information_en.pdf\n",
      "Download  71  with name:  ebglyss-epar-product-information_en.pdf\n",
      "Download  72  with name:  carmustine-medac-previously-carmustine-obvius-epar-product-information_en.pdf\n",
      "Download  73  with name:  symkevi-epar-product-information_en.pdf\n",
      "Download  74  with name:  toujeo-epar-product-information_en.pdf\n",
      "Download  75  with name:  talvey-epar-product-information_en.pdf\n",
      "Download  76  with name:  voxzogo-epar-product-information_en.pdf\n",
      "Download  77  with name:  herwenda-epar-product-information_en.pdf\n",
      "Download  78  with name:  pregabalin-sandoz-epar-product-information_en.pdf\n",
      "Download  79  with name:  takhzyro-epar-product-information_en.pdf\n",
      "Download  80  with name:  aqumeldi-epar-product-information_en.pdf\n",
      "Download  81  with name:  spikevax-previously-covid-19-vaccine-moderna-epar-product-information_en.pdf\n",
      "Download  82  with name:  gavreto-epar-product-information_en.pdf\n",
      "Download  83  with name:  epoetin-alfa-hexal-epar-product-information_en.pdf\n",
      "Download  84  with name:  binocrit-epar-product-information_en.pdf\n",
      "Download  85  with name:  prometax-epar-product-information_en.pdf\n",
      "Download  86  with name:  fetcroja-epar-product-information_en.pdf\n",
      "Download  87  with name:  respreeza-epar-product-information_en.pdf\n",
      "Download  88  with name:  olumiant-epar-product-information_en.pdf\n",
      "Download  89  with name:  rezolsta-epar-product-information_en.pdf\n",
      "Download  90  with name:  ninlaro-epar-product-information_en.pdf\n",
      "Download  91  with name:  vanflyta-epar-product-information_en.pdf\n",
      "Download  92  with name:  exjade-epar-product-information_en.pdf\n",
      "Download  93  with name:  esperoct-epar-product-information_en.pdf\n",
      "Download  94  with name:  tepmetko-epar-product-information_en.pdf\n",
      "Download  95  with name:  kisqali-epar-product-information_en.pdf\n",
      "Download  96  with name:  spectrila-epar-product-information_en.pdf\n",
      "Download  97  with name:  obizur-epar-product-information_en.pdf\n",
      "Download  98  with name:  tysabri-epar-product-information_en.pdf\n",
      "Download  99  with name:  nordimet-epar-product-information_en.pdf\n",
      "Download  100  with name:  pegasys-epar-product-information_en.pdf\n",
      "Download  101  with name:  ozurdex-epar-product-information_en.pdf\n",
      "Download  102  with name:  vimizim-epar-product-information_en.pdf\n",
      "Download  103  with name:  tagrisso-epar-product-information_en.pdf\n",
      "Download  104  with name:  imfinzi-epar-product-information_en.pdf\n",
      "Download  105  with name:  darzalex-epar-product-information_en.pdf\n",
      "Download  106  with name:  fingolimod-mylan-epar-product-information_en.pdf\n",
      "Download  107  with name:  revatio-epar-product-information_en.pdf\n",
      "Download  108  with name:  ajovy-epar-product-information_en.pdf\n",
      "Download  109  with name:  jaypirca-epar-product-information_en.pdf\n",
      "Download  110  with name:  suboxone-epar-product-information_en.pdf\n",
      "Download  111  with name:  vyepti-epar-product-information_en.pdf\n",
      "Download  112  with name:  leqvio-epar-product-information_en.pdf\n",
      "Download  113  with name:  posaconazole-ahcl-epar-product-information_en.pdf\n",
      "Download  114  with name:  gazyvaro-epar-product-information_en.pdf\n",
      "Download  115  with name:  wakix-epar-product-information_en.pdf\n"
     ]
    },
    {
     "ename": "KeyboardInterrupt",
     "evalue": "",
     "output_type": "error",
     "traceback": [
      "\u001b[0;31m---------------------------------------------------------------------------\u001b[0m",
      "\u001b[0;31mKeyboardInterrupt\u001b[0m                         Traceback (most recent call last)",
      "Cell \u001b[0;32mIn[8], line 2\u001b[0m\n\u001b[1;32m      1\u001b[0m \u001b[38;5;28;01mfor\u001b[39;00m index, url \u001b[38;5;129;01min\u001b[39;00m \u001b[38;5;28menumerate\u001b[39m(urls):\n\u001b[0;32m----> 2\u001b[0m     response \u001b[38;5;241m=\u001b[39m \u001b[43mrequests\u001b[49m\u001b[38;5;241;43m.\u001b[39;49m\u001b[43mget\u001b[49m\u001b[43m(\u001b[49m\u001b[43murl\u001b[49m\u001b[43m)\u001b[49m\n\u001b[1;32m      3\u001b[0m     file_name \u001b[38;5;241m=\u001b[39m url\u001b[38;5;241m.\u001b[39msplit(\u001b[38;5;124m'\u001b[39m\u001b[38;5;124m/\u001b[39m\u001b[38;5;124m'\u001b[39m)[\u001b[38;5;241m-\u001b[39m\u001b[38;5;241m1\u001b[39m]\n\u001b[1;32m      5\u001b[0m     \u001b[38;5;28mprint\u001b[39m(\u001b[38;5;124m\"\u001b[39m\u001b[38;5;124mDownload \u001b[39m\u001b[38;5;124m\"\u001b[39m, index, \u001b[38;5;124m\"\u001b[39m\u001b[38;5;124m with name: \u001b[39m\u001b[38;5;124m\"\u001b[39m, file_name)\n",
      "File \u001b[0;32m~/anaconda3/lib/python3.10/site-packages/requests/api.py:73\u001b[0m, in \u001b[0;36mget\u001b[0;34m(url, params, **kwargs)\u001b[0m\n\u001b[1;32m     62\u001b[0m \u001b[38;5;28;01mdef\u001b[39;00m \u001b[38;5;21mget\u001b[39m(url, params\u001b[38;5;241m=\u001b[39m\u001b[38;5;28;01mNone\u001b[39;00m, \u001b[38;5;241m*\u001b[39m\u001b[38;5;241m*\u001b[39mkwargs):\n\u001b[1;32m     63\u001b[0m     \u001b[38;5;124mr\u001b[39m\u001b[38;5;124;03m\"\"\"Sends a GET request.\u001b[39;00m\n\u001b[1;32m     64\u001b[0m \n\u001b[1;32m     65\u001b[0m \u001b[38;5;124;03m    :param url: URL for the new :class:`Request` object.\u001b[39;00m\n\u001b[0;32m   (...)\u001b[0m\n\u001b[1;32m     70\u001b[0m \u001b[38;5;124;03m    :rtype: requests.Response\u001b[39;00m\n\u001b[1;32m     71\u001b[0m \u001b[38;5;124;03m    \"\"\"\u001b[39;00m\n\u001b[0;32m---> 73\u001b[0m     \u001b[38;5;28;01mreturn\u001b[39;00m \u001b[43mrequest\u001b[49m\u001b[43m(\u001b[49m\u001b[38;5;124;43m\"\u001b[39;49m\u001b[38;5;124;43mget\u001b[39;49m\u001b[38;5;124;43m\"\u001b[39;49m\u001b[43m,\u001b[49m\u001b[43m \u001b[49m\u001b[43murl\u001b[49m\u001b[43m,\u001b[49m\u001b[43m \u001b[49m\u001b[43mparams\u001b[49m\u001b[38;5;241;43m=\u001b[39;49m\u001b[43mparams\u001b[49m\u001b[43m,\u001b[49m\u001b[43m \u001b[49m\u001b[38;5;241;43m*\u001b[39;49m\u001b[38;5;241;43m*\u001b[39;49m\u001b[43mkwargs\u001b[49m\u001b[43m)\u001b[49m\n",
      "File \u001b[0;32m~/anaconda3/lib/python3.10/site-packages/requests/api.py:59\u001b[0m, in \u001b[0;36mrequest\u001b[0;34m(method, url, **kwargs)\u001b[0m\n\u001b[1;32m     55\u001b[0m \u001b[38;5;66;03m# By using the 'with' statement we are sure the session is closed, thus we\u001b[39;00m\n\u001b[1;32m     56\u001b[0m \u001b[38;5;66;03m# avoid leaving sockets open which can trigger a ResourceWarning in some\u001b[39;00m\n\u001b[1;32m     57\u001b[0m \u001b[38;5;66;03m# cases, and look like a memory leak in others.\u001b[39;00m\n\u001b[1;32m     58\u001b[0m \u001b[38;5;28;01mwith\u001b[39;00m sessions\u001b[38;5;241m.\u001b[39mSession() \u001b[38;5;28;01mas\u001b[39;00m session:\n\u001b[0;32m---> 59\u001b[0m     \u001b[38;5;28;01mreturn\u001b[39;00m \u001b[43msession\u001b[49m\u001b[38;5;241;43m.\u001b[39;49m\u001b[43mrequest\u001b[49m\u001b[43m(\u001b[49m\u001b[43mmethod\u001b[49m\u001b[38;5;241;43m=\u001b[39;49m\u001b[43mmethod\u001b[49m\u001b[43m,\u001b[49m\u001b[43m \u001b[49m\u001b[43murl\u001b[49m\u001b[38;5;241;43m=\u001b[39;49m\u001b[43murl\u001b[49m\u001b[43m,\u001b[49m\u001b[43m \u001b[49m\u001b[38;5;241;43m*\u001b[39;49m\u001b[38;5;241;43m*\u001b[39;49m\u001b[43mkwargs\u001b[49m\u001b[43m)\u001b[49m\n",
      "File \u001b[0;32m~/anaconda3/lib/python3.10/site-packages/requests/sessions.py:587\u001b[0m, in \u001b[0;36mSession.request\u001b[0;34m(self, method, url, params, data, headers, cookies, files, auth, timeout, allow_redirects, proxies, hooks, stream, verify, cert, json)\u001b[0m\n\u001b[1;32m    582\u001b[0m send_kwargs \u001b[38;5;241m=\u001b[39m {\n\u001b[1;32m    583\u001b[0m     \u001b[38;5;124m\"\u001b[39m\u001b[38;5;124mtimeout\u001b[39m\u001b[38;5;124m\"\u001b[39m: timeout,\n\u001b[1;32m    584\u001b[0m     \u001b[38;5;124m\"\u001b[39m\u001b[38;5;124mallow_redirects\u001b[39m\u001b[38;5;124m\"\u001b[39m: allow_redirects,\n\u001b[1;32m    585\u001b[0m }\n\u001b[1;32m    586\u001b[0m send_kwargs\u001b[38;5;241m.\u001b[39mupdate(settings)\n\u001b[0;32m--> 587\u001b[0m resp \u001b[38;5;241m=\u001b[39m \u001b[38;5;28;43mself\u001b[39;49m\u001b[38;5;241;43m.\u001b[39;49m\u001b[43msend\u001b[49m\u001b[43m(\u001b[49m\u001b[43mprep\u001b[49m\u001b[43m,\u001b[49m\u001b[43m \u001b[49m\u001b[38;5;241;43m*\u001b[39;49m\u001b[38;5;241;43m*\u001b[39;49m\u001b[43msend_kwargs\u001b[49m\u001b[43m)\u001b[49m\n\u001b[1;32m    589\u001b[0m \u001b[38;5;28;01mreturn\u001b[39;00m resp\n",
      "File \u001b[0;32m~/anaconda3/lib/python3.10/site-packages/requests/sessions.py:701\u001b[0m, in \u001b[0;36mSession.send\u001b[0;34m(self, request, **kwargs)\u001b[0m\n\u001b[1;32m    698\u001b[0m start \u001b[38;5;241m=\u001b[39m preferred_clock()\n\u001b[1;32m    700\u001b[0m \u001b[38;5;66;03m# Send the request\u001b[39;00m\n\u001b[0;32m--> 701\u001b[0m r \u001b[38;5;241m=\u001b[39m \u001b[43madapter\u001b[49m\u001b[38;5;241;43m.\u001b[39;49m\u001b[43msend\u001b[49m\u001b[43m(\u001b[49m\u001b[43mrequest\u001b[49m\u001b[43m,\u001b[49m\u001b[43m \u001b[49m\u001b[38;5;241;43m*\u001b[39;49m\u001b[38;5;241;43m*\u001b[39;49m\u001b[43mkwargs\u001b[49m\u001b[43m)\u001b[49m\n\u001b[1;32m    703\u001b[0m \u001b[38;5;66;03m# Total elapsed time of the request (approximately)\u001b[39;00m\n\u001b[1;32m    704\u001b[0m elapsed \u001b[38;5;241m=\u001b[39m preferred_clock() \u001b[38;5;241m-\u001b[39m start\n",
      "File \u001b[0;32m~/anaconda3/lib/python3.10/site-packages/requests/adapters.py:489\u001b[0m, in \u001b[0;36mHTTPAdapter.send\u001b[0;34m(self, request, stream, timeout, verify, cert, proxies)\u001b[0m\n\u001b[1;32m    487\u001b[0m \u001b[38;5;28;01mtry\u001b[39;00m:\n\u001b[1;32m    488\u001b[0m     \u001b[38;5;28;01mif\u001b[39;00m \u001b[38;5;129;01mnot\u001b[39;00m chunked:\n\u001b[0;32m--> 489\u001b[0m         resp \u001b[38;5;241m=\u001b[39m \u001b[43mconn\u001b[49m\u001b[38;5;241;43m.\u001b[39;49m\u001b[43murlopen\u001b[49m\u001b[43m(\u001b[49m\n\u001b[1;32m    490\u001b[0m \u001b[43m            \u001b[49m\u001b[43mmethod\u001b[49m\u001b[38;5;241;43m=\u001b[39;49m\u001b[43mrequest\u001b[49m\u001b[38;5;241;43m.\u001b[39;49m\u001b[43mmethod\u001b[49m\u001b[43m,\u001b[49m\n\u001b[1;32m    491\u001b[0m \u001b[43m            \u001b[49m\u001b[43murl\u001b[49m\u001b[38;5;241;43m=\u001b[39;49m\u001b[43murl\u001b[49m\u001b[43m,\u001b[49m\n\u001b[1;32m    492\u001b[0m \u001b[43m            \u001b[49m\u001b[43mbody\u001b[49m\u001b[38;5;241;43m=\u001b[39;49m\u001b[43mrequest\u001b[49m\u001b[38;5;241;43m.\u001b[39;49m\u001b[43mbody\u001b[49m\u001b[43m,\u001b[49m\n\u001b[1;32m    493\u001b[0m \u001b[43m            \u001b[49m\u001b[43mheaders\u001b[49m\u001b[38;5;241;43m=\u001b[39;49m\u001b[43mrequest\u001b[49m\u001b[38;5;241;43m.\u001b[39;49m\u001b[43mheaders\u001b[49m\u001b[43m,\u001b[49m\n\u001b[1;32m    494\u001b[0m \u001b[43m            \u001b[49m\u001b[43mredirect\u001b[49m\u001b[38;5;241;43m=\u001b[39;49m\u001b[38;5;28;43;01mFalse\u001b[39;49;00m\u001b[43m,\u001b[49m\n\u001b[1;32m    495\u001b[0m \u001b[43m            \u001b[49m\u001b[43massert_same_host\u001b[49m\u001b[38;5;241;43m=\u001b[39;49m\u001b[38;5;28;43;01mFalse\u001b[39;49;00m\u001b[43m,\u001b[49m\n\u001b[1;32m    496\u001b[0m \u001b[43m            \u001b[49m\u001b[43mpreload_content\u001b[49m\u001b[38;5;241;43m=\u001b[39;49m\u001b[38;5;28;43;01mFalse\u001b[39;49;00m\u001b[43m,\u001b[49m\n\u001b[1;32m    497\u001b[0m \u001b[43m            \u001b[49m\u001b[43mdecode_content\u001b[49m\u001b[38;5;241;43m=\u001b[39;49m\u001b[38;5;28;43;01mFalse\u001b[39;49;00m\u001b[43m,\u001b[49m\n\u001b[1;32m    498\u001b[0m \u001b[43m            \u001b[49m\u001b[43mretries\u001b[49m\u001b[38;5;241;43m=\u001b[39;49m\u001b[38;5;28;43mself\u001b[39;49m\u001b[38;5;241;43m.\u001b[39;49m\u001b[43mmax_retries\u001b[49m\u001b[43m,\u001b[49m\n\u001b[1;32m    499\u001b[0m \u001b[43m            \u001b[49m\u001b[43mtimeout\u001b[49m\u001b[38;5;241;43m=\u001b[39;49m\u001b[43mtimeout\u001b[49m\u001b[43m,\u001b[49m\n\u001b[1;32m    500\u001b[0m \u001b[43m        \u001b[49m\u001b[43m)\u001b[49m\n\u001b[1;32m    502\u001b[0m     \u001b[38;5;66;03m# Send the request.\u001b[39;00m\n\u001b[1;32m    503\u001b[0m     \u001b[38;5;28;01melse\u001b[39;00m:\n\u001b[1;32m    504\u001b[0m         \u001b[38;5;28;01mif\u001b[39;00m \u001b[38;5;28mhasattr\u001b[39m(conn, \u001b[38;5;124m\"\u001b[39m\u001b[38;5;124mproxy_pool\u001b[39m\u001b[38;5;124m\"\u001b[39m):\n",
      "File \u001b[0;32m~/anaconda3/lib/python3.10/site-packages/urllib3/connectionpool.py:703\u001b[0m, in \u001b[0;36mHTTPConnectionPool.urlopen\u001b[0;34m(self, method, url, body, headers, retries, redirect, assert_same_host, timeout, pool_timeout, release_conn, chunked, body_pos, **response_kw)\u001b[0m\n\u001b[1;32m    700\u001b[0m     \u001b[38;5;28mself\u001b[39m\u001b[38;5;241m.\u001b[39m_prepare_proxy(conn)\n\u001b[1;32m    702\u001b[0m \u001b[38;5;66;03m# Make the request on the httplib connection object.\u001b[39;00m\n\u001b[0;32m--> 703\u001b[0m httplib_response \u001b[38;5;241m=\u001b[39m \u001b[38;5;28;43mself\u001b[39;49m\u001b[38;5;241;43m.\u001b[39;49m\u001b[43m_make_request\u001b[49m\u001b[43m(\u001b[49m\n\u001b[1;32m    704\u001b[0m \u001b[43m    \u001b[49m\u001b[43mconn\u001b[49m\u001b[43m,\u001b[49m\n\u001b[1;32m    705\u001b[0m \u001b[43m    \u001b[49m\u001b[43mmethod\u001b[49m\u001b[43m,\u001b[49m\n\u001b[1;32m    706\u001b[0m \u001b[43m    \u001b[49m\u001b[43murl\u001b[49m\u001b[43m,\u001b[49m\n\u001b[1;32m    707\u001b[0m \u001b[43m    \u001b[49m\u001b[43mtimeout\u001b[49m\u001b[38;5;241;43m=\u001b[39;49m\u001b[43mtimeout_obj\u001b[49m\u001b[43m,\u001b[49m\n\u001b[1;32m    708\u001b[0m \u001b[43m    \u001b[49m\u001b[43mbody\u001b[49m\u001b[38;5;241;43m=\u001b[39;49m\u001b[43mbody\u001b[49m\u001b[43m,\u001b[49m\n\u001b[1;32m    709\u001b[0m \u001b[43m    \u001b[49m\u001b[43mheaders\u001b[49m\u001b[38;5;241;43m=\u001b[39;49m\u001b[43mheaders\u001b[49m\u001b[43m,\u001b[49m\n\u001b[1;32m    710\u001b[0m \u001b[43m    \u001b[49m\u001b[43mchunked\u001b[49m\u001b[38;5;241;43m=\u001b[39;49m\u001b[43mchunked\u001b[49m\u001b[43m,\u001b[49m\n\u001b[1;32m    711\u001b[0m \u001b[43m\u001b[49m\u001b[43m)\u001b[49m\n\u001b[1;32m    713\u001b[0m \u001b[38;5;66;03m# If we're going to release the connection in ``finally:``, then\u001b[39;00m\n\u001b[1;32m    714\u001b[0m \u001b[38;5;66;03m# the response doesn't need to know about the connection. Otherwise\u001b[39;00m\n\u001b[1;32m    715\u001b[0m \u001b[38;5;66;03m# it will also try to release it and we'll have a double-release\u001b[39;00m\n\u001b[1;32m    716\u001b[0m \u001b[38;5;66;03m# mess.\u001b[39;00m\n\u001b[1;32m    717\u001b[0m response_conn \u001b[38;5;241m=\u001b[39m conn \u001b[38;5;28;01mif\u001b[39;00m \u001b[38;5;129;01mnot\u001b[39;00m release_conn \u001b[38;5;28;01melse\u001b[39;00m \u001b[38;5;28;01mNone\u001b[39;00m\n",
      "File \u001b[0;32m~/anaconda3/lib/python3.10/site-packages/urllib3/connectionpool.py:449\u001b[0m, in \u001b[0;36mHTTPConnectionPool._make_request\u001b[0;34m(self, conn, method, url, timeout, chunked, **httplib_request_kw)\u001b[0m\n\u001b[1;32m    444\u001b[0m             httplib_response \u001b[38;5;241m=\u001b[39m conn\u001b[38;5;241m.\u001b[39mgetresponse()\n\u001b[1;32m    445\u001b[0m         \u001b[38;5;28;01mexcept\u001b[39;00m \u001b[38;5;167;01mBaseException\u001b[39;00m \u001b[38;5;28;01mas\u001b[39;00m e:\n\u001b[1;32m    446\u001b[0m             \u001b[38;5;66;03m# Remove the TypeError from the exception chain in\u001b[39;00m\n\u001b[1;32m    447\u001b[0m             \u001b[38;5;66;03m# Python 3 (including for exceptions like SystemExit).\u001b[39;00m\n\u001b[1;32m    448\u001b[0m             \u001b[38;5;66;03m# Otherwise it looks like a bug in the code.\u001b[39;00m\n\u001b[0;32m--> 449\u001b[0m             \u001b[43msix\u001b[49m\u001b[38;5;241;43m.\u001b[39;49m\u001b[43mraise_from\u001b[49m\u001b[43m(\u001b[49m\u001b[43me\u001b[49m\u001b[43m,\u001b[49m\u001b[43m \u001b[49m\u001b[38;5;28;43;01mNone\u001b[39;49;00m\u001b[43m)\u001b[49m\n\u001b[1;32m    450\u001b[0m \u001b[38;5;28;01mexcept\u001b[39;00m (SocketTimeout, BaseSSLError, SocketError) \u001b[38;5;28;01mas\u001b[39;00m e:\n\u001b[1;32m    451\u001b[0m     \u001b[38;5;28mself\u001b[39m\u001b[38;5;241m.\u001b[39m_raise_timeout(err\u001b[38;5;241m=\u001b[39me, url\u001b[38;5;241m=\u001b[39murl, timeout_value\u001b[38;5;241m=\u001b[39mread_timeout)\n",
      "File \u001b[0;32m<string>:3\u001b[0m, in \u001b[0;36mraise_from\u001b[0;34m(value, from_value)\u001b[0m\n",
      "File \u001b[0;32m~/anaconda3/lib/python3.10/site-packages/urllib3/connectionpool.py:444\u001b[0m, in \u001b[0;36mHTTPConnectionPool._make_request\u001b[0;34m(self, conn, method, url, timeout, chunked, **httplib_request_kw)\u001b[0m\n\u001b[1;32m    441\u001b[0m \u001b[38;5;28;01mexcept\u001b[39;00m \u001b[38;5;167;01mTypeError\u001b[39;00m:\n\u001b[1;32m    442\u001b[0m     \u001b[38;5;66;03m# Python 3\u001b[39;00m\n\u001b[1;32m    443\u001b[0m     \u001b[38;5;28;01mtry\u001b[39;00m:\n\u001b[0;32m--> 444\u001b[0m         httplib_response \u001b[38;5;241m=\u001b[39m \u001b[43mconn\u001b[49m\u001b[38;5;241;43m.\u001b[39;49m\u001b[43mgetresponse\u001b[49m\u001b[43m(\u001b[49m\u001b[43m)\u001b[49m\n\u001b[1;32m    445\u001b[0m     \u001b[38;5;28;01mexcept\u001b[39;00m \u001b[38;5;167;01mBaseException\u001b[39;00m \u001b[38;5;28;01mas\u001b[39;00m e:\n\u001b[1;32m    446\u001b[0m         \u001b[38;5;66;03m# Remove the TypeError from the exception chain in\u001b[39;00m\n\u001b[1;32m    447\u001b[0m         \u001b[38;5;66;03m# Python 3 (including for exceptions like SystemExit).\u001b[39;00m\n\u001b[1;32m    448\u001b[0m         \u001b[38;5;66;03m# Otherwise it looks like a bug in the code.\u001b[39;00m\n\u001b[1;32m    449\u001b[0m         six\u001b[38;5;241m.\u001b[39mraise_from(e, \u001b[38;5;28;01mNone\u001b[39;00m)\n",
      "File \u001b[0;32m~/anaconda3/lib/python3.10/http/client.py:1374\u001b[0m, in \u001b[0;36mHTTPConnection.getresponse\u001b[0;34m(self)\u001b[0m\n\u001b[1;32m   1372\u001b[0m \u001b[38;5;28;01mtry\u001b[39;00m:\n\u001b[1;32m   1373\u001b[0m     \u001b[38;5;28;01mtry\u001b[39;00m:\n\u001b[0;32m-> 1374\u001b[0m         \u001b[43mresponse\u001b[49m\u001b[38;5;241;43m.\u001b[39;49m\u001b[43mbegin\u001b[49m\u001b[43m(\u001b[49m\u001b[43m)\u001b[49m\n\u001b[1;32m   1375\u001b[0m     \u001b[38;5;28;01mexcept\u001b[39;00m \u001b[38;5;167;01mConnectionError\u001b[39;00m:\n\u001b[1;32m   1376\u001b[0m         \u001b[38;5;28mself\u001b[39m\u001b[38;5;241m.\u001b[39mclose()\n",
      "File \u001b[0;32m~/anaconda3/lib/python3.10/http/client.py:318\u001b[0m, in \u001b[0;36mHTTPResponse.begin\u001b[0;34m(self)\u001b[0m\n\u001b[1;32m    316\u001b[0m \u001b[38;5;66;03m# read until we get a non-100 response\u001b[39;00m\n\u001b[1;32m    317\u001b[0m \u001b[38;5;28;01mwhile\u001b[39;00m \u001b[38;5;28;01mTrue\u001b[39;00m:\n\u001b[0;32m--> 318\u001b[0m     version, status, reason \u001b[38;5;241m=\u001b[39m \u001b[38;5;28;43mself\u001b[39;49m\u001b[38;5;241;43m.\u001b[39;49m\u001b[43m_read_status\u001b[49m\u001b[43m(\u001b[49m\u001b[43m)\u001b[49m\n\u001b[1;32m    319\u001b[0m     \u001b[38;5;28;01mif\u001b[39;00m status \u001b[38;5;241m!=\u001b[39m CONTINUE:\n\u001b[1;32m    320\u001b[0m         \u001b[38;5;28;01mbreak\u001b[39;00m\n",
      "File \u001b[0;32m~/anaconda3/lib/python3.10/http/client.py:279\u001b[0m, in \u001b[0;36mHTTPResponse._read_status\u001b[0;34m(self)\u001b[0m\n\u001b[1;32m    278\u001b[0m \u001b[38;5;28;01mdef\u001b[39;00m \u001b[38;5;21m_read_status\u001b[39m(\u001b[38;5;28mself\u001b[39m):\n\u001b[0;32m--> 279\u001b[0m     line \u001b[38;5;241m=\u001b[39m \u001b[38;5;28mstr\u001b[39m(\u001b[38;5;28;43mself\u001b[39;49m\u001b[38;5;241;43m.\u001b[39;49m\u001b[43mfp\u001b[49m\u001b[38;5;241;43m.\u001b[39;49m\u001b[43mreadline\u001b[49m\u001b[43m(\u001b[49m\u001b[43m_MAXLINE\u001b[49m\u001b[43m \u001b[49m\u001b[38;5;241;43m+\u001b[39;49m\u001b[43m \u001b[49m\u001b[38;5;241;43m1\u001b[39;49m\u001b[43m)\u001b[49m, \u001b[38;5;124m\"\u001b[39m\u001b[38;5;124miso-8859-1\u001b[39m\u001b[38;5;124m\"\u001b[39m)\n\u001b[1;32m    280\u001b[0m     \u001b[38;5;28;01mif\u001b[39;00m \u001b[38;5;28mlen\u001b[39m(line) \u001b[38;5;241m>\u001b[39m _MAXLINE:\n\u001b[1;32m    281\u001b[0m         \u001b[38;5;28;01mraise\u001b[39;00m LineTooLong(\u001b[38;5;124m\"\u001b[39m\u001b[38;5;124mstatus line\u001b[39m\u001b[38;5;124m\"\u001b[39m)\n",
      "File \u001b[0;32m~/anaconda3/lib/python3.10/socket.py:705\u001b[0m, in \u001b[0;36mSocketIO.readinto\u001b[0;34m(self, b)\u001b[0m\n\u001b[1;32m    703\u001b[0m \u001b[38;5;28;01mwhile\u001b[39;00m \u001b[38;5;28;01mTrue\u001b[39;00m:\n\u001b[1;32m    704\u001b[0m     \u001b[38;5;28;01mtry\u001b[39;00m:\n\u001b[0;32m--> 705\u001b[0m         \u001b[38;5;28;01mreturn\u001b[39;00m \u001b[38;5;28;43mself\u001b[39;49m\u001b[38;5;241;43m.\u001b[39;49m\u001b[43m_sock\u001b[49m\u001b[38;5;241;43m.\u001b[39;49m\u001b[43mrecv_into\u001b[49m\u001b[43m(\u001b[49m\u001b[43mb\u001b[49m\u001b[43m)\u001b[49m\n\u001b[1;32m    706\u001b[0m     \u001b[38;5;28;01mexcept\u001b[39;00m timeout:\n\u001b[1;32m    707\u001b[0m         \u001b[38;5;28mself\u001b[39m\u001b[38;5;241m.\u001b[39m_timeout_occurred \u001b[38;5;241m=\u001b[39m \u001b[38;5;28;01mTrue\u001b[39;00m\n",
      "File \u001b[0;32m~/anaconda3/lib/python3.10/ssl.py:1274\u001b[0m, in \u001b[0;36mSSLSocket.recv_into\u001b[0;34m(self, buffer, nbytes, flags)\u001b[0m\n\u001b[1;32m   1270\u001b[0m     \u001b[38;5;28;01mif\u001b[39;00m flags \u001b[38;5;241m!=\u001b[39m \u001b[38;5;241m0\u001b[39m:\n\u001b[1;32m   1271\u001b[0m         \u001b[38;5;28;01mraise\u001b[39;00m \u001b[38;5;167;01mValueError\u001b[39;00m(\n\u001b[1;32m   1272\u001b[0m           \u001b[38;5;124m\"\u001b[39m\u001b[38;5;124mnon-zero flags not allowed in calls to recv_into() on \u001b[39m\u001b[38;5;132;01m%s\u001b[39;00m\u001b[38;5;124m\"\u001b[39m \u001b[38;5;241m%\u001b[39m\n\u001b[1;32m   1273\u001b[0m           \u001b[38;5;28mself\u001b[39m\u001b[38;5;241m.\u001b[39m\u001b[38;5;18m__class__\u001b[39m)\n\u001b[0;32m-> 1274\u001b[0m     \u001b[38;5;28;01mreturn\u001b[39;00m \u001b[38;5;28;43mself\u001b[39;49m\u001b[38;5;241;43m.\u001b[39;49m\u001b[43mread\u001b[49m\u001b[43m(\u001b[49m\u001b[43mnbytes\u001b[49m\u001b[43m,\u001b[49m\u001b[43m \u001b[49m\u001b[43mbuffer\u001b[49m\u001b[43m)\u001b[49m\n\u001b[1;32m   1275\u001b[0m \u001b[38;5;28;01melse\u001b[39;00m:\n\u001b[1;32m   1276\u001b[0m     \u001b[38;5;28;01mreturn\u001b[39;00m \u001b[38;5;28msuper\u001b[39m()\u001b[38;5;241m.\u001b[39mrecv_into(buffer, nbytes, flags)\n",
      "File \u001b[0;32m~/anaconda3/lib/python3.10/ssl.py:1130\u001b[0m, in \u001b[0;36mSSLSocket.read\u001b[0;34m(self, len, buffer)\u001b[0m\n\u001b[1;32m   1128\u001b[0m \u001b[38;5;28;01mtry\u001b[39;00m:\n\u001b[1;32m   1129\u001b[0m     \u001b[38;5;28;01mif\u001b[39;00m buffer \u001b[38;5;129;01mis\u001b[39;00m \u001b[38;5;129;01mnot\u001b[39;00m \u001b[38;5;28;01mNone\u001b[39;00m:\n\u001b[0;32m-> 1130\u001b[0m         \u001b[38;5;28;01mreturn\u001b[39;00m \u001b[38;5;28;43mself\u001b[39;49m\u001b[38;5;241;43m.\u001b[39;49m\u001b[43m_sslobj\u001b[49m\u001b[38;5;241;43m.\u001b[39;49m\u001b[43mread\u001b[49m\u001b[43m(\u001b[49m\u001b[38;5;28;43mlen\u001b[39;49m\u001b[43m,\u001b[49m\u001b[43m \u001b[49m\u001b[43mbuffer\u001b[49m\u001b[43m)\u001b[49m\n\u001b[1;32m   1131\u001b[0m     \u001b[38;5;28;01melse\u001b[39;00m:\n\u001b[1;32m   1132\u001b[0m         \u001b[38;5;28;01mreturn\u001b[39;00m \u001b[38;5;28mself\u001b[39m\u001b[38;5;241m.\u001b[39m_sslobj\u001b[38;5;241m.\u001b[39mread(\u001b[38;5;28mlen\u001b[39m)\n",
      "\u001b[0;31mKeyboardInterrupt\u001b[0m: "
     ]
    }
   ],
   "source": [
    "for index, url in enumerate(urls):\n",
    "    response = requests.get(url)\n",
    "    file_name = url.split('/')[-1]\n",
    "\n",
    "    print(\"Download \", index, \" with name: \", file_name)\n",
    "\n",
    "    if response.status_code == 200:\n",
    "        with open(os.path.join(PATH, \"pdfs\", file_name), 'wb') as pdf_file:\n",
    "            pdf_file.write(response.content)\n",
    "    else:\n",
    "        print(f\"Failed to download the : {file_name}\")"
   ]
  },
  {
   "cell_type": "markdown",
   "id": "88e44826316516cb",
   "metadata": {
    "collapsed": false,
    "jupyter": {
     "outputs_hidden": false
    }
   },
   "source": [
    "### Step 4: Extract Tabulated Summary of Adverse Reactions from the 4.8 section \n",
    "\n",
    "This section should include all adverse reactions for which, after thorough assessment, a causal relationship between the medicinal product and the adverse event is at least a reasonable possibility. These ADRs should be all reactions from:\n",
    "* Clinical trials\n",
    "* Post-authorisation safety studies\n",
    "* Spontaneous reporting\n",
    "\n",
    "#####  The tabulated list of adverse reactions in section 4.8:\n",
    "* Introduce table with short paragraph stating source of safety database\n",
    "* Separate tables are acceptable in exceptional cases where adverse profiles markedly differ depending on the use of the product.\n",
    "\n",
    "#####  Structure of the table: general considerations\n",
    "\n",
    "* Table should be written according to MedDRA system organ classification (SOC)\n",
    "* A pragmatic approach to the location of terms should be taken in order to make the identification of adverse reactions simpler and clinically appropriate for the reader\n",
    "* Within each SOC, adverse reactions should be ranked under headings of frequency, most frequent reactions first\n",
    "* Frequency grouping, adverse reactions should be presented in order of decreasing seriousness\n",
    "\n",
    "##### Frequency Grouping:\n",
    "* Very common (≥1/10)\n",
    "* Common (≥1/100 to <1/10)\n",
    "* Uncommon (≥1/1,000 to <1/100)\n",
    "* Rare (≥1/10,000 to <1/1,000)\n",
    "* Very rare (<1/10,000)\n",
    "* Frequency not known (cannot be estimated from the available data)\n",
    "\n",
    "#### SmPCs Examples\n",
    "\n",
    "<img src=\"./images/SmPCs_example.png\" width=\"500px;\">\n",
    "\n",
    "\n",
    "## MedDRA\n",
    "MedDRA is a multilingual terminology allowing most users to operate in their native languages. The table below identifies the initial MedDRA version when each MedDRA language was made available to users. \n",
    "\n",
    "<br />\n",
    "\n",
    "<img src=\"./images/MedDRA_Hierarchy.png\" width=\"500px;\">\n",
    "\n",
    "<br />\n",
    "\n",
    "The most important reason to “code” data into a standardised terminology is to analyse it. A key benefit of MedDRA is in its support of straightforward as well as sophisticated analyses. MedDRA can be used to analyse individual medical events (e.g., “Influenza”) or issues involving a system, organ or aetiology (e.g., infections) using its hierarchical structure. MedDRA can be used for signal detection and monitoring of clinical syndromes whose symptoms encompass numerous systems or organs using its multiaxial hierarchy or through the special feature of Standardised MedDRA Queries.\n",
    "\n",
    "<br />\n",
    "\n",
    "### MedDRA Hierarchy\n",
    "\n",
    "The structure of MedDRA is very logical. There are five levels to the MedDRA hierarchy, arranged from very specific to very general.\n",
    "\n",
    "<br />\n",
    "\n",
    "Download [MedDRA codes](https://www.ema.europa.eu/en/documents/other/meddra-important-medical-event-terms-list-version-261_en.xlsx) and extract the unique values from the SOC Name column"
   ]
  },
  {
   "cell_type": "code",
   "execution_count": 10,
   "id": "919f7a90-3b85-46da-ad44-0682ac37769d",
   "metadata": {
    "ExecuteTime": {
     "end_time": "2023-12-28T10:27:03.258848Z",
     "start_time": "2023-12-28T10:27:02.365652Z"
    }
   },
   "outputs": [],
   "source": [
    "medraSOC = pd.read_excel(os.path.join(PATH, \"MedDRA\", \"meddra-important-medical-event-terms-list-version-261_en.xlsx\"))\n",
    "socList = medraSOC['SOC Name'].unique()\n",
    "SOCListRegex = '(?:% s)' % '|'.join(socList)\n",
    "regex = re.compile(SOCListRegex)"
   ]
  },
  {
   "cell_type": "code",
   "execution_count": 11,
   "id": "fe6eb45f-65da-4b9d-a0f9-657fb416ddb3",
   "metadata": {
    "ExecuteTime": {
     "end_time": "2023-12-28T10:27:04.448314Z",
     "start_time": "2023-12-28T10:27:04.437858Z"
    }
   },
   "outputs": [
    {
     "data": {
      "text/plain": [
       "re.compile(r'(?:Blood and lymphatic system disorders|Cardiac disorders|Congenital, familial and genetic disorders|Endocrine disorders|Eye disorders|Gastrointestinal disorders|Hepatobiliary disorders|Immune system disorders|Infections and infestations|Injury, poisoning and procedural complications|Investigations|Musculoskeletal and connective tissue disorders|Neoplasms benign, malignant and unspecified (incl cysts and polyps)|Nervous system disorders|Pregnancy, puerperium and perinatal conditions|Renal and urinary disorders|Reproductive system and breast disorders|Respiratory, thoracic and mediastinal disorders|Surgical and medical procedures|Vascular disorders|Ear and labyrinth disorders|General disorders and administration site conditions|Metabolism and nutrition disorders|Product issues|Psychiatric disorders|Skin and subcutaneous tissue disorders|Social circumstances)',\n",
       "           re.UNICODE)"
      ]
     },
     "execution_count": 11,
     "metadata": {},
     "output_type": "execute_result"
    }
   ],
   "source": [
    "regex"
   ]
  },
  {
   "cell_type": "code",
   "execution_count": 12,
   "id": "130327e5586f0d24",
   "metadata": {
    "ExecuteTime": {
     "end_time": "2023-12-28T09:57:20.682839Z",
     "start_time": "2023-12-28T09:57:20.667040Z"
    },
    "collapsed": false,
    "jupyter": {
     "outputs_hidden": false
    }
   },
   "outputs": [],
   "source": [
    "def extract_table_rows(df):\n",
    "    rows = []\n",
    "\n",
    "    for row in df.itertuples():\n",
    "        # First row contains the header\n",
    "        if row[0] == 0:\n",
    "            # Find the order of columns\n",
    "            if True if \"reaction\".lower() in row[2].lower() else False:\n",
    "                AD_index, F_index  = 2, 3\n",
    "            else:\n",
    "                AD_index, F_index  = 3, 2\n",
    "\n",
    "        else:\n",
    "            ad_reaction = row[AD_index].split('\\n')\n",
    "            freq = row[F_index].split('\\n')\n",
    "            \n",
    "            for index, ad in enumerate(ad_reaction):\n",
    "                ad_row = []\n",
    "                ad_row.insert(0, row[1].replace('\\n', ''))  \n",
    "                ad_row.insert(1, ad_reaction[index].strip())\n",
    "                ad_row.insert(2, freq[index].strip())\n",
    "                rows.append(ad_row)\n",
    "    return rows"
   ]
  },
  {
   "cell_type": "code",
   "execution_count": 12,
   "id": "28842dd7-a610-425e-880b-36751d556b35",
   "metadata": {
    "ExecuteTime": {
     "end_time": "2023-12-28T09:57:26.202624Z",
     "start_time": "2023-12-28T09:57:21.475035Z"
    },
    "collapsed": false,
    "jupyter": {
     "outputs_hidden": false
    }
   },
   "outputs": [
    {
     "name": "stdout",
     "output_type": "stream",
     "text": [
      "Start Processing Filename:  ./data/pdfs/metformin-hydrochloride-accord-epar-product-information_en.pdf\n"
     ]
    },
    {
     "ename": "ModuleNotFoundError",
     "evalue": "No module named 'ghostscript'",
     "output_type": "error",
     "traceback": [
      "\u001b[0;31m---------------------------------------------------------------------------\u001b[0m",
      "\u001b[0;31mModuleNotFoundError\u001b[0m                       Traceback (most recent call last)",
      "Cell \u001b[0;32mIn[12], line 13\u001b[0m\n\u001b[1;32m      9\u001b[0m fullpath \u001b[38;5;241m=\u001b[39m os\u001b[38;5;241m.\u001b[39mpath\u001b[38;5;241m.\u001b[39mjoin(PATH, \u001b[38;5;124m'\u001b[39m\u001b[38;5;124mpdfs\u001b[39m\u001b[38;5;124m'\u001b[39m, file)\n\u001b[1;32m     11\u001b[0m \u001b[38;5;28mprint\u001b[39m(\u001b[38;5;124m\"\u001b[39m\u001b[38;5;124mStart Processing Filename: \u001b[39m\u001b[38;5;124m\"\u001b[39m, fullpath)\n\u001b[0;32m---> 13\u001b[0m tables \u001b[38;5;241m=\u001b[39m \u001b[43mcamelot\u001b[49m\u001b[38;5;241;43m.\u001b[39;49m\u001b[43mread_pdf\u001b[49m\u001b[43m(\u001b[49m\u001b[43mfullpath\u001b[49m\u001b[43m,\u001b[49m\u001b[43m \u001b[49m\u001b[43mpages\u001b[49m\u001b[38;5;241;43m=\u001b[39;49m\u001b[38;5;124;43m'\u001b[39;49m\u001b[38;5;124;43mall\u001b[39;49m\u001b[38;5;124;43m'\u001b[39;49m\u001b[43m,\u001b[49m\u001b[43m \u001b[49m\u001b[43mflavor\u001b[49m\u001b[38;5;241;43m=\u001b[39;49m\u001b[38;5;124;43m'\u001b[39;49m\u001b[38;5;124;43mlattice\u001b[39;49m\u001b[38;5;124;43m'\u001b[39;49m\u001b[43m,\u001b[49m\u001b[43m \u001b[49m\u001b[43mline_scale\u001b[49m\u001b[38;5;241;43m=\u001b[39;49m\u001b[38;5;241;43m80\u001b[39;49m\u001b[43m,\u001b[49m\u001b[43m \u001b[49m\u001b[43mshift_text\u001b[49m\u001b[43m \u001b[49m\u001b[38;5;241;43m=\u001b[39;49m\u001b[43m \u001b[49m\u001b[43m[\u001b[49m\u001b[38;5;124;43m'\u001b[39;49m\u001b[38;5;124;43m'\u001b[39;49m\u001b[43m,\u001b[49m\u001b[43m \u001b[49m\u001b[38;5;124;43m'\u001b[39;49m\u001b[38;5;124;43ml\u001b[39;49m\u001b[38;5;124;43m'\u001b[39;49m\u001b[43m]\u001b[49m\u001b[43m,\u001b[49m\u001b[43m \u001b[49m\u001b[43mprocess_background\u001b[49m\u001b[38;5;241;43m=\u001b[39;49m\u001b[38;5;28;43;01mFalse\u001b[39;49;00m\u001b[43m)\u001b[49m\n\u001b[1;32m     15\u001b[0m rows \u001b[38;5;241m=\u001b[39m []\n\u001b[1;32m     16\u001b[0m \u001b[38;5;28;01mfor\u001b[39;00m i, table \u001b[38;5;129;01min\u001b[39;00m \u001b[38;5;28menumerate\u001b[39m(tables):\n\u001b[1;32m     17\u001b[0m     \u001b[38;5;66;03m# Convert table to a pandas DataFrame\u001b[39;00m\n",
      "File \u001b[0;32m~/anaconda3/lib/python3.10/site-packages/camelot/io.py:113\u001b[0m, in \u001b[0;36mread_pdf\u001b[0;34m(filepath, pages, password, flavor, suppress_stdout, layout_kwargs, **kwargs)\u001b[0m\n\u001b[1;32m    111\u001b[0m p \u001b[38;5;241m=\u001b[39m PDFHandler(filepath, pages\u001b[38;5;241m=\u001b[39mpages, password\u001b[38;5;241m=\u001b[39mpassword)\n\u001b[1;32m    112\u001b[0m kwargs \u001b[38;5;241m=\u001b[39m remove_extra(kwargs, flavor\u001b[38;5;241m=\u001b[39mflavor)\n\u001b[0;32m--> 113\u001b[0m tables \u001b[38;5;241m=\u001b[39m \u001b[43mp\u001b[49m\u001b[38;5;241;43m.\u001b[39;49m\u001b[43mparse\u001b[49m\u001b[43m(\u001b[49m\n\u001b[1;32m    114\u001b[0m \u001b[43m    \u001b[49m\u001b[43mflavor\u001b[49m\u001b[38;5;241;43m=\u001b[39;49m\u001b[43mflavor\u001b[49m\u001b[43m,\u001b[49m\n\u001b[1;32m    115\u001b[0m \u001b[43m    \u001b[49m\u001b[43msuppress_stdout\u001b[49m\u001b[38;5;241;43m=\u001b[39;49m\u001b[43msuppress_stdout\u001b[49m\u001b[43m,\u001b[49m\n\u001b[1;32m    116\u001b[0m \u001b[43m    \u001b[49m\u001b[43mlayout_kwargs\u001b[49m\u001b[38;5;241;43m=\u001b[39;49m\u001b[43mlayout_kwargs\u001b[49m\u001b[43m,\u001b[49m\n\u001b[1;32m    117\u001b[0m \u001b[43m    \u001b[49m\u001b[38;5;241;43m*\u001b[39;49m\u001b[38;5;241;43m*\u001b[39;49m\u001b[43mkwargs\u001b[49m\n\u001b[1;32m    118\u001b[0m \u001b[43m\u001b[49m\u001b[43m)\u001b[49m\n\u001b[1;32m    119\u001b[0m \u001b[38;5;28;01mreturn\u001b[39;00m tables\n",
      "File \u001b[0;32m~/anaconda3/lib/python3.10/site-packages/camelot/handlers.py:176\u001b[0m, in \u001b[0;36mPDFHandler.parse\u001b[0;34m(self, flavor, suppress_stdout, layout_kwargs, **kwargs)\u001b[0m\n\u001b[1;32m    174\u001b[0m     parser \u001b[38;5;241m=\u001b[39m Lattice(\u001b[38;5;241m*\u001b[39m\u001b[38;5;241m*\u001b[39mkwargs) \u001b[38;5;28;01mif\u001b[39;00m flavor \u001b[38;5;241m==\u001b[39m \u001b[38;5;124m\"\u001b[39m\u001b[38;5;124mlattice\u001b[39m\u001b[38;5;124m\"\u001b[39m \u001b[38;5;28;01melse\u001b[39;00m Stream(\u001b[38;5;241m*\u001b[39m\u001b[38;5;241m*\u001b[39mkwargs)\n\u001b[1;32m    175\u001b[0m     \u001b[38;5;28;01mfor\u001b[39;00m p \u001b[38;5;129;01min\u001b[39;00m pages:\n\u001b[0;32m--> 176\u001b[0m         t \u001b[38;5;241m=\u001b[39m \u001b[43mparser\u001b[49m\u001b[38;5;241;43m.\u001b[39;49m\u001b[43mextract_tables\u001b[49m\u001b[43m(\u001b[49m\n\u001b[1;32m    177\u001b[0m \u001b[43m            \u001b[49m\u001b[43mp\u001b[49m\u001b[43m,\u001b[49m\u001b[43m \u001b[49m\u001b[43msuppress_stdout\u001b[49m\u001b[38;5;241;43m=\u001b[39;49m\u001b[43msuppress_stdout\u001b[49m\u001b[43m,\u001b[49m\u001b[43m \u001b[49m\u001b[43mlayout_kwargs\u001b[49m\u001b[38;5;241;43m=\u001b[39;49m\u001b[43mlayout_kwargs\u001b[49m\n\u001b[1;32m    178\u001b[0m \u001b[43m        \u001b[49m\u001b[43m)\u001b[49m\n\u001b[1;32m    179\u001b[0m         tables\u001b[38;5;241m.\u001b[39mextend(t)\n\u001b[1;32m    180\u001b[0m \u001b[38;5;28;01mreturn\u001b[39;00m TableList(\u001b[38;5;28msorted\u001b[39m(tables))\n",
      "File \u001b[0;32m~/anaconda3/lib/python3.10/site-packages/camelot/parsers/lattice.py:421\u001b[0m, in \u001b[0;36mLattice.extract_tables\u001b[0;34m(self, filename, suppress_stdout, layout_kwargs)\u001b[0m\n\u001b[1;32m    416\u001b[0m         warnings\u001b[38;5;241m.\u001b[39mwarn(\n\u001b[1;32m    417\u001b[0m             \u001b[38;5;124m\"\u001b[39m\u001b[38;5;124mNo tables found on \u001b[39m\u001b[38;5;132;01m{}\u001b[39;00m\u001b[38;5;124m\"\u001b[39m\u001b[38;5;241m.\u001b[39mformat(os\u001b[38;5;241m.\u001b[39mpath\u001b[38;5;241m.\u001b[39mbasename(\u001b[38;5;28mself\u001b[39m\u001b[38;5;241m.\u001b[39mrootname))\n\u001b[1;32m    418\u001b[0m         )\n\u001b[1;32m    419\u001b[0m     \u001b[38;5;28;01mreturn\u001b[39;00m []\n\u001b[0;32m--> 421\u001b[0m \u001b[38;5;28;43mself\u001b[39;49m\u001b[38;5;241;43m.\u001b[39;49m\u001b[43mbackend\u001b[49m\u001b[38;5;241;43m.\u001b[39;49m\u001b[43mconvert\u001b[49m\u001b[43m(\u001b[49m\u001b[38;5;28;43mself\u001b[39;49m\u001b[38;5;241;43m.\u001b[39;49m\u001b[43mfilename\u001b[49m\u001b[43m,\u001b[49m\u001b[43m \u001b[49m\u001b[38;5;28;43mself\u001b[39;49m\u001b[38;5;241;43m.\u001b[39;49m\u001b[43mimagename\u001b[49m\u001b[43m)\u001b[49m\n\u001b[1;32m    423\u001b[0m \u001b[38;5;28mself\u001b[39m\u001b[38;5;241m.\u001b[39m_generate_table_bbox()\n\u001b[1;32m    425\u001b[0m _tables \u001b[38;5;241m=\u001b[39m []\n",
      "File \u001b[0;32m~/anaconda3/lib/python3.10/site-packages/camelot/backends/ghostscript_backend.py:36\u001b[0m, in \u001b[0;36mGhostscriptBackend.convert\u001b[0;34m(self, pdf_path, png_path, resolution)\u001b[0m\n\u001b[1;32m     30\u001b[0m \u001b[38;5;28;01mif\u001b[39;00m \u001b[38;5;129;01mnot\u001b[39;00m \u001b[38;5;28mself\u001b[39m\u001b[38;5;241m.\u001b[39minstalled():\n\u001b[1;32m     31\u001b[0m     \u001b[38;5;28;01mraise\u001b[39;00m \u001b[38;5;167;01mOSError\u001b[39;00m(\n\u001b[1;32m     32\u001b[0m         \u001b[38;5;124m\"\u001b[39m\u001b[38;5;124mGhostscript is not installed. You can install it using the instructions\u001b[39m\u001b[38;5;124m\"\u001b[39m\n\u001b[1;32m     33\u001b[0m         \u001b[38;5;124m\"\u001b[39m\u001b[38;5;124m here: https://camelot-py.readthedocs.io/en/master/user/install-deps.html\u001b[39m\u001b[38;5;124m\"\u001b[39m\n\u001b[1;32m     34\u001b[0m     )\n\u001b[0;32m---> 36\u001b[0m \u001b[38;5;28;01mimport\u001b[39;00m \u001b[38;5;21;01mghostscript\u001b[39;00m\n\u001b[1;32m     38\u001b[0m gs_command \u001b[38;5;241m=\u001b[39m [\n\u001b[1;32m     39\u001b[0m     \u001b[38;5;124m\"\u001b[39m\u001b[38;5;124mgs\u001b[39m\u001b[38;5;124m\"\u001b[39m,\n\u001b[1;32m     40\u001b[0m     \u001b[38;5;124m\"\u001b[39m\u001b[38;5;124m-q\u001b[39m\u001b[38;5;124m\"\u001b[39m,\n\u001b[0;32m   (...)\u001b[0m\n\u001b[1;32m     45\u001b[0m     pdf_path,\n\u001b[1;32m     46\u001b[0m ]\n\u001b[1;32m     47\u001b[0m ghostscript\u001b[38;5;241m.\u001b[39mGhostscript(\u001b[38;5;241m*\u001b[39mgs_command)\n",
      "\u001b[0;31mModuleNotFoundError\u001b[0m: No module named 'ghostscript'"
     ]
    }
   ],
   "source": [
    "# List all pdfs in the directory\n",
    "pdfs_processed = []\n",
    "pdfs_not_processed = []\n",
    "\n",
    "for file in os.listdir(os.path.join(PATH, 'pdfs')):\n",
    "    \n",
    "    if file.lower().endswith('.pdf'):\n",
    "        filename = file.split('/')[-1].split('-')[0]\n",
    "        fullpath = os.path.join(PATH, 'pdfs', file)\n",
    "        \n",
    "        print(\"Start Processing Filename: \", fullpath)\n",
    "        \n",
    "        tables = camelot.read_pdf(fullpath, pages='all', flavor='lattice', line_scale=80, shift_text = ['', 'l'], process_background=False)\n",
    "\n",
    "        rows = []\n",
    "        for i, table in enumerate(tables):\n",
    "            # Convert table to a pandas DataFrame\n",
    "            df = table.df\n",
    "    \n",
    "            # Search for regex in the first column\n",
    "            matches = df[0].str.contains(regex, regex=True)\n",
    "    \n",
    "            # Check if any value in the column matches the regex pattern\n",
    "            contains_regex = matches.any()\n",
    "\n",
    "            if contains_regex:\n",
    "                if len(df.columns) == 3:\n",
    "                    # Case A: Dataframe consists of 3 columns\n",
    "                    print(\"The file \", filename, \" does have three columns table\")\n",
    "                    extracted_rows = extract_table_rows(df)\n",
    "                    print(extracted_rows)\n",
    "                    for row in extracted_rows:\n",
    "                        rows.append(row)\n",
    "                    print(rows)\n",
    "\n",
    "                    pdfs_processed.append(fullpath)\n",
    "                else:\n",
    "                    print(\"The file \", filename, \" does NOT have three columns table\")\n",
    "                    pdfs_not_processed.append(fullpath)\n",
    "        print(rows)\n",
    "        if rows:\n",
    "            pd.DataFrame(rows, columns=[\"SOC\", \"ADR\", \"FREQ\"]).to_csv(os.path.join(PATH, \"extracted_tables\", filename + \".csv\"), sep=';', encoding='utf-8', index=False)\n",
    "            \n",
    "# Create report"
   ]
  },
  {
   "cell_type": "code",
   "execution_count": 13,
   "id": "9517ac1ad0f74b84",
   "metadata": {
    "ExecuteTime": {
     "end_time": "2023-12-28T10:02:26.988563Z",
     "start_time": "2023-12-28T10:02:26.827549Z"
    },
    "collapsed": false,
    "jupyter": {
     "outputs_hidden": false
    }
   },
   "outputs": [
    {
     "name": "stdout",
     "output_type": "stream",
     "text": [
      "/Library/Frameworks/Python.framework/Versions/3.11/bin/python3\n"
     ]
    }
   ],
   "source": [
    "!which python3"
   ]
  },
  {
   "cell_type": "code",
   "execution_count": 14,
   "id": "854aed71c09fda0f",
   "metadata": {
    "ExecuteTime": {
     "end_time": "2023-12-28T10:27:12.808572Z",
     "start_time": "2023-12-28T10:27:12.783700Z"
    },
    "collapsed": false,
    "jupyter": {
     "outputs_hidden": false
    }
   },
   "outputs": [
    {
     "name": "stdout",
     "output_type": "stream",
     "text": [
      "0.9.0\n"
     ]
    }
   ],
   "source": [
    "print(camelot.__version__)"
   ]
  },
  {
   "cell_type": "code",
   "execution_count": 15,
   "id": "77e91c8f7d59d26f",
   "metadata": {
    "ExecuteTime": {
     "end_time": "2023-12-28T10:27:16.675197Z",
     "start_time": "2023-12-28T10:27:16.655296Z"
    },
    "collapsed": false,
    "jupyter": {
     "outputs_hidden": false
    }
   },
   "outputs": [
    {
     "data": {
      "text/plain": [
       "'/usr/local/lib/libgs.dylib'"
      ]
     },
     "execution_count": 15,
     "metadata": {},
     "output_type": "execute_result"
    }
   ],
   "source": [
    "from ctypes.util import find_library\n",
    "find_library(\"gs\")"
   ]
  },
  {
   "cell_type": "code",
   "execution_count": null,
   "id": "e95bf66544276ea1",
   "metadata": {
    "collapsed": false,
    "jupyter": {
     "outputs_hidden": false
    }
   },
   "outputs": [],
   "source": [
    "tables = camelot.read_pdf(\"\", pages='all', flavor='lattice', line_scale=80, shift_text = ['', 'l'], process_background=False)\n"
   ]
  }
 ],
 "metadata": {
  "kernelspec": {
   "display_name": "venv",
   "language": "python",
   "name": "venv"
  },
  "language_info": {
   "codemirror_mode": {
    "name": "ipython",
    "version": 3
   },
   "file_extension": ".py",
   "mimetype": "text/x-python",
   "name": "python",
   "nbconvert_exporter": "python",
   "pygments_lexer": "ipython3",
   "version": "3.11.2"
  }
 },
 "nbformat": 4,
 "nbformat_minor": 5
}
