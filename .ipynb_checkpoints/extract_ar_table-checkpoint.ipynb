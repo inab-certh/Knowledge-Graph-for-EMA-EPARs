{
 "cells": [
  {
   "cell_type": "code",
   "execution_count": null,
   "id": "initial_id",
   "metadata": {
    "collapsed": true,
    "is_executing": true
   },
   "outputs": [],
   "source": [
    "from bs4 import BeautifulSoup\n",
    "import pandas as pd\n",
    "import requests\n",
    "\n",
    "# Fetch the HTML content\n",
    "url = 'https://www.rxreasoner.com/monographs/abecma/precautions'\n",
    "html_content = requests.get(url).text\n",
    "\n",
    "# Parse the HTML content\n",
    "soup = BeautifulSoup(html_content, \"html.parser\")\n",
    "\n",
    "# Find all tables in the HTML\n",
    "tables = soup.find_all(\"table\")\n",
    "\n",
    "# Loop through tables and convert them to DataFrame\n",
    "for i, table in enumerate(tables):\n",
    "    # The Pandas read_html function converts HTML table into DataFrame\n",
    "    df = pd.read_html(str(table))[0]\n",
    "    print(f\"Table {i}:\")\n",
    "    print(df)"
   ]
  },
  {
   "cell_type": "code",
   "execution_count": null,
   "outputs": [],
   "source": [],
   "metadata": {
    "collapsed": false
   },
   "id": "9116cb0b9652e059"
  },
  {
   "cell_type": "code",
   "execution_count": null,
   "outputs": [],
   "source": [
    "!pip list"
   ],
   "metadata": {
    "collapsed": false,
    "is_executing": true
   },
   "id": "67f3113c030e47ed"
  },
  {
   "cell_type": "code",
   "execution_count": null,
   "outputs": [],
   "source": [],
   "metadata": {
    "collapsed": false
   },
   "id": "456ba882e22580be"
  }
 ],
 "metadata": {
  "kernelspec": {
   "display_name": "Python 3",
   "language": "python",
   "name": "python3"
  },
  "language_info": {
   "codemirror_mode": {
    "name": "ipython",
    "version": 2
   },
   "file_extension": ".py",
   "mimetype": "text/x-python",
   "name": "python",
   "nbconvert_exporter": "python",
   "pygments_lexer": "ipython2",
   "version": "2.7.6"
  }
 },
 "nbformat": 4,
 "nbformat_minor": 5
}
