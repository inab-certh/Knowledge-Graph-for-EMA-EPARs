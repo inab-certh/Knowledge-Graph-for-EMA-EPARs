{
 "cells": [
  {
   "cell_type": "markdown",
   "id": "25b6f5b4c9420ac4",
   "metadata": {
    "collapsed": false,
    "jupyter": {
     "outputs_hidden": false
    }
   },
   "source": [
    "## European Medicine Agency (EMA)\n",
    "\n",
    "The European Medicines Agency (EMA) is a decentralized agency of the European Union (EU) responsible for the scientific evaluation, supervision, and safety monitoring of medicines in the EU. EMA plays a crucial role in the public health domain by ensuring that all medicines available on the EU market are safe, effective, and of high quality."
   ]
  },
  {
   "cell_type": "markdown",
   "id": "b654ee0d8de31b26",
   "metadata": {
    "collapsed": false,
    "jupyter": {
     "outputs_hidden": false
    }
   },
   "source": [
    "\n",
    "<br/>\n",
    "\n",
    "### Structure of an SmPC\n",
    "The structure of the SmPC is defined by the European pharmaceutical legislation. The information included in the SmPC should be product specific and can be cross-referenced to avoid any redundancy. It should be documented in a clear language and should not lead to any ambiguity. The SmPC is divided into 6 major sections:\n",
    "\n",
    "1. Name of the product\n",
    "2. Composition\n",
    "3. Pharmaceutical Form\n",
    "4. Clinical particulars – Includes therapeutic indications, recommendation for dosages and safety information\n",
    "5. Pharmacological properties – Takes into account the therapeutic indications of the clinical elements and their potential adverse drug reactions\n",
    "6. Pharmaceutical particulars – Includes Regulatory information related to the drug\n",
    "\n",
    "<br/>\n",
    "\n",
    "<img src=\"./images/structureSmPC.png\" width=\"600px;\">\n",
    "\n",
    "<br/>\n",
    "<br/>\n",
    "\n",
    "### Prescribing medicines for special populations\n",
    "When prescribing medication to specific groups like children, the elderly, pregnant and breastfeeding women, and individuals with kidney or liver issues, it's\n",
    "crucial to exercise caution. The public documentation for medicines, especially the Summary of Product Characteristics (SmPC) and the package leaflets (PLs), often includes many of these essential precautions.\n",
    "<br/>\n",
    "\n",
    "<img src=\"./images/SmPC_authorization_process.png\" width=\"800px;\">\n",
    "\n",
    "When seeking marketing authorization, a company submits an application dossier that contains instructions for healthcare professionals on the safe and effective use of the medicine. In Europe, this is referred to as the Summary of Product Characteristics (SmPC). The SmPC must be regularly updated over the medicine's lifecycle to reflect new data on efficacy or safety. The figure above illustrates the connection between a medicine's development, the regulatory dossier with the initial proposed SmPC, the SmPC that gets approved, and subsequent updates to the SmPC.\n",
    "\n",
    "\n",
    "[1]: https://www.ema.europa.eu/en/glossary/summary-product-characteristics\n",
    "[2]: https://www.freyrsolutions.com/what-is-an-smpc\n"
   ]
  },
  {
   "cell_type": "markdown",
   "id": "fe2052a2-ea36-4362-8e7f-31fdf36864c0",
   "metadata": {},
   "source": [
    "### Project Overview\n",
    "\n",
    "Using natural language processing (NLP) techniquesto automatically extract adverse drug reactions from such unstructured textual information helps clinicalexperts to effectively and efficiently use them in daily practices. Such techniques have been developed for Structured Product Labels from the Food and Drug Administration (FDA), but there is no researchfocusing on extracting from the Summary of Product Characteristics.\n",
    "\n",
    "\n",
    "In this work, we built a naturallanguage processing pipeline that automatically scrapes the summary of product characteristics online and then extracts adverse drug reactions from them.\n",
    "\n",
    "<img src=\"./images/Project_Overview.png\" width=\"300px;\">"
   ]
  },
  {
   "cell_type": "markdown",
   "id": "ebab7948-13c2-465e-9156-15c0838d8ac9",
   "metadata": {},
   "source": [
    "##  STEP 1: Download medicine data and import them to Database\n",
    "You can download the European Medicines Agency's (EMA) medicine-related data published on this website in Excel table format from this page. EMA updates these medicine data tables once a day. The following two files need to be downloaded:\n",
    "\n",
    "<br/>\n",
    "\n",
    "* The file listing all medicines, **including the withdrawn and not authorised ones**, named medicines_output_european_public_assessment_reports_en.xlsx, found [here](https://www.ema.europa.eu/sites/default/files/Medicines_output_european_public_assessment_reports.xlsx)\n",
    "\n",
    "and\n",
    "\n",
    "* The file listing **all the URLs for the SmPCs**, named Product information URLs for member product-information-urls-member-states_en.xls, found [here](https://www.ema.europa.eu/documents/product-information/product-information-urls-member-states_en.xls)\n",
    "\n",
    "\n",
    "##### Disclaimer\n",
    "The database is used purely to join the two csv. The view can also be done with dataframes without the need to use the database\n",
    "\n",
    "[3]: https://toolbox.eupati.eu/resources/prescribing-medicines-for-special-populations/?print=print\n",
    "[4]: https://www.ema.europa.eu/en/homepage\n"
   ]
  },
  {
   "cell_type": "code",
   "execution_count": 1,
   "id": "e9690c5cdcdb3db",
   "metadata": {
    "collapsed": false,
    "is_executing": true,
    "jupyter": {
     "outputs_hidden": false
    }
   },
   "outputs": [],
   "source": [
    "import os\n",
    "import pandas as pd\n",
    "import re\n",
    "import sqlite3\n",
    "import camelot\n",
    "\n",
    "# Define the folder that you store the required xls\n",
    "PATH = \"./data\"\n",
    "\n",
    "MEDICINE_LIST = \"medicines_output_european_public_assessment_reports_en.xlsx\"\n",
    "PRODUCT_URLS_LIST = \"product-information-urls-member-states_en.xls\""
   ]
  },
  {
   "cell_type": "code",
   "execution_count": null,
   "id": "a3784fc65e25e785",
   "metadata": {
    "ExecuteTime": {
     "end_time": "2023-12-28T09:56:11.403460Z",
     "start_time": "2023-12-28T09:56:10.462370Z"
    },
    "collapsed": false,
    "jupyter": {
     "outputs_hidden": false
    }
   },
   "outputs": [],
   "source": [
    "medicinesOutputData = pd.read_excel(os.path.join(PATH, MEDICINE_LIST))\n",
    "medicinesOutputData.head()"
   ]
  },
  {
   "cell_type": "code",
   "execution_count": null,
   "id": "7c897773d11f4df2",
   "metadata": {
    "ExecuteTime": {
     "end_time": "2023-12-28T09:56:12.601138Z",
     "start_time": "2023-12-28T09:56:12.521156Z"
    },
    "collapsed": false,
    "jupyter": {
     "outputs_hidden": false
    }
   },
   "outputs": [],
   "source": [
    "productInformationURLs = pd.read_excel(os.path.join(PATH, PRODUCT_URLS_LIST))\n",
    "productInformationURLs.head()"
   ]
  },
  {
   "cell_type": "code",
   "execution_count": null,
   "id": "d561b9505df57df3",
   "metadata": {
    "ExecuteTime": {
     "end_time": "2023-12-28T09:56:13.434289Z",
     "start_time": "2023-12-28T09:56:13.296742Z"
    },
    "collapsed": false,
    "jupyter": {
     "outputs_hidden": false
    }
   },
   "outputs": [],
   "source": [
    "conn = sqlite3.connect(os.path.join(PATH, \"SmPCs.db\"))\n",
    "\n",
    "medicinesOutputData.to_sql('emaMedicinesOP', conn, if_exists='replace', index=False)\n",
    "productInformationURLs.to_sql('emaProductInformationURLs', conn, if_exists='replace', index=False)"
   ]
  },
  {
   "cell_type": "markdown",
   "id": "22f965865733617c",
   "metadata": {
    "collapsed": false,
    "jupyter": {
     "outputs_hidden": false
    }
   },
   "source": [
    "## Step 2: Create csv with SmPCs URLs\n",
    "\n",
    " The actual SmPCs information will be extracted from the joinedHumanAuthorisedProductURLsONLY.csv file which contains the URLs for the authorised medicines for human use."
   ]
  },
  {
   "cell_type": "code",
   "execution_count": null,
   "id": "a467495dd5a620ab",
   "metadata": {
    "ExecuteTime": {
     "end_time": "2023-12-28T09:56:15.475471Z",
     "start_time": "2023-12-28T09:56:15.448612Z"
    },
    "collapsed": false,
    "jupyter": {
     "outputs_hidden": false
    }
   },
   "outputs": [],
   "source": [
    "joinedHumanAuthorisedProductURLsONLY = pd.read_sql(\"\"\"\n",
    "    SELECT [URL(currentwebsite)]\n",
    "    FROM emaMedicinesOP\n",
    "    LEFT JOIN emaProductInformationURLs \n",
    "    ON emaMedicinesOP.[Medicine name]=emaProductInformationURLs.[ProductName]\n",
    "    WHERE  emaMedicinesOP.Category='Human'\n",
    "      AND emaMedicinesOP.[Authorisation Status] ='Authorised';\n",
    "\"\"\", conn)\n",
    "\n",
    "joinedHumanAuthorisedProductURLsONLY.to_csv(os.path.join(PATH, \"joinedHumanAuthorisedProductURLsONLY.csv\"))"
   ]
  },
  {
   "cell_type": "markdown",
   "id": "ff9f9661d49f544c",
   "metadata": {
    "collapsed": false,
    "jupyter": {
     "outputs_hidden": false
    }
   },
   "source": [
    "## Step 3: Download SmPCs pdfs\n"
   ]
  },
  {
   "cell_type": "code",
   "execution_count": null,
   "id": "3aac51489173a68b",
   "metadata": {
    "ExecuteTime": {
     "end_time": "2023-12-28T09:56:17.939751Z",
     "start_time": "2023-12-28T09:56:17.811421Z"
    },
    "collapsed": false,
    "jupyter": {
     "outputs_hidden": false
    }
   },
   "outputs": [],
   "source": [
    "import requests"
   ]
  },
  {
   "cell_type": "code",
   "execution_count": null,
   "id": "821ec2209c251cb7",
   "metadata": {
    "ExecuteTime": {
     "end_time": "2023-12-28T09:56:18.665240Z",
     "start_time": "2023-12-28T09:56:18.641887Z"
    },
    "collapsed": false,
    "jupyter": {
     "outputs_hidden": false
    }
   },
   "outputs": [],
   "source": [
    "urlsDF = pd.read_csv(os.path.join(PATH, \"joinedHumanAuthorisedProductURLsONLY.csv\"))\n",
    "urlsDF.dropna(inplace = True)\n",
    "urls = urlsDF['URL(currentwebsite)'].tolist()"
   ]
  },
  {
   "cell_type": "code",
   "execution_count": null,
   "id": "1246f236cc1dbfd2",
   "metadata": {
    "ExecuteTime": {
     "end_time": "2023-12-28T09:57:03.304561Z",
     "start_time": "2023-12-28T09:56:19.132128Z"
    },
    "collapsed": false,
    "jupyter": {
     "outputs_hidden": false
    }
   },
   "outputs": [],
   "source": [
    "for index, url in enumerate(urls):\n",
    "    response = requests.get(url)\n",
    "    file_name = url.split('/')[-1]\n",
    "\n",
    "    print(\"Download \", index, \" with name: \", file_name)\n",
    "\n",
    "    if response.status_code == 200:\n",
    "        with open(os.path.join(PATH, \"pdfs\", file_name), 'wb') as pdf_file:\n",
    "            pdf_file.write(response.content)\n",
    "    else:\n",
    "        print(f\"Failed to download the : {file_name}\")"
   ]
  },
  {
   "cell_type": "markdown",
   "id": "88e44826316516cb",
   "metadata": {
    "collapsed": false,
    "jupyter": {
     "outputs_hidden": false
    }
   },
   "source": [
    "### Step 4: Extract Tabulated Summary of Adverse Reactions from the 4.8 section \n",
    "\n",
    "This section should include all adverse reactions for which, after thorough assessment, a causal relationship between the medicinal product and the adverse event is at least a reasonable possibility. These ADRs should be all reactions from:\n",
    "* Clinical trials\n",
    "* Post-authorisation safety studies\n",
    "* Spontaneous reporting\n",
    "\n",
    "#####  The tabulated list of adverse reactions in section 4.8:\n",
    "* Introduce table with short paragraph stating source of safety database\n",
    "* Separate tables are acceptable in exceptional cases where adverse profiles markedly differ depending on the use of the product.\n",
    "\n",
    "#####  Structure of the table: general considerations\n",
    "\n",
    "* Table should be written according to MedDRA system organ classification (SOC)\n",
    "* A pragmatic approach to the location of terms should be taken in order to make the identification of adverse reactions simpler and clinically appropriate for the reader\n",
    "* Within each SOC, adverse reactions should be ranked under headings of frequency, most frequent reactions first\n",
    "* Frequency grouping, adverse reactions should be presented in order of decreasing seriousness\n",
    "\n",
    "##### Frequency Grouping:\n",
    "* Very common (≥1/10)\n",
    "* Common (≥1/100 to <1/10)\n",
    "* Uncommon (≥1/1,000 to <1/100)\n",
    "* Rare (≥1/10,000 to <1/1,000)\n",
    "* Very rare (<1/10,000)\n",
    "* Frequency not known (cannot be estimated from the available data)\n",
    "\n",
    "#### SmPCs Examples\n",
    "\n",
    "<img src=\"./images/SmPCs_example.png\" width=\"500px;\">\n",
    "\n",
    "\n",
    "## MedDRA\n",
    "MedDRA is a multilingual terminology allowing most users to operate in their native languages. The table below identifies the initial MedDRA version when each MedDRA language was made available to users. \n",
    "\n",
    "<br />\n",
    "\n",
    "<img src=\"./images/MedDRA_Hierarchy.png\" width=\"500px;\">\n",
    "\n",
    "<br />\n",
    "\n",
    "The most important reason to “code” data into a standardised terminology is to analyse it. A key benefit of MedDRA is in its support of straightforward as well as sophisticated analyses. MedDRA can be used to analyse individual medical events (e.g., “Influenza”) or issues involving a system, organ or aetiology (e.g., infections) using its hierarchical structure. MedDRA can be used for signal detection and monitoring of clinical syndromes whose symptoms encompass numerous systems or organs using its multiaxial hierarchy or through the special feature of Standardised MedDRA Queries.\n",
    "\n",
    "<br />\n",
    "\n",
    "### MedDRA Hierarchy\n",
    "\n",
    "The structure of MedDRA is very logical. There are five levels to the MedDRA hierarchy, arranged from very specific to very general.\n",
    "\n",
    "<br />\n",
    "\n",
    "Download [MedDRA codes](https://www.ema.europa.eu/en/documents/other/meddra-important-medical-event-terms-list-version-261_en.xlsx) and extract the unique values from the SOC Name column"
   ]
  },
  {
   "cell_type": "code",
   "execution_count": 60,
   "id": "919f7a90-3b85-46da-ad44-0682ac37769d",
   "metadata": {
    "ExecuteTime": {
     "end_time": "2023-12-28T10:27:03.258848Z",
     "start_time": "2023-12-28T10:27:02.365652Z"
    },
    "scrolled": true
   },
   "outputs": [],
   "source": [
    "medra = pd.read_excel(os.path.join(PATH, \"MedDRA\", \"meddra-important-medical-event-terms-list-version-261_en.xlsx\"))\n",
    "socList = [\".*\" + term.replace(\",\", \"\").replace(\" \", \".*\") + \".*\" for term in medra['SOC Name'].unique()]\n",
    "SOCListRegex = '(?:% s)' % '|'.join(socList)\n",
    "regexSOC = re.compile(SOCListRegex)"
   ]
  },
  {
   "cell_type": "code",
   "execution_count": 3,
   "id": "f60a0098-7946-4574-bcf7-f8e23aa21e70",
   "metadata": {},
   "outputs": [],
   "source": [
    "extra_terms = [\"Infections – bacterial\" , \"Infections – viral\", \"Infections – pathogen unspecified\",  \"Infections – fungal\"]"
   ]
  },
  {
   "cell_type": "code",
   "execution_count": 59,
   "id": "c7fa5097-5b86-45b7-b0b9-a4313505f79e",
   "metadata": {},
   "outputs": [],
   "source": [
    "medra = pd.read_excel(os.path.join(PATH, \"MedDRA\", \"meddra-important-medical-event-terms-list-version-261_en.xlsx\"))\n",
    "ptList = list(medra['PT Name'].unique()) # + extra_terms\n",
    "PTListRegex = '(?:% s)' % '|'.join(ptList) \n",
    "regexPT = re.compile(PTListRegex)"
   ]
  },
  {
   "cell_type": "code",
   "execution_count": 57,
   "id": "2d698e57-a56e-465f-a719-809842bd88de",
   "metadata": {},
   "outputs": [
    {
     "name": "stdout",
     "output_type": "stream",
     "text": [
      "Start Processing Filename:  ./data/pdfs/abecma-epar-product-information_en.pdf\n"
     ]
    },
    {
     "name": "stderr",
     "output_type": "stream",
     "text": [
      "/var/folders/ks/61tstkzx4rj7v0my891xbvx40000gn/T/ipykernel_41646/4132718398.py:39: UserWarning: This pattern is interpreted as a regular expression, and has match groups. To actually get the groups, use str.extract.\n",
      "  if df[0].str.contains(regexSOC, regex=True).any():\n"
     ]
    },
    {
     "name": "stdout",
     "output_type": "stream",
     "text": [
      "Table 3 has SOC elements\n",
      "The table:  3 1st Row:  0      System organ class\n",
      "1        Adverse reaction\n",
      "2    All grades frequency\n",
      "Name: 0, dtype: object\n",
      "Case A: Table has 3 columns SOC, AR, FR\n",
      "Item:  Infections and infestationsa\n",
      "Item:  Infections – bacterial Infections – viral Infections – pathogen unspecified Infections – fungal\n",
      "Item:  Very common Very common  Very common Common\n",
      "Item:  Blood and lymphatic system disorders\n",
      "Item:  Neutropenia Leucopenia Thrombocytopenia Febrile neutropenia Lymphopenia Anaemia Disseminated intravascular coagulation\n",
      "Item:  Very common Very common  Very common Very common  Very common Very common  Common\n",
      "Item:  Immune system disorders\n",
      "Item:  Cytokine release syndrome Hypogammaglobulinaemia Haemophagocytic lymphohistiocytosis*\n",
      "Item:  Very common Very common Common\n",
      "Item:  Metabolism and nutrition disorders\n",
      "Item:  Hypophosphataemia Hypokalaemia Hyponatraemia Hypocalcaemia Hypoalbuminaemia Decreased appetite Hypomagnesaemia\n",
      "Item:  Very common Very common  Very common  Very common  Very common Very common  Very common\n",
      "Item:  Psychiatric disorders\n",
      "Item:  Deliriumb  Insomnia\n",
      "Item:  Common Common\n",
      "Table 4 has SOC elements\n",
      "The table:  4 1st Row:  0      System organ class\n",
      "1        Adverse reaction\n",
      "2    All grades frequency\n",
      "Name: 0, dtype: object\n",
      "Case A: Table has 3 columns SOC, AR, FR\n",
      "Item:  Nervous system disorders\n",
      "Item:  Encephalopathyc Headache*  Dizzinessd Seizure Hemiparesis Aphasiae  Ataxiaf  Motor dysfunctiong  Tremor\n",
      "Item:  Very common Very common  Very common Common Common Common Common Common Common\n",
      "Item:  Cardiac disorders\n",
      "Item:  Tachycardia* Atrial fibrillation*\n",
      "Item:  Very common Common\n",
      "Item:  Vascular disorders\n",
      "Item:  Hypertension Hypotension*h\n",
      "Item:  Very common Very common\n",
      "Item:  Respiratory, thoracic, and mediastinal disorders\n",
      "Item:  Dyspnoea  Cough Pulmonary oedema Hypoxia*\n",
      "Item:  Very common Very common Common Common\n",
      "Item:  Gastrointestinal disorders\n",
      "Item:  Vomiting Diarrhoea Nausea Constipation Gastrointestinal haemorrhagei\n",
      "Item:  Very common Very common Very common Very common Common\n",
      "Item:  Musculoskeletal and connective tissue disorders\n",
      "Item:  Arthralgia Myalgia\n",
      "Item:  Very common Common\n",
      "Item:  General disorders and administration site conditions\n",
      "Item:  Pyrexia* Fatigue*j Asthenia Oedemak Chills*\n",
      "Item:  Very common Very common Very common Very common Very common\n",
      "Item:  Investigations\n",
      "Item:  Alanine aminotransferase increased Aspartate aminotransferase increased Blood alkaline phosphatase increased C-reactive protein increased*\n",
      "Item:  Very common Very common Very common Common\n",
      "Start Processing Filename:  ./data/pdfs/abevmy-epar-product-information_en.pdf\n"
     ]
    },
    {
     "name": "stderr",
     "output_type": "stream",
     "text": [
      "/var/folders/ks/61tstkzx4rj7v0my891xbvx40000gn/T/ipykernel_41646/4132718398.py:39: UserWarning: This pattern is interpreted as a regular expression, and has match groups. To actually get the groups, use str.extract.\n",
      "  if df[0].str.contains(regexSOC, regex=True).any():\n",
      "/var/folders/ks/61tstkzx4rj7v0my891xbvx40000gn/T/ipykernel_41646/4132718398.py:81: UserWarning: This pattern is interpreted as a regular expression, and has match groups. To actually get the groups, use str.extract.\n",
      "  elif df.iloc[0].astype(str).str.contains(freq_regex).any():\n",
      "/var/folders/ks/61tstkzx4rj7v0my891xbvx40000gn/T/ipykernel_41646/4132718398.py:39: UserWarning: This pattern is interpreted as a regular expression, and has match groups. To actually get the groups, use str.extract.\n",
      "  if df[0].str.contains(regexSOC, regex=True).any():\n",
      "/var/folders/ks/61tstkzx4rj7v0my891xbvx40000gn/T/ipykernel_41646/4132718398.py:81: UserWarning: This pattern is interpreted as a regular expression, and has match groups. To actually get the groups, use str.extract.\n",
      "  elif df.iloc[0].astype(str).str.contains(freq_regex).any():\n",
      "/var/folders/ks/61tstkzx4rj7v0my891xbvx40000gn/T/ipykernel_41646/4132718398.py:39: UserWarning: This pattern is interpreted as a regular expression, and has match groups. To actually get the groups, use str.extract.\n",
      "  if df[0].str.contains(regexSOC, regex=True).any():\n",
      "/var/folders/ks/61tstkzx4rj7v0my891xbvx40000gn/T/ipykernel_41646/4132718398.py:81: UserWarning: This pattern is interpreted as a regular expression, and has match groups. To actually get the groups, use str.extract.\n",
      "  elif df.iloc[0].astype(str).str.contains(freq_regex).any():\n",
      "/var/folders/ks/61tstkzx4rj7v0my891xbvx40000gn/T/ipykernel_41646/4132718398.py:39: UserWarning: This pattern is interpreted as a regular expression, and has match groups. To actually get the groups, use str.extract.\n",
      "  if df[0].str.contains(regexSOC, regex=True).any():\n",
      "/var/folders/ks/61tstkzx4rj7v0my891xbvx40000gn/T/ipykernel_41646/4132718398.py:81: UserWarning: This pattern is interpreted as a regular expression, and has match groups. To actually get the groups, use str.extract.\n",
      "  elif df.iloc[0].astype(str).str.contains(freq_regex).any():\n",
      "/var/folders/ks/61tstkzx4rj7v0my891xbvx40000gn/T/ipykernel_41646/4132718398.py:39: UserWarning: This pattern is interpreted as a regular expression, and has match groups. To actually get the groups, use str.extract.\n",
      "  if df[0].str.contains(regexSOC, regex=True).any():\n",
      "/var/folders/ks/61tstkzx4rj7v0my891xbvx40000gn/T/ipykernel_41646/4132718398.py:81: UserWarning: This pattern is interpreted as a regular expression, and has match groups. To actually get the groups, use str.extract.\n",
      "  elif df.iloc[0].astype(str).str.contains(freq_regex).any():\n",
      "/var/folders/ks/61tstkzx4rj7v0my891xbvx40000gn/T/ipykernel_41646/4132718398.py:39: UserWarning: This pattern is interpreted as a regular expression, and has match groups. To actually get the groups, use str.extract.\n",
      "  if df[0].str.contains(regexSOC, regex=True).any():\n"
     ]
    },
    {
     "name": "stdout",
     "output_type": "stream",
     "text": [
      "Table 0 has SOC elements\n",
      "The table:  0 1st Row:  0    System organ \\nclass\n",
      "1             Very common\n",
      "2                  Common\n",
      "3                    Rare\n",
      "4               Very rare\n",
      "5               Not known\n",
      "Name: 0, dtype: object\n",
      "Case C: Table has frequencies in the first row\n",
      "Frequencies:  {1: 'Very common', 2: 'Common', 3: 'Rare', 4: 'Very rare', 5: 'Not known'}\n",
      "AR list: ['Necrotising fasciitisa']\n",
      "AR list: ['Anaphylactic shock']\n",
      "AR list: ['Dehydration']\n",
      "AR list: ['Hypertensive encephalopathya']\n",
      "Table 1 has SOC elements\n",
      "The table:  1 1st Row:  0    System organ \\nclass\n",
      "1             Very common\n",
      "2                  Common\n",
      "3                    Rare\n",
      "4               Very rare\n",
      "5               Not known\n",
      "Name: 0, dtype: object\n",
      "Case C: Table has frequencies in the first row\n",
      "Frequencies:  {1: 'Very common', 2: 'Common', 3: 'Rare', 4: 'Very rare', 5: 'Not known'}\n",
      "AR list: ['Gastrointestinal ulcera']\n",
      "AR list: ['Palmar']\n",
      "AR list: ['Lethargy']\n",
      "AR list: ['Weight decreased']\n",
      "Table 2 has SOC elements\n",
      "The table:  2 1st Row:  0    System organ \\nclass\n",
      "1             Very common\n",
      "2                  Common\n",
      "3                    Rare\n",
      "4               Not known\n",
      "Name: 0, dtype: object\n",
      "Case C: Table has frequencies in the first row\n",
      "Frequencies:  {1: 'Very common', 2: 'Common', 3: 'Rare', 4: 'Not known'}\n",
      "AR list: ['Necrotising fasciitisc']\n",
      "AR list: ['Anaphylactic shock']\n",
      "AR list: ['Peripheral sensory neuropathya']\n",
      "Table 4 has SOC elements\n",
      "The table:  4 1st Row:  0    MedDRA system organ \\nclass (SOC)\n",
      "1               Reactions (frequency*)\n",
      "Name: 0, dtype: object\n",
      "Table 5 has SOC elements\n",
      "The table:  5 1st Row:  0    MedDRA system organ \\nclass (SOC)\n",
      "1               Reactions (frequency*)\n",
      "Name: 0, dtype: object\n",
      "Start Processing Filename:  ./data/pdfs/abilify-maintena-epar-product-information_en.pdf\n",
      "Table 3 has SOC elements\n",
      "The table:  3 1st Row:  0             \n",
      "1       Common\n",
      "2     Uncommon\n",
      "3    Not known\n",
      "Name: 0, dtype: object\n",
      "Case C: Table has frequencies in the first row\n",
      "Frequencies:  {1: 'Common', 2: 'Uncommon', 3: 'Not known'}\n",
      "AR list: ['Weight increased ', 'Diabetes mellitus ', 'Weight decreased']\n",
      "AR list: ['Hyperglycaemia ', 'Hypercholesterolaemia ', 'Hyperinsulinaemia ', 'Hyperlipidaemia ', 'Hypertriglyceridaemia ', 'Appetite disorder']\n",
      "AR list: ['Anorexia ', 'Hyponatraemia']\n",
      "AR list: ['Agitation ', 'Anxiety ', 'Restlessness ', 'Insomnia']\n",
      "AR list: ['Suicidal ideation ', 'Psychotic disorder ', 'Hallucination ', 'Delusion ', 'Hypersexuality ', 'Panic reaction ', 'Depression ', 'Affect lability ', 'Apathy ', 'Dysphoria ', 'Sleep disorder ', 'Bruxism ', 'Libido decreased ', 'Mood altered']\n",
      "AR list: ['Completed suicide ', 'Suicide attempt ', 'Pathological gambling ', 'Impulse', 'Binge eating ', 'Compulsive shopping ', 'Poriomania ', 'Nervousness ', 'Aggression']\n",
      "AR list: ['Extrapyramidal disorder ', 'Akathisia ', 'Tremor ', 'Dyskinesia ', 'Sedation ', 'Somnolence ', 'Dizziness ', 'Headache']\n",
      "AR list: ['Dystonia ', 'Tardive dyskinesia ', 'Parkinsonism ', 'Movement disorder ', 'Psychomotor hyperactivity ', 'Restless legs syndrome ', 'Cogwheel rigidity ', 'Hypertonia ', 'Bradykinesia ', 'Drooling ', 'Dysgeusia ', 'Parosmia']\n",
      "AR list: ['Neuroleptic malignant syndrome ', 'Grand mal convulsion ', 'Serotonin syndrome ', 'Speech disorder']\n",
      "AR list: ['Oculogyric crisis ', 'Vision blurred ', 'Eye pain ', 'Diplopia ', 'Photophobia']\n",
      "AR list: ['Ventricular extrasystoles ', 'Bradycardia ', 'Tachycardia ', 'Electrocardiogram ', 'T wave amplitude decreased ', 'Electrocardiogram abnormal ', 'Electrocardiogram ', 'T wave inversion']\n",
      "AR list: ['Sudden unexplained death ', 'Cardiac arrest ', 'Torsades de pointes ', 'Ventricular arrhythmia ', 'T prolongation']\n",
      "AR list: ['Hypertension ', 'Orthostatic hypotension ', 'Blood pressure increased']\n",
      "AR list: ['Syncope ', 'Venous thromboembolism ']\n",
      "AR list: ['Cough ', 'Hiccups']\n",
      "AR list: ['Oropharyngeal spasm ', 'Laryngospasm ', 'Aspiration pneumonia']\n",
      "Table 5 has SOC elements\n",
      "The table:  5 1st Row:  0             \n",
      "1       Common\n",
      "2     Uncommon\n",
      "3    Not known\n",
      "Name: 0, dtype: object\n",
      "Case C: Table has frequencies in the first row\n",
      "Frequencies:  {1: 'Common', 2: 'Uncommon', 3: 'Not known'}\n",
      "AR list: ['Injection site pain ', 'Injection site induration ', 'Fatigue']\n",
      "AR list: ['Pyrexia ', 'Asthenia ', 'Gait disturbance ', 'Chest discomfort ', 'Injection site reaction ', 'Injection site erythema ', 'Injection site swelling ', 'Injection site discomfort ', 'Injection site pruritus ', 'Thirst ', 'Sluggishness']\n",
      "AR list: ['Blood creatine phosphokinase increased']\n",
      "AR list: ['Blood glucose increased ', 'Blood glucose decreased ', 'Glycosylated haemoglobin increased ', 'Waist circumference increased ', 'Blood cholesterol decreased ', 'Blood triglycerides decreased']\n",
      "AR list: ['Blood glucose fluctuation']\n"
     ]
    },
    {
     "name": "stderr",
     "output_type": "stream",
     "text": [
      "/var/folders/ks/61tstkzx4rj7v0my891xbvx40000gn/T/ipykernel_41646/4132718398.py:39: UserWarning: This pattern is interpreted as a regular expression, and has match groups. To actually get the groups, use str.extract.\n",
      "  if df[0].str.contains(regexSOC, regex=True).any():\n",
      "/var/folders/ks/61tstkzx4rj7v0my891xbvx40000gn/T/ipykernel_41646/4132718398.py:81: UserWarning: This pattern is interpreted as a regular expression, and has match groups. To actually get the groups, use str.extract.\n",
      "  elif df.iloc[0].astype(str).str.contains(freq_regex).any():\n",
      "/var/folders/ks/61tstkzx4rj7v0my891xbvx40000gn/T/ipykernel_41646/4132718398.py:39: UserWarning: This pattern is interpreted as a regular expression, and has match groups. To actually get the groups, use str.extract.\n",
      "  if df[0].str.contains(regexSOC, regex=True).any():\n",
      "/var/folders/ks/61tstkzx4rj7v0my891xbvx40000gn/T/ipykernel_41646/4132718398.py:81: UserWarning: This pattern is interpreted as a regular expression, and has match groups. To actually get the groups, use str.extract.\n",
      "  elif df.iloc[0].astype(str).str.contains(freq_regex).any():\n",
      "/var/folders/ks/61tstkzx4rj7v0my891xbvx40000gn/T/ipykernel_41646/4132718398.py:39: UserWarning: This pattern is interpreted as a regular expression, and has match groups. To actually get the groups, use str.extract.\n",
      "  if df[0].str.contains(regexSOC, regex=True).any():\n"
     ]
    }
   ],
   "source": [
    "pattern = re.compile(\"System\\s*organ\\s*class\", re.IGNORECASE)\n",
    "freq_regex = re.compile(\"(?i)(Very common|Common|Uncommon|Rare|Very rare|Frequency not known|Not known)\")\n",
    "\n",
    "\n",
    "for file in [\n",
    "    # 3 Columns\n",
    "        # Line-seperated\n",
    "        'abecma-epar-product-information_en.pdf',\n",
    "    \n",
    "        # Comma-seperated\n",
    "        # 'abseamed-epar-product-information_en.pdf',\n",
    "\n",
    "        # 2 Columns\n",
    "        #'abiraterone-accord-epar-product-information_en.pdf'\n",
    "    \n",
    "        # AR in the first row\n",
    "        # Comma-seperated\n",
    "        'abevmy-epar-product-information_en.pdf',\n",
    "    \n",
    "        # Line-seperated\n",
    "        'abilify-maintena-epar-product-information_en.pdf',\n",
    "    ]: \n",
    "\n",
    "    if file.lower().endswith('.pdf'):\n",
    "        filename = file.split('/')[-1].split('-')[0]\n",
    "        fullpath = os.path.join(PATH, 'pdfs', file)\n",
    "        \n",
    "        print(\"Start Processing Filename: \", fullpath)\n",
    "\n",
    "        tables = camelot.read_pdf(fullpath, pages='all', flavor='lattice', line_scale=80, shift_text = ['', 'l'], process_background=False)\n",
    "\n",
    "        for i, table in enumerate(tables):\n",
    "            df = table.df\n",
    "            AD_list = []\n",
    "            FR_list = []\n",
    "            SOC_list = []\n",
    "            \n",
    "            # Tables that have SOC in the first row \n",
    "            if df[0].str.contains(regexSOC, regex=True).any():\n",
    "                print(f\"Table {i} has SOC elements\")\n",
    "                print(\"The table: \", i, \"1st Row: \" , df.iloc[0])\n",
    "\n",
    "        \n",
    "                if len(df.iloc[0]) == 3:\n",
    "                    print(\"Case A: Table has 3 columns SOC, AR, FR\")\n",
    "    \n",
    "                    for index, row in df.iterrows():\n",
    "                        if index == 0:\n",
    "                            continue\n",
    "                            \n",
    "                        for item in row:\n",
    "                            print(\"Item: \", item.replace(\"\\n\", \"\"))\n",
    "                            if item:\n",
    "                                if freq_regex.search(item):\n",
    "                                    FR_list += item.split('\\n')\n",
    "                                elif regexSOC.search(item.replace(\"\\n\", \"\")):\n",
    "                                    SOC_list += item.split('\\n')\n",
    "                                else:\n",
    "                                    AD_list += item.split('\\n')\n",
    "\n",
    "                elif len(df.iloc[0]) == 2:\n",
    "                    print(\"Case B: Table has 2 columns SOC, AR,FR\")\n",
    "\n",
    "                    for index, row in df.iterrows():\n",
    "                            if index == 0:\n",
    "                                continue\n",
    "                                \n",
    "                            for item in row:\n",
    "                                print(\"Item: \", item)\n",
    "                                if item:\n",
    "                                    if freq_regex.search(item):\n",
    "                                        phrases = item.split('\\n')\n",
    "\n",
    "                                        for phrase in phrases:\n",
    "                                            freq, ar = phrase.split(':')\n",
    "                                            print(\"x: \", x)\n",
    "                                            print(\"freq: \", freq)\n",
    "                                            print(\"ar: \", ar)\n",
    "                                            \n",
    "\n",
    "                elif df.iloc[0].astype(str).str.contains(freq_regex).any():\n",
    "                    print(\"Case C: Table has frequencies in the first row\")\n",
    "                    \n",
    "                    for index, row in df.iterrows():\n",
    "                        if index == 0:\n",
    "                            frequencies_dict = row.to_dict()\n",
    "                            frequencies_dict.pop(0)\n",
    "                            print(\"Frequencies: \", frequencies_dict)\n",
    "                            continue\n",
    "\n",
    "                        count = 0\n",
    "                        for item in row:\n",
    "                            if count == 0:\n",
    "                                count += 1\n",
    "                                continue\n",
    "\n",
    "                            if item:\n",
    "                                if ',' in item:\n",
    "                                    ar_list = [item.replace(\"\\n\", \"\") for item in item.split(',') if len(item) > 2]\n",
    "                                else:\n",
    "                                    ar_list = [item.replace(\"\\n\", \"\") for item in re.findall(r'(?:[A-Z][a-z\\s]+)', item) if len(item) > 2] \n",
    "                                    print(f\"AR list: {ar_list}\")\n",
    "                                \n",
    "                                AD_list += ar_list\n",
    "                                FR_list += [frequencies_dict[count] for _ in range(len(ar_list))]\n",
    "\n",
    "                            count += 1\n",
    "                            \n",
    "                pd.DataFrame({'ADR': AD_list, 'FREQ': FR_list}).to_csv(os.path.join(PATH, \"extracted_tables\", filename + \".csv\"), sep=';', encoding='utf-8', index=False,  mode='a', header=False)"
   ]
  }
 ],
 "metadata": {
  "kernelspec": {
   "display_name": "venv",
   "language": "python",
   "name": "venv"
  },
  "language_info": {
   "codemirror_mode": {
    "name": "ipython",
    "version": 3
   },
   "file_extension": ".py",
   "mimetype": "text/x-python",
   "name": "python",
   "nbconvert_exporter": "python",
   "pygments_lexer": "ipython3",
   "version": "3.11.6"
  }
 },
 "nbformat": 4,
 "nbformat_minor": 5
}
